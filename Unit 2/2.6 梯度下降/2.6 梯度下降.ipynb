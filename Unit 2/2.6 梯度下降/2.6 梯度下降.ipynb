{
 "cells": [
  {
   "cell_type": "markdown",
   "metadata": {},
   "source": [
    "### 任务描述"
   ]
  },
  {
   "cell_type": "markdown",
   "metadata": {},
   "source": [
    "掌握梯度下降的基本概念，目的以及方法，能够利用梯度下降算法求解最小值。"
   ]
  },
  {
   "cell_type": "markdown",
   "metadata": {},
   "source": [
    "**基本概念**"
   ]
  },
  {
   "cell_type": "markdown",
   "metadata": {},
   "source": [
    "梯度下降法目的是为了“下降”，下降的方法是按照“梯度”。"
   ]
  },
  {
   "cell_type": "markdown",
   "metadata": {},
   "source": [
    "比如你在一座山上，当前你只能迈出一步，如何走才能使你的高度下降的最多呢，根据梯度的理论，我们沿着当前梯度的反方向走，会让我们的下降幅度最大。"
   ]
  },
  {
   "cell_type": "markdown",
   "metadata": {},
   "source": [
    "上述例子中，山就是一个函数，在山上的你就是函数中待优化的变量，人的坐标表示变量初始值，我们要 求的是函数最小值即到达山底，人该如何走即如何迭代变量。所以我们只要沿着函数梯度的反方向，就能最快的到达我们要去的地方。"
   ]
  },
  {
   "cell_type": "markdown",
   "metadata": {},
   "source": [
    "梯度下降是一种更新参数的方法，具体如何更新跟原函数的在某点的梯度有关。不会改变要求的最优解。"
   ]
  },
  {
   "cell_type": "markdown",
   "metadata": {},
   "source": [
    "我们可以利用梯度下降法求最大值和最小值，求最大值沿着梯度方向走即可，求最小值则沿着梯度的反方向走。"
   ]
  },
  {
   "cell_type": "markdown",
   "metadata": {},
   "source": [
    "**公式**"
   ]
  },
  {
   "cell_type": "markdown",
   "metadata": {},
   "source": [
    "**抽象的公式为：**"
   ]
  },
  {
   "cell_type": "markdown",
   "metadata": {},
   "source": [
    "$\\theta^{next}=\\theta^{now}-\\alpha\\nabla f(\\theta^{now})$"
   ]
  },
  {
   "cell_type": "markdown",
   "metadata": {},
   "source": [
    "$\\theta^{next}$:x在下个时刻的坐标"
   ]
  },
  {
   "cell_type": "markdown",
   "metadata": {},
   "source": [
    "$\\theta^{now}$：x在当前时刻的坐标"
   ]
  },
  {
   "cell_type": "markdown",
   "metadata": {},
   "source": [
    "$\\alpha$：步长，每一步走多远，即学习率"
   ]
  },
  {
   "cell_type": "markdown",
   "metadata": {},
   "source": [
    "$\\nabla f(\\theta^{now})$：目标函数$f(x)$在$\\theta^{now}$点的导数"
   ]
  },
  {
   "cell_type": "markdown",
   "metadata": {},
   "source": [
    "**举例**"
   ]
  },
  {
   "cell_type": "markdown",
   "metadata": {},
   "source": [
    "目标函数$y=x^2$，学习率$\\alpha=0.1$，当前位置$x=1$，要求y最小值，则下一时刻x的值应该更新为多少呢。"
   ]
  },
  {
   "cell_type": "markdown",
   "metadata": {},
   "source": [
    "$x=1-0.1*2.1=0.8$，此时的$x$比$x=1$的时候更接近0这个最小值。这就是一元变量下的梯度下降算法，多元变量也是一样的，只是求梯度时有些许不同而已。"
   ]
  },
  {
   "cell_type": "markdown",
   "metadata": {},
   "source": [
    "**梯度下降算法求解最小值**"
   ]
  },
  {
   "cell_type": "markdown",
   "metadata": {},
   "source": [
    "**（1）$\\theta$更新过程：**"
   ]
  },
  {
   "cell_type": "markdown",
   "metadata": {},
   "source": [
    "![jupyter](https://i.loli.net/2021/05/22/VldTkbpvLJxz8ur.png)"
   ]
  },
  {
   "cell_type": "markdown",
   "metadata": {},
   "source": [
    "$\\theta$更新过程可以写成："
   ]
  },
  {
   "cell_type": "markdown",
   "metadata": {},
   "source": [
    "![jupyter](https://i.loli.net/2021/05/22/zecQfyXhnTbkFO6.png)"
   ]
  },
  {
   "cell_type": "markdown",
   "metadata": {},
   "source": [
    "**（2）向量化**"
   ]
  },
  {
   "cell_type": "markdown",
   "metadata": {},
   "source": [
    "约定训练数据的矩阵形式如下，x的每一行为一条训练样本，而每一列为不同的特称取值："
   ]
  },
  {
   "cell_type": "markdown",
   "metadata": {},
   "source": [
    "![jupyter](https://i.loli.net/2021/05/22/GAEFgtiyDprfvUO.png)"
   ]
  },
  {
   "cell_type": "markdown",
   "metadata": {},
   "source": [
    "![jupyter](https://i.loli.net/2021/05/22/HI6SKYkiWoCEL72.png)"
   ]
  },
  {
   "cell_type": "markdown",
   "metadata": {},
   "source": [
    "![jupyter](https://i.loli.net/2021/05/22/D8wISCxm3bsV2jJ.png)"
   ]
  },
  {
   "cell_type": "markdown",
   "metadata": {},
   "source": [
    "$g(A)$的参数A为一列向量，所以实现g函数时要支持列向量作为参数，并返回列向量。θ更新过程可以改为："
   ]
  },
  {
   "cell_type": "markdown",
   "metadata": {},
   "source": [
    "![jupyter](https://i.loli.net/2021/05/22/Ghd1QrvYVMoKpJj.png)"
   ]
  },
  {
   "cell_type": "markdown",
   "metadata": {},
   "source": [
    "**（3）正则化**"
   ]
  },
  {
   "cell_type": "markdown",
   "metadata": {},
   "source": [
    "过拟合即是过分拟合了训练数据，使得模型的复杂度提高，繁华能力较差（对未知数据的预测能力）"
   ]
  },
  {
   "cell_type": "markdown",
   "metadata": {},
   "source": [
    "左图即为欠拟合，中图为合适的拟合，右图为过拟合。"
   ]
  },
  {
   "cell_type": "markdown",
   "metadata": {},
   "source": [
    "![jupyter](https://i.loli.net/2021/05/22/mTClcUgidaBt73p.png)"
   ]
  },
  {
   "cell_type": "markdown",
   "metadata": {},
   "source": [
    "正则化是结构风险最小化策略的实现，是在经验风险上加一个正则化项或惩罚项。正则化项一般是模型复杂度的单调递增函数，模型越复杂，正则化项就越大。"
   ]
  },
  {
   "cell_type": "markdown",
   "metadata": {},
   "source": [
    "正则项可以取不同的形式，在回归问题中取平方损失，就是参数的L2范数，也可以取L1范数。取平方损失时，模型的损失函数变为："
   ]
  },
  {
   "cell_type": "markdown",
   "metadata": {},
   "source": [
    "![jupyter](https://i.loli.net/2021/05/22/5RIQTWECUNct7sd.png)"
   ]
  },
  {
   "cell_type": "markdown",
   "metadata": {},
   "source": [
    "正则化后的梯度下降算法$\\theta$的更新变为："
   ]
  },
  {
   "cell_type": "markdown",
   "metadata": {},
   "source": [
    "![jupyter](https://i.loli.net/2021/05/22/yDVExjBfRgSMdhQ.png)"
   ]
  },
  {
   "cell_type": "markdown",
   "metadata": {},
   "source": [
    "**代码实现**"
   ]
  },
  {
   "cell_type": "markdown",
   "metadata": {},
   "source": [
    "下面我们将用python比较三种不同的梯度下降算法。"
   ]
  },
  {
   "cell_type": "markdown",
   "metadata": {},
   "source": [
    "首先，加载原始数据集"
   ]
  },
  {
   "cell_type": "code",
   "execution_count": 9,
   "metadata": {},
   "outputs": [],
   "source": [
    "import pandas as pd\n",
    "import numpy as np\n",
    "import time\n",
    "import matplotlib.pyplot as plt\n",
    "def loaddata(filename):\n",
    "    \"\"\"\n",
    "    加载数据集\n",
    "    data: 原始数据集\n",
    "    return: 特征数据x与标签类别数据y\n",
    "    \"\"\"\n",
    "    dataSet = pd.read_table(filename, header=None)\n",
    "    dataSet.columns = ['X1', 'X2', 'label']\n",
    "    dataSet.insert(0, 'X0', 1)\n",
    "    columns = [i for i in dataSet.columns if i != 'label']\n",
    "    data_x = dataSet[columns]\n",
    "    data_y = dataSet[['label']]\n",
    "    return data_x,data_y"
   ]
  },
  {
   "cell_type": "markdown",
   "metadata": {},
   "source": [
    "sigmoid函数"
   ]
  },
  {
   "cell_type": "code",
   "execution_count": 10,
   "metadata": {},
   "outputs": [],
   "source": [
    "def sigmoid(y):\n",
    "    s = 1.0/(1.0+np.exp(-y))\n",
    "    return s"
   ]
  },
  {
   "cell_type": "markdown",
   "metadata": {},
   "source": [
    "计算损失函数"
   ]
  },
  {
   "cell_type": "code",
   "execution_count": 11,
   "metadata": {},
   "outputs": [],
   "source": [
    "def cost(xMat,weights,yMat):\n",
    "    m, n = xMat.shape\n",
    "    hypothesis = sigmoid(np.dot(xMat, weights))  # 预测值\n",
    "    cost = (-1.0 / m) * np.sum(yMat.T * np.log(hypothesis) + (1 - yMat).T * np.log(1 - hypothesis))  # 损失函数\n",
    "    return cost"
   ]
  },
  {
   "cell_type": "markdown",
   "metadata": {},
   "source": [
    "使用批量梯度下降法BGD求解逻辑回归"
   ]
  },
  {
   "cell_type": "code",
   "execution_count": 12,
   "metadata": {},
   "outputs": [],
   "source": [
    "def BGD_LR(data_x,data_y,alpha=0.1,maxepochs=10000,epsilon=1e-4):\n",
    "    starttime = time.time()\n",
    "    xMat = np.mat(data_x)\n",
    "    yMat = np.mat(data_y)\n",
    "    m,n = xMat.shape\n",
    "    weights = np.ones((n,1)) #初始化模型参数\n",
    "    epochs_count = 0\n",
    "    loss_list = []\n",
    "    epochs_list = []\n",
    "    while epochs_count < maxepochs:\n",
    "        loss = cost(xMat,weights,yMat) #上一次损失值\n",
    "        hypothesis = sigmoid(np.dot(xMat,weights)) #预测值\n",
    "        error = hypothesis -yMat #预测值与实际值误差\n",
    "        grad = (1.0/m)*np.dot(xMat.T,error) #损失函数的梯度\n",
    "        last_weights = weights #上一轮迭代的参数\n",
    "        weights = weights - alpha*grad #参数更新\n",
    "        loss_new = cost(xMat,weights,yMat)#当前损失值\n",
    "        if abs(loss_new-loss)<epsilon:#终止条件\n",
    "            break\n",
    "        loss_list.append(loss_new)\n",
    "        epochs_list.append(epochs_count)\n",
    "        epochs_count += 1\n",
    "    print(loss_new)\n",
    "    print(\"批量梯度下降算法耗时：\", time.time() - starttime)\n",
    "    print('迭代到第{}次，结束迭代！'.format(epochs_count))\n",
    "    plt.plot(epochs_list,loss_list)\n",
    "    plt.xlabel('epochs')\n",
    "    plt.ylabel('loss')\n",
    "    plt.show()\n",
    "    return weights"
   ]
  },
  {
   "cell_type": "markdown",
   "metadata": {},
   "source": [
    "使用SGD求解逻辑回归"
   ]
  },
  {
   "cell_type": "code",
   "execution_count": 13,
   "metadata": {},
   "outputs": [],
   "source": [
    "def SGD_LR(data_x, data_y, alpha=0.1, maxepochs=10000,epsilon=1e-4):\n",
    "    \"\"\"\n",
    "    使用SGD求解逻辑回归\n",
    "    data_x: 特征数据\n",
    "    data_y: 标签数据\n",
    "    aplha: 步长，该值越大梯度下降幅度越大\n",
    "    maxepochs: 最大迭代次数\n",
    "    epsilon: 损失精度\n",
    "    return: 模型参数\n",
    "    \"\"\"\n",
    "    starttime = time.time()\n",
    "    xMat = np.mat(data_x)\n",
    "    yMat = np.mat(data_y)\n",
    "    m, n = xMat.shape\n",
    "    weights = np.ones((n, 1))  # 模型参数\n",
    "    epochs_count = 0\n",
    "    loss_list = []\n",
    "    epochs_list = []\n",
    "    while epochs_count < maxepochs:\n",
    "        rand_i = np.random.randint(m)  # 随机取一个样本\n",
    "        loss = cost(xMat,weights,yMat) #前一次迭代的损失值\n",
    "        hypothesis = sigmoid(np.dot(xMat[rand_i,:],weights)) #预测值\n",
    "        error = hypothesis -yMat[rand_i,:] #预测值与实际值误差\n",
    "        grad = np.dot(xMat[rand_i,:].T,error) #损失函数的梯度\n",
    "        weights = weights - alpha*grad #参数更新\n",
    "        loss_new = cost(xMat,weights,yMat)#当前迭代的损失值\n",
    "        if abs(loss_new-loss)<epsilon:\n",
    "            break\n",
    "        loss_list.append(loss_new)\n",
    "        epochs_list.append(epochs_count)\n",
    "        epochs_count += 1\n",
    "    print(loss_new)\n",
    "    print(\"随机梯度下降算法耗时：\", time.time() - starttime)\n",
    "    print('迭代到第{}次，结束迭代！'.format(epochs_count))\n",
    "    plt.plot(epochs_list,loss_list)\n",
    "    plt.xlabel('epochs')\n",
    "    plt.ylabel('loss')\n",
    "    plt.show()\n",
    "    return weights"
   ]
  },
  {
   "cell_type": "markdown",
   "metadata": {},
   "source": [
    "使用MBGD求解逻辑回归"
   ]
  },
  {
   "cell_type": "code",
   "execution_count": 14,
   "metadata": {},
   "outputs": [],
   "source": [
    "def MBGD_LR(data_x, data_y, alpha=0.1,batch_size=10, maxepochs=10000,epsilon=1e-4):\n",
    "    starttime = time.time()\n",
    "    xMat = np.mat(data_x)\n",
    "    yMat = np.mat(data_y)\n",
    "    m, n = xMat.shape\n",
    "    weights = np.ones((n, 1))  # 模型参数\n",
    "    epochs_count = 0\n",
    "    loss_list = []\n",
    "    epochs_list = []\n",
    "    while epochs_count < maxepochs:\n",
    "        randIndex = np.random.choice(range(len(xMat)), batch_size, replace=False)\n",
    "        loss = cost(xMat,weights,yMat) #前一次迭代的损失值\n",
    "        hypothesis = sigmoid(np.dot(xMat[randIndex],weights)) #预测值\n",
    "        error = hypothesis -yMat[randIndex] #预测值与实际值误差\n",
    "        grad = (1.0/batch_size)*np.dot(xMat[randIndex].T,error) #损失函数的梯度\n",
    "        weights = weights - alpha*grad #参数更新\n",
    "        loss_new = cost(xMat,weights,yMat)#当前迭代的损失值\n",
    "        if abs(loss_new-loss)<epsilon:\n",
    "            break\n",
    "        loss_list.append(loss_new)\n",
    "        epochs_list.append(epochs_count)\n",
    "        epochs_count += 1\n",
    "    print(loss_new)\n",
    "    print(\"小批量梯度下降算法耗时：\", time.time() - starttime)\n",
    "    print('迭代到第{}次，结束迭代！'.format(epochs_count))\n",
    "    plt.plot(epochs_list,loss_list)\n",
    "    plt.xlabel('epochs')\n",
    "    plt.ylabel('loss')\n",
    "    plt.show()\n",
    "    return weights\n"
   ]
  },
  {
   "cell_type": "code",
   "execution_count": 15,
   "metadata": {},
   "outputs": [
    {
     "name": "stdout",
     "output_type": "stream",
     "text": [
      "0.17834203018273223\n",
      "批量梯度下降算法耗时： 0.09075379371643066\n",
      "迭代到第571次，结束迭代！\n"
     ]
    },
    {
     "data": {
      "image/png": "[encoded data removed]",
      "text/plain": [
       "<Figure size 432x288 with 1 Axes>"
      ]
     },
     "metadata": {
      "needs_background": "light"
     },
     "output_type": "display_data"
    },
    {
     "name": "stdout",
     "output_type": "stream",
     "text": [
      "1.334950824631964\n",
      "随机梯度下降算法耗时： 0.007977008819580078\n",
      "迭代到第9次，结束迭代！\n"
     ]
    },
    {
     "data": {
      "image/png": "[encoded data removed]",
      "text/plain": [
       "<Figure size 432x288 with 1 Axes>"
      ]
     },
     "metadata": {
      "needs_background": "light"
     },
     "output_type": "display_data"
    },
    {
     "name": "stdout",
     "output_type": "stream",
     "text": [
      "0.2237792860065808\n",
      "小批量梯度下降算法耗时： 0.07081103324890137\n",
      "迭代到第259次，结束迭代！\n"
     ]
    },
    {
     "data": {
      "image/png": "[encoded data removed]",
      "text/plain": [
       "<Figure size 432x288 with 1 Axes>"
      ]
     },
     "metadata": {
      "needs_background": "light"
     },
     "output_type": "display_data"
    }
   ],
   "source": [
    "if __name__ == '__main__':\n",
    "    data_x,data_y = loaddata('testSet.txt')\n",
    "    weights_bgd = BGD_LR(data_x, data_y, alpha=0.1, maxepochs=10000, epsilon=1e-4)\n",
    "    weights_sgd = SGD_LR(data_x, data_y, alpha=0.1, maxepochs=10000, epsilon=1e-4)\n",
    "    weights_mbgd = MBGD_LR(data_x, data_y, alpha=0.1, batch_size=3, maxepochs=10000,epsilon=1e-4)"
   ]
  },
  {
   "cell_type": "markdown",
   "metadata": {},
   "source": [
    "### 编程要求"
   ]
  },
  {
   "cell_type": "markdown",
   "metadata": {},
   "source": [
    "复习以上内容，编写一个简单的梯度下降算法，通过给定的一系列的点，通过梯度下降算法拟合出一条直线。"
   ]
  },
  {
   "cell_type": "markdown",
   "metadata": {},
   "source": [
    "### 参考答案"
   ]
  },
  {
   "cell_type": "code",
   "execution_count": null,
   "metadata": {},
   "outputs": [],
   "source": [
    "from numpy import *\n",
    "\n",
    "# 数据集大小 即20个数据点\n",
    "m = 20\n",
    "# x的坐标以及对应的矩阵\n",
    "X0 = ones((m, 1))  # 生成一个m行1列的向量，也就是x0，全是1\n",
    "X1 = arange(1, m+1).reshape(m, 1)  # 生成一个m行1列的向量，也就是x1，从1到m\n",
    "X = hstack((X0, X1))  # 按照列堆叠形成数组，其实就是样本数据\n",
    "# 对应的y坐标\n",
    "Y = array([\n",
    "    3, 4, 5, 5, 2, 4, 7, 8, 11, 8, 12,\n",
    "    11, 13, 13, 16, 17, 18, 17, 19, 21\n",
    "]).reshape(m, 1)\n",
    "# 学习率\n",
    "alpha = 0.01\n",
    "\n",
    "\n",
    "# 定义代价函数\n",
    "def cost_function(theta, X, Y):\n",
    "    diff = dot(X, theta) - Y  # dot() 数组需要像矩阵那样相乘，就需要用到dot()\n",
    "    return (1/(2*m)) * dot(diff.transpose(), diff)\n",
    "\n",
    "\n",
    "# 定义代价函数对应的梯度函数\n",
    "def gradient_function(theta, X, Y):\n",
    "    diff = dot(X, theta) - Y\n",
    "    return (1/m) * dot(X.transpose(), diff)\n",
    "\n",
    "\n",
    "# 梯度下降迭代\n",
    "def gradient_descent(X, Y, alpha):\n",
    "    theta = array([1, 1]).reshape(2, 1)\n",
    "    gradient = gradient_function(theta, X, Y)\n",
    "    while not all(abs(gradient) <= 1e-5):\n",
    "        theta = theta - alpha * gradient\n",
    "        gradient = gradient_function(theta, X, Y)\n",
    "    return theta\n",
    "\n",
    "\n",
    "optimal = gradient_descent(X, Y, alpha)\n",
    "print('optimal:', optimal)\n",
    "print('cost function:', cost_function(optimal, X, Y)[0][0])\n",
    "\n",
    "\n",
    "# 根据数据画出对应的图像\n",
    "def plot(X, Y, theta):\n",
    "    import matplotlib.pyplot as plt\n",
    "    ax = plt.subplot(111)  # 这是我改的\n",
    "    ax.scatter(X, Y, s=30, c=\"red\", marker=\"s\")\n",
    "    plt.xlabel(\"X\")\n",
    "    plt.ylabel(\"Y\")\n",
    "    x = arange(0, 21, 0.2)  # x的范围\n",
    "    y = theta[0] + theta[1]*x\n",
    "    ax.plot(x, y)\n",
    "    plt.show()\n",
    "\n",
    "\n",
    "plot(X1, Y, optimal)\n"
   ]
  }
 ],
 "metadata": {
  "kernelspec": {
   "display_name": "Python 3",
   "language": "python",
   "name": "python3"
  },
  "language_info": {
   "codemirror_mode": {
    "name": "ipython",
    "version": 3
   },
   "file_extension": ".py",
   "mimetype": "text/x-python",
   "name": "python",
   "nbconvert_exporter": "python",
   "pygments_lexer": "ipython3",
   "version": "3.8.3"
  }
 },
 "nbformat": 4,
 "nbformat_minor": 4
}
