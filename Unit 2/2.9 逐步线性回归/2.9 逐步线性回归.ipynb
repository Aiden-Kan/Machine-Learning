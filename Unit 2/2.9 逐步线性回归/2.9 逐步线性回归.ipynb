{
 "cells": [
  {
   "cell_type": "markdown",
   "metadata": {},
   "source": [
    "### 任务描述"
   ]
  },
  {
   "cell_type": "markdown",
   "metadata": {},
   "source": [
    "理解前向逐步线性回归的基本概念，掌握前向逐步的算法原理，最终能够实现前向逐步线性回归。"
   ]
  },
  {
   "cell_type": "markdown",
   "metadata": {},
   "source": [
    "### 相关知识"
   ]
  },
  {
   "cell_type": "markdown",
   "metadata": {},
   "source": [
    "**基本概念**"
   ]
  },
  {
   "cell_type": "markdown",
   "metadata": {},
   "source": [
    "前向逐步线性回归算法属于一种贪心算法，即每一步都尽可能减少误差。我们计算回归系数，不再是通过公式计算，而是通过每次微调各个回归系数，然后计算预测误差。那个使误差最小的一组回归系数，就是我们需要的最佳回归系数。"
   ]
  },
  {
   "cell_type": "markdown",
   "metadata": {},
   "source": [
    "**基本原理**"
   ]
  },
  {
   "cell_type": "markdown",
   "metadata": {},
   "source": [
    "（1）在特征较多时，我们面临降低维度分析的问题，也就是统计学中的缩减，去掉不重要的参数，对数据进行降维，根据在特定领域中的知识或是理论假设，选择其中一些可能更有意义的变量进行后续分析。但不是任何情况下我们都掌握这些先验信息，所以基于数据本身的特征提取方法应运而生。"
   ]
  },
  {
   "cell_type": "markdown",
   "metadata": {},
   "source": [
    "（2）在 stepwise regression 中，提取哪些变量主要基于的假设是：在线性条件下，哪些变量组合能够解释更多的因变量变异，则将其保留。也就是那些参数的变化会更严重的影响到因变量（这些参数对因变量是主要影响因素）"
   ]
  },
  {
   "cell_type": "markdown",
   "metadata": {},
   "source": [
    "（3）逐步线性回归优点：构建一个模型后，利用本算法找出重要的特征，及时停止对不重要特征的收集"
   ]
  },
  {
   "cell_type": "markdown",
   "metadata": {},
   "source": [
    "**前向逐步算法原理分析**"
   ]
  },
  {
   "cell_type": "markdown",
   "metadata": {},
   "source": [
    "该算法使用两层循环，第一层是迭代次数，第二层是属性值。"
   ]
  },
  {
   "cell_type": "markdown",
   "metadata": {},
   "source": [
    "**主要步骤：**"
   ]
  },
  {
   "cell_type": "markdown",
   "metadata": {},
   "source": [
    "在每次迭代中，对每个属性值进行修改，然后使用修改后的属性值参数进行预测，通过计算差平方和，来判定修改是否有利于减少误差，再决定是否进行此次修改。"
   ]
  },
  {
   "cell_type": "markdown",
   "metadata": {},
   "source": [
    "就这样一步一步的去减少误差，总的方向是向着减少误差的方向前进，所以该算法命名为前向逐步算法"
   ]
  },
  {
   "cell_type": "markdown",
   "metadata": {},
   "source": [
    "**前向逐步线性回归实现**"
   ]
  },
  {
   "cell_type": "markdown",
   "metadata": {},
   "source": [
    "**加载数据**"
   ]
  },
  {
   "cell_type": "code",
   "execution_count": 2,
   "metadata": {},
   "outputs": [],
   "source": [
    "from matplotlib.font_manager import FontProperties\n",
    "import matplotlib.pyplot as plt\n",
    "import numpy as np\n",
    "def loadDataSet(fileName):\n",
    "    \"\"\"\n",
    "    函数说明:加载数据\n",
    "    Parameters:\n",
    "        fileName - 文件名\n",
    "    Returns:\n",
    "        xArr - x数据集\n",
    "        yArr - y数据集\n",
    "    \"\"\"\n",
    "    numFeat = len(open(fileName).readline().split('\\t')) - 1\n",
    "    xArr = []; yArr = []\n",
    "    fr = open(fileName)\n",
    "    for line in fr.readlines():\n",
    "        lineArr =[]\n",
    "        curLine = line.strip().split('\\t')\n",
    "        for i in range(numFeat):\n",
    "            lineArr.append(float(curLine[i]))\n",
    "        xArr.append(lineArr)\n",
    "        yArr.append(float(curLine[-1]))\n",
    "    return xArr, yArr"
   ]
  },
  {
   "cell_type": "markdown",
   "metadata": {},
   "source": [
    "**数据标准化**"
   ]
  },
  {
   "cell_type": "code",
   "execution_count": 3,
   "metadata": {},
   "outputs": [],
   "source": [
    "def regularize(xMat, yMat):\n",
    "    \"\"\"\n",
    "    函数说明:数据标准化\n",
    "    Parameters:\n",
    "        xMat - x数据集\n",
    "        yMat - y数据集\n",
    "    Returns:\n",
    "        inxMat - 标准化后的x数据集\n",
    "        inyMat - 标准化后的y数据集\n",
    "    \"\"\"    \n",
    "    inxMat = xMat.copy()                                                        #数据拷贝\n",
    "    inyMat = yMat.copy()\n",
    "    yMean = np.mean(yMat, 0)                                                    #行与行操作，求均值\n",
    "    inyMat = yMat - yMean                                                        #数据减去均值\n",
    "    inMeans = np.mean(inxMat, 0)                                                   #行与行操作，求均值\n",
    "    inVar = np.var(inxMat, 0)                                                     #行与行操作，求方差\n",
    "    inxMat = (inxMat - inMeans) / inVar                                            #数据减去均值除以方差实现标准化\n",
    "    return inxMat, inyMat"
   ]
  },
  {
   "cell_type": "markdown",
   "metadata": {},
   "source": [
    "**计算平方误差**"
   ]
  },
  {
   "cell_type": "code",
   "execution_count": 4,
   "metadata": {},
   "outputs": [],
   "source": [
    "def rssError(yArr,yHatArr):\n",
    "    \"\"\"\n",
    "    函数说明:计算平方误差\n",
    "    Parameters:\n",
    "        yArr - 预测值\n",
    "        yHatArr - 真实值\n",
    "    Returns:\n",
    "\n",
    "    \"\"\"\n",
    "    return ((yArr-yHatArr)**2).sum()"
   ]
  },
  {
   "cell_type": "markdown",
   "metadata": {},
   "source": [
    "**前向逐步线性回归**"
   ]
  },
  {
   "cell_type": "code",
   "execution_count": 5,
   "metadata": {},
   "outputs": [],
   "source": [
    "def stageWise(xArr, yArr, eps = 0.01, numIt = 100):\n",
    "    \"\"\"\n",
    "    函数说明:前向逐步线性回归\n",
    "    Parameters:\n",
    "        xArr - x输入数据\n",
    "        yArr - y预测数据\n",
    "        eps - 每次迭代需要调整的步长\n",
    "        numIt - 迭代次数\n",
    "    Returns:\n",
    "        returnMat - numIt次迭代的回归系数矩阵\n",
    "    \"\"\"\n",
    "    xMat = np.mat(xArr); yMat = np.mat(yArr).T                                         #数据集\n",
    "    xMat, yMat = regularize(xMat, yMat)                                                #数据标准化\n",
    "    m, n = np.shape(xMat)\n",
    "    returnMat = np.zeros((numIt, n))                                                #初始化numIt次迭代的回归系数矩阵\n",
    "    ws = np.zeros((n, 1))                                                            #初始化回归系数矩阵\n",
    "    wsTest = ws.copy()\n",
    "    wsMax = ws.copy()\n",
    "    for i in range(numIt):                                                            #迭代numIt次\n",
    "        # print(ws.T)                                                                    #打印当前回归系数矩阵\n",
    "        lowestError = float('inf');                                                 #正无穷\n",
    "        for j in range(n):                                                            #遍历每个特征的回归系数\n",
    "            for sign in [-1, 1]:\n",
    "                wsTest = ws.copy()\n",
    "                wsTest[j] += eps * sign                                                #微调回归系数\n",
    "                yTest = xMat * wsTest                                                #计算预测值\n",
    "                rssE = rssError(yMat.A, yTest.A)                                    #计算平方误差\n",
    "                if rssE < lowestError:                                                #如果误差更小，则更新当前的最佳回归系数\n",
    "                    lowestError = rssE\n",
    "                    wsMax = wsTest\n",
    "        ws = wsMax.copy()\n",
    "        returnMat[i,:] = ws.T                                                         #记录numIt次迭代的回归系数矩阵\n",
    "    return returnMat"
   ]
  },
  {
   "cell_type": "markdown",
   "metadata": {},
   "source": [
    "（1）函数的参数分别是 数据、真实值、步长、迭代次数"
   ]
  },
  {
   "cell_type": "markdown",
   "metadata": {},
   "source": [
    "（2）我们对数据进行标准化，这里需要留意一下，我们之间大都是针对分类数据进行标准化，这次对于非分类数据集进行标准化时，输出值也需要进行变化。"
   ]
  },
  {
   "cell_type": "markdown",
   "metadata": {},
   "source": [
    "（3）接下来是第一层循环，循环次数是迭代数"
   ]
  },
  {
   "cell_type": "markdown",
   "metadata": {},
   "source": [
    "（4）然后是第二层循环，循环次数是属性值个数"
   ]
  },
  {
   "cell_type": "markdown",
   "metadata": {},
   "source": [
    "（5）对于每个属性值，我们都对他进行添加一个步长或者减少一个步长，再判定是否有助于减小误差。"
   ]
  },
  {
   "cell_type": "markdown",
   "metadata": {},
   "source": [
    "（6）若误差值相比上一次循环有所减小，则修改成功。否则不进行修改。"
   ]
  },
  {
   "cell_type": "markdown",
   "metadata": {},
   "source": [
    "**绘制回归系数矩阵**"
   ]
  },
  {
   "cell_type": "code",
   "execution_count": 6,
   "metadata": {},
   "outputs": [
    {
     "data": {
      "image/png": "[encoded data removed]",
      "text/plain": [
       "<Figure size 432x288 with 1 Axes>"
      ]
     },
     "metadata": {
      "needs_background": "light"
     },
     "output_type": "display_data"
    }
   ],
   "source": [
    "    font = FontProperties(fname=r\"c:\\windows\\fonts\\simsun.ttc\", size=14)\n",
    "    xArr, yArr = loadDataSet('abalone.txt')\n",
    "    returnMat = stageWise(xArr, yArr, 0.005, 1000)\n",
    "    fig = plt.figure()\n",
    "    ax = fig.add_subplot(111)\n",
    "    ax.plot(returnMat)    \n",
    "    ax_title_text = ax.set_title(u'前向逐步回归:迭代次数与回归系数的关系', FontProperties = font)\n",
    "    ax_xlabel_text = ax.set_xlabel(u'迭代次数', FontProperties = font)\n",
    "    ax_ylabel_text = ax.set_ylabel(u'回归系数', FontProperties = font)\n",
    "    plt.setp(ax_title_text, size = 15, weight = 'bold', color = 'red')\n",
    "    plt.setp(ax_xlabel_text, size = 10, weight = 'bold', color = 'black')\n",
    "    plt.setp(ax_ylabel_text, size = 10, weight = 'bold', color = 'black')\n",
    "    plt.show()\n",
    "   "
   ]
  },
  {
   "cell_type": "markdown",
   "metadata": {},
   "source": [
    "**总结**"
   ]
  },
  {
   "cell_type": "markdown",
   "metadata": {},
   "source": [
    "缩减方法（逐步线性回归或岭回归），就是将一些系数缩减成很小的值或者直接缩减为0。这样做，就增大了模型的偏差（减少了一些特征的权重），通过把一些特征的回归系数缩减到0，同时也就减少了模型的复杂度。消除了多余的特征之后，模型更容易理解，同时也降低了预测误差。但是当缩减过于严厉的时候，就会出现过拟合的现象，即用训练集预测结果很好，用测试集预测就糟糕很多。"
   ]
  },
  {
   "cell_type": "markdown",
   "metadata": {},
   "source": [
    "### 编程要求"
   ]
  },
  {
   "cell_type": "markdown",
   "metadata": {},
   "source": [
    "复习前向逐步线性回归的算法原理，编程实现前向逐步线性回归。"
   ]
  },
  {
   "cell_type": "markdown",
   "metadata": {},
   "source": [
    "### 参考答案"
   ]
  },
  {
   "cell_type": "code",
   "execution_count": null,
   "metadata": {},
   "outputs": [],
   "source": [
    "from matplotlib.font_manager import FontProperties\n",
    "import matplotlib.pyplot as plt\n",
    "import numpy as np\n",
    "def loadDataSet(fileName):\n",
    "    \"\"\"\n",
    "    函数说明:加载数据\n",
    "    Parameters:\n",
    "        fileName - 文件名\n",
    "    Returns:\n",
    "        xArr - x数据集\n",
    "        yArr - y数据集\n",
    "    \"\"\"\n",
    "    numFeat = len(open(fileName).readline().split('\\t')) - 1\n",
    "    xArr = []; yArr = []\n",
    "    fr = open(fileName)\n",
    "    for line in fr.readlines():\n",
    "        lineArr =[]\n",
    "        curLine = line.strip().split('\\t')\n",
    "        for i in range(numFeat):\n",
    "            lineArr.append(float(curLine[i]))\n",
    "        xArr.append(lineArr)\n",
    "        yArr.append(float(curLine[-1]))\n",
    "    return xArr, yArr\n",
    "def regularize(xMat, yMat):\n",
    "    \"\"\"\n",
    "    函数说明:数据标准化\n",
    "    Parameters:\n",
    "        xMat - x数据集\n",
    "        yMat - y数据集\n",
    "    Returns:\n",
    "        inxMat - 标准化后的x数据集\n",
    "        inyMat - 标准化后的y数据集\n",
    "    \"\"\"    \n",
    "    inxMat = xMat.copy()                                                        #数据拷贝\n",
    "    inyMat = yMat.copy()\n",
    "    yMean = np.mean(yMat, 0)                                                    #行与行操作，求均值\n",
    "    inyMat = yMat - yMean                                                        #数据减去均值\n",
    "    inMeans = np.mean(inxMat, 0)                                                   #行与行操作，求均值\n",
    "    inVar = np.var(inxMat, 0)                                                     #行与行操作，求方差\n",
    "    inxMat = (inxMat - inMeans) / inVar                                            #数据减去均值除以方差实现标准化\n",
    "    return inxMat, inyMat\n",
    "\n",
    "def rssError(yArr,yHatArr):\n",
    "    \"\"\"\n",
    "    函数说明:计算平方误差\n",
    "    Parameters:\n",
    "        yArr - 预测值\n",
    "        yHatArr - 真实值\n",
    "    Returns:\n",
    "\n",
    "    \"\"\"\n",
    "    return ((yArr-yHatArr)**2).sum()\n",
    "\n",
    "def stageWise(xArr, yArr, eps = 0.01, numIt = 100):\n",
    "    \"\"\"\n",
    "    函数说明:前向逐步线性回归\n",
    "    Parameters:\n",
    "        xArr - x输入数据\n",
    "        yArr - y预测数据\n",
    "        eps - 每次迭代需要调整的步长\n",
    "        numIt - 迭代次数\n",
    "    Returns:\n",
    "        returnMat - numIt次迭代的回归系数矩阵\n",
    "    \"\"\"\n",
    "    xMat = np.mat(xArr); yMat = np.mat(yArr).T                                         #数据集\n",
    "    xMat, yMat = regularize(xMat, yMat)                                                #数据标准化\n",
    "    m, n = np.shape(xMat)\n",
    "    returnMat = np.zeros((numIt, n))                                                #初始化numIt次迭代的回归系数矩阵\n",
    "    ws = np.zeros((n, 1))                                                            #初始化回归系数矩阵\n",
    "    wsTest = ws.copy()\n",
    "    wsMax = ws.copy()\n",
    "    for i in range(numIt):                                                            #迭代numIt次\n",
    "        # print(ws.T)                                                                    #打印当前回归系数矩阵\n",
    "        lowestError = float('inf');                                                 #正无穷\n",
    "        for j in range(n):                                                            #遍历每个特征的回归系数\n",
    "            for sign in [-1, 1]:\n",
    "                wsTest = ws.copy()\n",
    "                wsTest[j] += eps * sign                                                #微调回归系数\n",
    "                yTest = xMat * wsTest                                                #计算预测值\n",
    "                rssE = rssError(yMat.A, yTest.A)                                    #计算平方误差\n",
    "                if rssE < lowestError:                                                #如果误差更小，则更新当前的最佳回归系数\n",
    "                    lowestError = rssE\n",
    "                    wsMax = wsTest\n",
    "        ws = wsMax.copy()\n",
    "        returnMat[i,:] = ws.T                                                         #记录numIt次迭代的回归系数矩阵\n",
    "    return returnMat\n",
    "def plotstageWiseMat():\n",
    "    font = FontProperties(fname=r\"c:\\windows\\fonts\\simsun.ttc\", size=14)\n",
    "    xArr, yArr = loadDataSet('abalone.txt')\n",
    "    returnMat = stageWise(xArr, yArr, 0.005, 1000)\n",
    "    fig = plt.figure()\n",
    "    ax = fig.add_subplot(111)\n",
    "    ax.plot(returnMat)    \n",
    "    ax_title_text = ax.set_title(u'前向逐步回归:迭代次数与回归系数的关系', FontProperties = font)\n",
    "    ax_xlabel_text = ax.set_xlabel(u'迭代次数', FontProperties = font)\n",
    "    ax_ylabel_text = ax.set_ylabel(u'回归系数', FontProperties = font)\n",
    "    plt.setp(ax_title_text, size = 15, weight = 'bold', color = 'red')\n",
    "    plt.setp(ax_xlabel_text, size = 10, weight = 'bold', color = 'black')\n",
    "    plt.setp(ax_ylabel_text, size = 10, weight = 'bold', color = 'black')\n",
    "    plt.show()\n",
    "if __name__ == '__main__':\n",
    "    plotstageWiseMat()   "
   ]
  }
 ],
 "metadata": {
  "kernelspec": {
   "display_name": "Python 3",
   "language": "python",
   "name": "python3"
  },
  "language_info": {
   "codemirror_mode": {
    "name": "ipython",
    "version": 3
   },
   "file_extension": ".py",
   "mimetype": "text/x-python",
   "name": "python",
   "nbconvert_exporter": "python",
   "pygments_lexer": "ipython3",
   "version": "3.8.3"
  }
 },
 "nbformat": 4,
 "nbformat_minor": 4
}
