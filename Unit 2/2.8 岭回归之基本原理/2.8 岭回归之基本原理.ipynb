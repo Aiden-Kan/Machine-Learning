{
 "cells": [
  {
   "cell_type": "markdown",
   "metadata": {},
   "source": [
    "### 任务描述"
   ]
  },
  {
   "cell_type": "markdown",
   "metadata": {},
   "source": [
    "理解岭回归的基本概念及用途，能够调用sklearn库中的岭回归模型以及对特征进行标准化处理。"
   ]
  },
  {
   "cell_type": "markdown",
   "metadata": {},
   "source": [
    "### 相关知识"
   ]
  },
  {
   "cell_type": "markdown",
   "metadata": {},
   "source": [
    "**什么是岭回归？**"
   ]
  },
  {
   "cell_type": "markdown",
   "metadata": {},
   "source": [
    "岭回归即我们所说的L2正则线性回归，在一般的线性回归最小化均方误差的基础上增加了一个参数w的L2范数的罚项，从而最小化罚项残差平方和："
   ]
  },
  {
   "cell_type": "markdown",
   "metadata": {},
   "source": [
    "![jupyter](https://i.loli.net/2021/05/23/tn8w6xoGEBHu14f.png)"
   ]
  },
  {
   "cell_type": "markdown",
   "metadata": {},
   "source": [
    "简单说来，岭回归就是在普通线性回归的基础上引入单位矩阵。回归系数的计算公式变形如下："
   ]
  },
  {
   "cell_type": "markdown",
   "metadata": {},
   "source": [
    "![jupyter](https://i.loli.net/2021/05/23/SHDaPgorGwTAXVJ.png)"
   ]
  },
  {
   "cell_type": "markdown",
   "metadata": {},
   "source": [
    "式中，矩阵I是一个mxm的单位矩阵，加上一个λI从而使得矩阵非奇异，进而能对矩阵求逆。"
   ]
  },
  {
   "cell_type": "markdown",
   "metadata": {},
   "source": [
    "岭回归(ridge regression)是一种专用于共线性数据分析的有偏估计回归方法，是一种改良的最小二乘估计法，对某些数据的拟合要强于最小二乘法。"
   ]
  },
  {
   "cell_type": "markdown",
   "metadata": {},
   "source": [
    "岭回归最先用来处理特征数多于样本数的情况，现在也用于在估计中加入偏差，从而得到更好的估计。这里通过引入λ来限制了所有w之和，通过引入该惩罚项，能够减少不重要的参数，这个技术在统计学中也可以叫做缩减（shrinkage）。"
   ]
  },
  {
   "cell_type": "markdown",
   "metadata": {},
   "source": [
    "缩减方法可以去掉不重要的参数，因此能更好地裂解数据。此外，与简单的线性回归相比，缩减法能够取得更好的预测效果。"
   ]
  },
  {
   "cell_type": "markdown",
   "metadata": {},
   "source": [
    "**sklearn中的岭回归**"
   ]
  },
  {
   "cell_type": "markdown",
   "metadata": {},
   "source": [
    "在sklearn库中，可以使用sklearn.linear_model.Ridge调用岭回归模型，其主要参数有："
   ]
  },
  {
   "cell_type": "markdown",
   "metadata": {},
   "source": [
    "alpha：正则化因子，对应于损失函数中的$\\alpha$"
   ]
  },
  {
   "cell_type": "markdown",
   "metadata": {},
   "source": [
    "fit_intercept：表示是否计算截距"
   ]
  },
  {
   "cell_type": "markdown",
   "metadata": {},
   "source": [
    "solver：设置计算参数的方法，可选参数'auto'、'svd'、'sag'等"
   ]
  },
  {
   "cell_type": "markdown",
   "metadata": {},
   "source": [
    "**标准化处理**"
   ]
  },
  {
   "cell_type": "markdown",
   "metadata": {},
   "source": [
    "为了使用岭回归和缩减技术，首先需要对特征做标准化处理。因为，我们需要使每个维度特征具有相同的重要性。"
   ]
  },
  {
   "cell_type": "markdown",
   "metadata": {},
   "source": [
    "本次实验我们使用的标准化处理比较简单，就是将所有特征都减去各自的均值并除以方差。"
   ]
  },
  {
   "cell_type": "markdown",
   "metadata": {},
   "source": [
    "**加载数据**"
   ]
  },
  {
   "cell_type": "code",
   "execution_count": 11,
   "metadata": {},
   "outputs": [],
   "source": [
    "from matplotlib.font_manager import FontProperties\n",
    "import matplotlib.pyplot as plt\n",
    "import numpy as np\n",
    "def loadDataSet(fileName):\n",
    "    numFeat = len(open(fileName).readline().split('\\t')) - 1\n",
    "    xArr = []; yArr = []\n",
    "    fr = open(fileName)\n",
    "    for line in fr.readlines():\n",
    "        lineArr =[]\n",
    "        curLine = line.strip().split('\\t')\n",
    "        for i in range(numFeat):\n",
    "            lineArr.append(float(curLine[i]))\n",
    "        xArr.append(lineArr)\n",
    "        yArr.append(float(curLine[-1]))\n",
    "    return xArr, yArr"
   ]
  },
  {
   "cell_type": "markdown",
   "metadata": {},
   "source": [
    "**岭回归**"
   ]
  },
  {
   "cell_type": "code",
   "execution_count": 12,
   "metadata": {},
   "outputs": [],
   "source": [
    "def ridgeRegres(xMat, yMat, lam = 0.2):\n",
    "    xTx = xMat.T * xMat\n",
    "    denom = xTx + np.eye(np.shape(xMat)[1]) * lam\n",
    "    if np.linalg.det(denom) == 0.0:\n",
    "        print(\"矩阵为奇异矩阵,不能转置\")\n",
    "        return\n",
    "    ws = denom.I * (xMat.T * yMat)\n",
    "    return ws"
   ]
  },
  {
   "cell_type": "markdown",
   "metadata": {},
   "source": [
    "**岭回归测试**"
   ]
  },
  {
   "cell_type": "code",
   "execution_count": 13,
   "metadata": {},
   "outputs": [],
   "source": [
    "def ridgeTest(xArr, yArr):\n",
    "    xMat = np.mat(xArr); yMat = np.mat(yArr).T\n",
    "    #数据标准化\n",
    "    yMean = np.mean(yMat, axis = 0)                        #行与行操作，求均值\n",
    "    yMat = yMat - yMean                                    #数据减去均值\n",
    "    xMeans = np.mean(xMat, axis = 0)                    #行与行操作，求均值\n",
    "    xVar = np.var(xMat, axis = 0)                        #行与行操作，求方差\n",
    "    xMat = (xMat - xMeans) / xVar                        #数据减去均值除以方差实现标准化\n",
    "    numTestPts = 30                                        #30个不同的lambda测试\n",
    "    wMat = np.zeros((numTestPts, np.shape(xMat)[1]))    #初始回归系数矩阵\n",
    "    for i in range(numTestPts):                            #改变lambda计算回归系数\n",
    "        ws = ridgeRegres(xMat, yMat, np.exp(i - 10))    #lambda以e的指数变化，最初是一个非常小的数，\n",
    "        wMat[i, :] = ws.T                                 #计算回归系数矩阵\n",
    "    return wMat"
   ]
  },
  {
   "cell_type": "markdown",
   "metadata": {},
   "source": [
    "**绘制岭回归系数矩阵**"
   ]
  },
  {
   "cell_type": "code",
   "execution_count": 15,
   "metadata": {},
   "outputs": [
    {
     "data": {
      "image/png": "[encoded data removed]",
      "text/plain": [
       "<Figure size 432x288 with 1 Axes>"
      ]
     },
     "metadata": {
      "needs_background": "light"
     },
     "output_type": "display_data"
    }
   ],
   "source": [
    "    font = FontProperties(fname=r\"c:\\windows\\fonts\\simsun.ttc\", size=14)\n",
    "    abX, abY = loadDataSet('abalone.txt')\n",
    "    redgeWeights = ridgeTest(abX, abY)\n",
    "    fig = plt.figure()\n",
    "    ax = fig.add_subplot(111)\n",
    "    ax.plot(redgeWeights)    \n",
    "    ax_title_text = ax.set_title(u'log(lambada)与回归系数的关系', FontProperties = font)\n",
    "    ax_xlabel_text = ax.set_xlabel(u'log(lambada)', FontProperties = font)\n",
    "    ax_ylabel_text = ax.set_ylabel(u'回归系数', FontProperties = font)\n",
    "    plt.setp(ax_title_text, size = 20, weight = 'bold', color = 'red')\n",
    "    plt.setp(ax_xlabel_text, size = 10, weight = 'bold', color = 'black')\n",
    "    plt.setp(ax_ylabel_text, size = 10, weight = 'bold', color = 'black')\n",
    "    plt.show()\n"
   ]
  },
  {
   "cell_type": "markdown",
   "metadata": {},
   "source": [
    "图绘制了回归系数与$log(\\lambda)$的关系。在最左边，即$\\lambda$最小时，可以得到所有系数的原始值（与线性回归一致）；而在右边，系数全部缩减成0；在中间部分的某个位置，将会得到最好的预测结果。"
   ]
  },
  {
   "cell_type": "markdown",
   "metadata": {},
   "source": [
    "### 编程要求"
   ]
  },
  {
   "cell_type": "markdown",
   "metadata": {},
   "source": [
    "略"
   ]
  },
  {
   "cell_type": "markdown",
   "metadata": {},
   "source": [
    "### 实战练习"
   ]
  },
  {
   "cell_type": "markdown",
   "metadata": {},
   "source": [
    "1.岭回归是一种专用于共线性数据分析的（）回归方法"
   ]
  },
  {
   "cell_type": "markdown",
   "metadata": {},
   "source": [
    "A.无偏估计"
   ]
  },
  {
   "cell_type": "markdown",
   "metadata": {},
   "source": [
    "B.有偏估计"
   ]
  },
  {
   "cell_type": "markdown",
   "metadata": {},
   "source": [
    "C.线性"
   ]
  },
  {
   "cell_type": "markdown",
   "metadata": {},
   "source": [
    "### 参考答案"
   ]
  },
  {
   "cell_type": "markdown",
   "metadata": {},
   "source": [
    "1.B"
   ]
  }
 ],
 "metadata": {
  "kernelspec": {
   "display_name": "Python 3",
   "language": "python",
   "name": "python3"
  },
  "language_info": {
   "codemirror_mode": {
    "name": "ipython",
    "version": 3
   },
   "file_extension": ".py",
   "mimetype": "text/x-python",
   "name": "python",
   "nbconvert_exporter": "python",
   "pygments_lexer": "ipython3",
   "version": "3.8.3"
  }
 },
 "nbformat": 4,
 "nbformat_minor": 4
}
