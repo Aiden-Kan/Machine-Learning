{
 "cells": [
  {
   "cell_type": "markdown",
   "metadata": {},
   "source": [
    "### 任务描述"
   ]
  },
  {
   "cell_type": "markdown",
   "metadata": {},
   "source": [
    "根据本节所学知识，构建一元线性回归，并利用提供的房价数据对模型进行训练，然后对未知的房价数据进行预测。"
   ]
  },
  {
   "cell_type": "markdown",
   "metadata": {},
   "source": [
    "### 相关知识"
   ]
  },
  {
   "cell_type": "markdown",
   "metadata": {},
   "source": [
    "   **回归分析**：建立方程模拟两个或者多个变量之间是如何相互关联，被预测的变量称为因变量（结果），用来进行预测的变量称为自变量（输入参数），当输入参数只有一个（输出1个）时，称为一元回归，反之当输入有多个（输出1个），称为多元回归。\n",
    "    \n",
    "   **一元线性回归模型：**\n",
    "    \n",
    "   $$ y=wx+b $$\n",
    "    \n",
    "使用我们接下来的房价预测案例进行讲解：\n",
    "\n",
    "𝑥 表示特征值(如：房屋面积)，𝑤 表示权重，𝑏 表示偏置，𝑦 表示标签(如：房价)。\n",
    "\n",
    "(我们只需确定此方程的两个参数𝑤和𝑏即可)\n",
    "![jupyter](https://i.loli.net/2021/05/11/cb6zV9t8xnQhNfC.png)\n"
   ]
  },
  {
   "cell_type": "markdown",
   "metadata": {},
   "source": [
    "**案例：房价预测问题**"
   ]
  },
  {
   "cell_type": "markdown",
   "metadata": {},
   "source": [
    "一般来说，房子越大，房屋的价值就越高。于是可以推断出，房子的价值与房屋的面积有关。"
   ]
  },
  {
   "cell_type": "markdown",
   "metadata": {},
   "source": [
    "首先我们来查看一下数据集，通过观察来判断一下两者是否满足一元线性回归模型。"
   ]
  },
  {
   "cell_type": "markdown",
   "metadata": {},
   "source": [
    "pandas库能很好地处理来自一大堆各种不同来源的数据，比如 Excel 表格、CSV 文件、SQL 数据库，甚至还能处理存储在网页上的数据。\n",
    "所以我们通过pandas来获取我们data文件夹下的原始数据input_data.csv。"
   ]
  },
  {
   "cell_type": "code",
   "execution_count": 1,
   "metadata": {},
   "outputs": [
    {
     "name": "stdout",
     "output_type": "stream",
     "text": [
      "   square_feet  price\n",
      "0          150   6450\n",
      "1          200   7450\n",
      "2          250   8450\n",
      "3          300   9450\n",
      "4          350  11450\n",
      "5          400  15450\n",
      "6          600  18450\n"
     ]
    }
   ],
   "source": [
    "import pandas as pd  \n",
    "data = pd.read_csv('../data/2.1/input_data.csv')\n",
    "print(data)"
   ]
  },
  {
   "cell_type": "markdown",
   "metadata": {},
   "source": [
    "其中square_feet表示房屋面积，price表示房屋单价，通过打印出来的数据可以看出，房子面积越大，房屋的价值越高。"
   ]
  },
  {
   "cell_type": "markdown",
   "metadata": {},
   "source": [
    "图形是最直观的，接下来我们将数据转换成图形来进行观察，就可以很好地看出房价和面积两者之间的关系了。"
   ]
  },
  {
   "cell_type": "markdown",
   "metadata": {},
   "source": [
    "**通过图形进行查看数据**"
   ]
  },
  {
   "cell_type": "code",
   "execution_count": 2,
   "metadata": {},
   "outputs": [
    {
     "data": {
      "text/plain": [
       "<matplotlib.collections.PathCollection at 0x15dd3903dc0>"
      ]
     },
     "execution_count": 2,
     "metadata": {},
     "output_type": "execute_result"
    },
    {
     "data": {
      "image/png": "[encoded data removed]",
      "text/plain": [
       "<Figure size 432x288 with 1 Axes>"
      ]
     },
     "metadata": {
      "needs_background": "light"
     },
     "output_type": "display_data"
    }
   ],
   "source": [
    "#导入画图模块\n",
    "import matplotlib.pyplot as plt\n",
    "%matplotlib inline\n",
    "#展示数据\n",
    "plt.scatter(data.iloc[:,0],data.iloc[:,1])"
   ]
  },
  {
   "cell_type": "markdown",
   "metadata": {},
   "source": [
    "创建X_parameter，Y_parameter 两个空列表，通过for循环，将data中的square_feet和price分别添加到X_parameter，Y_parameter的空列表中。"
   ]
  },
  {
   "cell_type": "code",
   "execution_count": 3,
   "metadata": {},
   "outputs": [
    {
     "name": "stdout",
     "output_type": "stream",
     "text": [
      "[[150.0], [200.0], [250.0], [300.0], [350.0], [400.0], [600.0]]\n",
      "[6450.0, 7450.0, 8450.0, 9450.0, 11450.0, 15450.0, 18450.0]\n"
     ]
    }
   ],
   "source": [
    "X_parameter = [] \n",
    "Y_parameter = [] \n",
    "for single_square_feet ,single_price_value in zip(data['square_feet'],data['price']):#遍历数据，  \n",
    "    X_parameter.append([float(single_square_feet)])#存储在相应的list列表中  \n",
    "    Y_parameter.append(float(single_price_value))  \n",
    "print(X_parameter)\n",
    "print(Y_parameter)"
   ]
  },
  {
   "cell_type": "markdown",
   "metadata": {},
   "source": [
    "现在我们需要把X_parameter和Y_parameter拟合成线性回归模型。"
   ]
  },
  {
   "cell_type": "markdown",
   "metadata": {},
   "source": [
    "导入sklearn机器学习算法包，Sklearn (全称 Scikit-Learn) 是基于 Python 语言的机器学习工具。它建立在 NumPy, SciPy, Pandas 和 Matplotlib 之上，里面的 API 的设计非常好，所有对象的接口简单。在 Sklearn 里面有六大任务模块：分别是分类、回归、聚类、降维、模型选择和预处理。今天我们使用其中的回归模块。"
   ]
  },
  {
   "cell_type": "code",
   "execution_count": 4,
   "metadata": {},
   "outputs": [
    {
     "data": {
      "text/plain": [
       "LinearRegression()"
      ]
     },
     "execution_count": 4,
     "metadata": {},
     "output_type": "execute_result"
    }
   ],
   "source": [
    "import numpy as np\n",
    "from sklearn import datasets, linear_model #从sklearn中导入线性回归模型\n",
    "regr = linear_model.LinearRegression()#创建线性回归对象\n",
    "regr.fit(X_parameter, Y_parameter)#训练模型  "
   ]
  },
  {
   "cell_type": "code",
   "execution_count": 5,
   "metadata": {},
   "outputs": [],
   "source": [
    "predict_value=700  #设定一个面积预测值\n",
    "predict_value=np.array(predict_value).reshape(1, -1) #使用numpy将预测值转换成一行一列\n",
    "predict_outcome = regr.predict(predict_value)  #进行预测，得到面积为700的房价预测值  "
   ]
  },
  {
   "cell_type": "markdown",
   "metadata": {},
   "source": [
    "创建一个predictions的字典，存放截距值intercept、斜率coefficient以及预测值Predicted value，并将这三者进行打印。"
   ]
  },
  {
   "cell_type": "code",
   "execution_count": 6,
   "metadata": {},
   "outputs": [
    {
     "name": "stdout",
     "output_type": "stream",
     "text": [
      "Intercept value  1771.8085106382969\n",
      "coefficient [28.77659574]\n",
      "Predicted value:  [21915.42553191]\n"
     ]
    }
   ],
   "source": [
    "predictions = {}  \n",
    "predictions['intercept'] = regr.intercept_  \n",
    "predictions['coefficient'] = regr.coef_  \n",
    "predictions['predicted_value'] = predict_outcome \n",
    "print( \"Intercept value \" , predictions['intercept']  )\n",
    "print( \"coefficient\" , predictions['coefficient']  )\n",
    "print( \"Predicted value: \",predictions['predicted_value'])"
   ]
  },
  {
   "cell_type": "markdown",
   "metadata": {},
   "source": [
    "以上利用一元线性回归进行房价预测就已经全部完成了。`"
   ]
  },
  {
   "cell_type": "markdown",
   "metadata": {},
   "source": [
    "为了验证数据是否拟合线性回归，我们可以将数据拟合出来的图形进行打印观察。"
   ]
  },
  {
   "cell_type": "code",
   "execution_count": 7,
   "metadata": {},
   "outputs": [
    {
     "data": {
      "image/png": "[encoded data removed]",
      "text/plain": [
       "<Figure size 432x288 with 1 Axes>"
      ]
     },
     "metadata": {
      "needs_background": "light"
     },
     "output_type": "display_data"
    }
   ],
   "source": [
    "plt.scatter(X_parameter,Y_parameter,color='blue')  \n",
    "plt.plot(X_parameter,regr.predict(X_parameter),color='red',linewidth=4) \n",
    "plt.xticks(X_parameter)  \n",
    "plt.yticks(Y_parameter)  \n",
    "plt.show()"
   ]
  },
  {
   "cell_type": "markdown",
   "metadata": {},
   "source": [
    "### 编程要求"
   ]
  },
  {
   "cell_type": "markdown",
   "metadata": {},
   "source": [
    "复习以上内容，编写将数据拟合到线性模型的函数def linear_model_main()，其中包含了建立模型，并训练模型，对模型参数进行预测等功能。"
   ]
  },
  {
   "cell_type": "code",
   "execution_count": 8,
   "metadata": {},
   "outputs": [],
   "source": [
    "import matplotlib.pyplot as plt  \n",
    "import numpy as np  \n",
    "import pandas as pd  \n",
    "from sklearn import datasets, linear_model  \n",
    "# 读取数据 \n",
    "def get_data(file_name):  \n",
    "    data = pd.read_csv(file_name)  #用pandas 读取cvs 文件.  \n",
    "    X_parameter = [] \n",
    "    Y_parameter = [] \n",
    "    for single_square_feet ,single_price_value in zip(data['square_feet'],data['price']):#遍历数据，  \n",
    "        X_parameter.append([float(single_square_feet)])#存储在相应的list列表中  \n",
    "        Y_parameter.append(float(single_price_value))  \n",
    "    return X_parameter,Y_parameter\n",
    "\n",
    "#Function for Fitting our data to Linear model  \n",
    "def linear_model_main(X_parameters,Y_parameters,predict_value):\n",
    "# 补充下面Begin-End区间的代码，将数据拟合到线性模型,实现对数据进行预测\n",
    "########## Begin ##########\n",
    "# 创建线性回归对象\n",
    "\n",
    "\n",
    "# 建立模型，并训练模型\n",
    "\n",
    "\n",
    "# 创建一个predictions的字典，存放截距值intercept、斜率coefficient以及预测值Predicted value，并将字典作为参数返回\n",
    "\n",
    "\n",
    "########## End ##########\n",
    "\n",
    "X,Y = get_data('data/1.1/input_data.csv')  \n",
    "predictvalue = 700\n",
    "predictvalue = np.array(predictvalue).reshape(1, -1)\n",
    "result = linear_model_main(X,Y,predictvalue)  \n",
    "print( \"Intercept value \" , result['intercept']  )\n",
    "print( \"coefficient\" , result['coefficient']  )\n",
    "print( \"Predicted value: \",result['predicted_value'])\n",
    "\n",
    "# Function to show the resutls of linear fit model  \n",
    "def show_linear_line(X_parameters,Y_parameters):  \n",
    "# Create linear regression object  \n",
    "    regr = linear_model.LinearRegression()  \n",
    "    regr.fit(X_parameters, Y_parameters)  \n",
    "    plt.scatter(X_parameters,Y_parameters,color='blue')  \n",
    "    plt.plot(X_parameters,regr.predict(X_parameters),color='red',linewidth=4)  \n",
    "    plt.xticks(())  \n",
    "    plt.yticks(())  \n",
    "    plt.show()\n",
    "\n",
    "show_linear_line(X,Y)"
   ]
  },
  {
   "cell_type": "markdown",
   "metadata": {},
   "source": [
    "### 参考答案"
   ]
  },
  {
   "cell_type": "code",
   "execution_count": 9,
   "metadata": {},
   "outputs": [],
   "source": [
    "    regr = linear_model.LinearRegression()  \n",
    "    regr.fit(X_parameters, Y_parameters)   #训练模型  \n",
    "    predict_outcome = regr.predict(predict_value)  \n",
    "    predictions = {}  \n",
    "    predictions['intercept'] = regr.intercept_  \n",
    "    predictions['coefficient'] = regr.coef_  \n",
    "    predictions['predicted_value'] = predict_outcome  \n",
    "    return predictions"
   ]
  }
 ],
 "metadata": {
  "kernelspec": {
   "display_name": "Python 3",
   "language": "python",
   "name": "python3"
  },
  "language_info": {
   "codemirror_mode": {
    "name": "ipython",
    "version": 3
   },
   "file_extension": ".py",
   "mimetype": "text/x-python",
   "name": "python",
   "nbconvert_exporter": "python",
   "pygments_lexer": "ipython3",
   "version": "3.8.3"
  }
 },
 "nbformat": 4,
 "nbformat_minor": 5
}
