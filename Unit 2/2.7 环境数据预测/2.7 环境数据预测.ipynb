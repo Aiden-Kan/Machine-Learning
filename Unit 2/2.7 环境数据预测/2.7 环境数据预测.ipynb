{
 "cells": [
  {
   "cell_type": "markdown",
   "metadata": {},
   "source": [
    "### 任务描述"
   ]
  },
  {
   "cell_type": "markdown",
   "metadata": {},
   "source": [
    "1.掌握逻辑回归的基本概念。"
   ]
  },
  {
   "cell_type": "markdown",
   "metadata": {},
   "source": [
    "2.运用逻辑回归解决实际问题。"
   ]
  },
  {
   "cell_type": "markdown",
   "metadata": {},
   "source": [
    "### 相关知识"
   ]
  },
  {
   "cell_type": "markdown",
   "metadata": {},
   "source": [
    "**逻辑回归**也被称为广义线性回归模型，它与线性回归模型的形式基本上相同，最大的区别在于它们的因变量不同，如果是连续的，就是多重线性回归；如果是二项分布，就是Logistic回归。"
   ]
  },
  {
   "cell_type": "markdown",
   "metadata": {},
   "source": [
    "逻辑回归的**用途**主要有以下3个方面："
   ]
  },
  {
   "cell_type": "markdown",
   "metadata": {},
   "source": [
    "1.寻找危险因素；寻找某一疾病的危险因素等；"
   ]
  },
  {
   "cell_type": "markdown",
   "metadata": {},
   "source": [
    "2.预测：根据模型，预测在不同的自变量情况下，发生某种疾病或某种情况的概率有多大；"
   ]
  },
  {
   "cell_type": "markdown",
   "metadata": {},
   "source": [
    "3.判别：实际上跟预测有些类似，也是根据模型，判断某人属于某种疾病或属于某种情况的概率有多大。"
   ]
  },
  {
   "cell_type": "markdown",
   "metadata": {},
   "source": [
    "**逻辑回归的常规步骤**"
   ]
  },
  {
   "cell_type": "markdown",
   "metadata": {},
   "source": [
    "1.寻找$h$函数（即预测函数）"
   ]
  },
  {
   "cell_type": "markdown",
   "metadata": {},
   "source": [
    "2.构造$J$函数（损失函数）"
   ]
  },
  {
   "cell_type": "markdown",
   "metadata": {},
   "source": [
    "3.想办法使得$J$函数最小并求得回归参数（$θ$）"
   ]
  },
  {
   "cell_type": "markdown",
   "metadata": {},
   "source": [
    "下面我们通过**环境数据检测异常分析与预测**这个实验，对逻辑回归进行具体的实现及应用。"
   ]
  },
  {
   "cell_type": "markdown",
   "metadata": {},
   "source": [
    "首先读取数据"
   ]
  },
  {
   "cell_type": "code",
   "execution_count": 2,
   "metadata": {},
   "outputs": [
    {
     "name": "stdout",
     "output_type": "stream",
     "text": [
      "    -0.017612   14.053064   0\n",
      "0   -1.395634   4.662541    1\n",
      "1   -0.752157   6.538620    0\n",
      "2   -1.322371   7.152853    0\n",
      "3   0.423363    11.054677   0\n",
      "4   0.406704    7.067335    1\n",
      "..                        ...\n",
      "94  0.677983    2.556666    1\n",
      "95  0.761349    10.693862   0\n",
      "96  -2.168791   0.143632    1\n",
      "97  1.388610    9.341997    0\n",
      "98  0.317029    14.739025   0\n",
      "\n",
      "[99 rows x 1 columns]\n"
     ]
    },
    {
     "data": {
      "text/plain": [
       "([[1.0, -0.017612, 14.053064],\n",
       "  [1.0, -1.395634, 4.662541],\n",
       "  [1.0, -0.752157, 6.53862],\n",
       "  [1.0, -1.322371, 7.152853],\n",
       "  [1.0, 0.423363, 11.054677],\n",
       "  [1.0, 0.406704, 7.067335],\n",
       "  [1.0, 0.667394, 12.741452],\n",
       "  [1.0, -2.46015, 6.866805],\n",
       "  [1.0, 0.569411, 9.548755],\n",
       "  [1.0, -0.026632, 10.427743],\n",
       "  [1.0, 0.850433, 6.920334],\n",
       "  [1.0, 1.347183, 13.1755],\n",
       "  [1.0, 1.176813, 3.16702],\n",
       "  [1.0, -1.781871, 9.097953],\n",
       "  [1.0, -0.566606, 5.749003],\n",
       "  [1.0, 0.931635, 1.589505],\n",
       "  [1.0, -0.024205, 6.151823],\n",
       "  [1.0, -0.036453, 2.690988],\n",
       "  [1.0, -0.196949, 0.444165],\n",
       "  [1.0, 1.014459, 5.754399],\n",
       "  [1.0, 1.985298, 3.230619],\n",
       "  [1.0, -1.693453, -0.55754],\n",
       "  [1.0, -0.576525, 11.778922],\n",
       "  [1.0, -0.346811, -1.67873],\n",
       "  [1.0, -2.124484, 2.672471],\n",
       "  [1.0, 1.217916, 9.597015],\n",
       "  [1.0, -0.733928, 9.098687],\n",
       "  [1.0, -3.642001, -1.618087],\n",
       "  [1.0, 0.315985, 3.523953],\n",
       "  [1.0, 1.416614, 9.619232],\n",
       "  [1.0, -0.386323, 3.989286],\n",
       "  [1.0, 0.556921, 8.294984],\n",
       "  [1.0, 1.224863, 11.58736],\n",
       "  [1.0, -1.347803, -2.406051],\n",
       "  [1.0, 1.196604, 4.951851],\n",
       "  [1.0, 0.275221, 9.543647],\n",
       "  [1.0, 0.470575, 9.332488],\n",
       "  [1.0, -1.889567, 9.542662],\n",
       "  [1.0, -1.527893, 12.150579],\n",
       "  [1.0, -1.185247, 11.309318],\n",
       "  [1.0, -0.445678, 3.297303],\n",
       "  [1.0, 1.042222, 6.105155],\n",
       "  [1.0, -0.618787, 10.320986],\n",
       "  [1.0, 1.152083, 0.548467],\n",
       "  [1.0, 0.828534, 2.676045],\n",
       "  [1.0, -1.237728, 10.549033],\n",
       "  [1.0, -0.683565, -2.166125],\n",
       "  [1.0, 0.229456, 5.921938],\n",
       "  [1.0, -0.959885, 11.555336],\n",
       "  [1.0, 0.492911, 10.993324],\n",
       "  [1.0, 0.184992, 8.721488],\n",
       "  [1.0, -0.355715, 10.325976],\n",
       "  [1.0, -0.397822, 8.058397],\n",
       "  [1.0, 0.824839, 13.730343],\n",
       "  [1.0, 1.507278, 5.027866],\n",
       "  [1.0, 0.099671, 6.835839],\n",
       "  [1.0, -0.344008, 10.717485],\n",
       "  [1.0, 1.785928, 7.718645],\n",
       "  [1.0, -0.918801, 11.560217],\n",
       "  [1.0, -0.364009, 4.7473],\n",
       "  [1.0, -0.841722, 4.119083],\n",
       "  [1.0, 0.490426, 1.960539],\n",
       "  [1.0, -0.007194, 9.075792],\n",
       "  [1.0, 0.356107, 12.447863],\n",
       "  [1.0, 0.342578, 12.281162],\n",
       "  [1.0, -0.810823, -1.466018],\n",
       "  [1.0, 2.530777, 6.476801],\n",
       "  [1.0, 1.296683, 11.607559],\n",
       "  [1.0, 0.475487, 12.040035],\n",
       "  [1.0, -0.783277, 11.009725],\n",
       "  [1.0, 0.074798, 11.02365],\n",
       "  [1.0, -1.337472, 0.468339],\n",
       "  [1.0, -0.102781, 13.763651],\n",
       "  [1.0, -0.147324, 2.874846],\n",
       "  [1.0, 0.518389, 9.887035],\n",
       "  [1.0, 1.015399, 7.571882],\n",
       "  [1.0, -1.658086, -0.027255],\n",
       "  [1.0, 1.319944, 2.171228],\n",
       "  [1.0, 2.056216, 5.019981],\n",
       "  [1.0, -0.851633, 4.375691],\n",
       "  [1.0, -1.510047, 6.061992],\n",
       "  [1.0, -1.076637, -3.181888],\n",
       "  [1.0, 1.821096, 10.28399],\n",
       "  [1.0, 3.01015, 8.401766],\n",
       "  [1.0, -1.099458, 1.688274],\n",
       "  [1.0, -0.834872, -1.733869],\n",
       "  [1.0, -0.846637, 3.849075],\n",
       "  [1.0, 1.400102, 12.628781],\n",
       "  [1.0, 1.752842, 5.468166],\n",
       "  [1.0, 0.078557, 0.059736],\n",
       "  [1.0, 0.089392, -0.7153],\n",
       "  [1.0, 1.825662, 12.693808],\n",
       "  [1.0, 0.197445, 9.744638],\n",
       "  [1.0, 0.126117, 0.922311],\n",
       "  [1.0, -0.679797, 1.22053],\n",
       "  [1.0, 0.677983, 2.556666],\n",
       "  [1.0, 0.761349, 10.693862],\n",
       "  [1.0, -2.168791, 0.143632],\n",
       "  [1.0, 1.38861, 9.341997],\n",
       "  [1.0, 0.317029, 14.739025]],\n",
       " [0,\n",
       "  1,\n",
       "  0,\n",
       "  0,\n",
       "  0,\n",
       "  1,\n",
       "  0,\n",
       "  1,\n",
       "  0,\n",
       "  0,\n",
       "  1,\n",
       "  0,\n",
       "  1,\n",
       "  0,\n",
       "  1,\n",
       "  1,\n",
       "  1,\n",
       "  1,\n",
       "  1,\n",
       "  1,\n",
       "  1,\n",
       "  1,\n",
       "  0,\n",
       "  1,\n",
       "  1,\n",
       "  0,\n",
       "  0,\n",
       "  1,\n",
       "  1,\n",
       "  0,\n",
       "  1,\n",
       "  1,\n",
       "  0,\n",
       "  1,\n",
       "  1,\n",
       "  0,\n",
       "  0,\n",
       "  0,\n",
       "  0,\n",
       "  0,\n",
       "  1,\n",
       "  1,\n",
       "  0,\n",
       "  1,\n",
       "  1,\n",
       "  0,\n",
       "  1,\n",
       "  1,\n",
       "  0,\n",
       "  0,\n",
       "  0,\n",
       "  0,\n",
       "  0,\n",
       "  0,\n",
       "  1,\n",
       "  1,\n",
       "  0,\n",
       "  1,\n",
       "  0,\n",
       "  1,\n",
       "  1,\n",
       "  1,\n",
       "  0,\n",
       "  0,\n",
       "  0,\n",
       "  1,\n",
       "  1,\n",
       "  0,\n",
       "  0,\n",
       "  0,\n",
       "  0,\n",
       "  1,\n",
       "  0,\n",
       "  1,\n",
       "  0,\n",
       "  0,\n",
       "  1,\n",
       "  1,\n",
       "  1,\n",
       "  1,\n",
       "  0,\n",
       "  1,\n",
       "  0,\n",
       "  1,\n",
       "  1,\n",
       "  1,\n",
       "  1,\n",
       "  0,\n",
       "  1,\n",
       "  1,\n",
       "  1,\n",
       "  0,\n",
       "  0,\n",
       "  1,\n",
       "  1,\n",
       "  1,\n",
       "  0,\n",
       "  1,\n",
       "  0,\n",
       "  0])"
      ]
     },
     "execution_count": 2,
     "metadata": {},
     "output_type": "execute_result"
    }
   ],
   "source": [
    "from numpy import *\n",
    "import pandas as pd\n",
    "from pandas import DataFrame\n",
    "filename='./data.txt' #文件目录\n",
    "#df = DataFrame(pd.read_csv('/Users/apple27/Documents/logi.csv'))\n",
    "def loadDataSet():   #读取数据（这里只有两个特征）\n",
    "    df=pd.read_csv(filename)\n",
    "    print(df)\n",
    "    dataMat = []\n",
    "    labelMat = []\n",
    "    fr = open(filename)\n",
    "    for line in fr.readlines():\n",
    "        lineArr = line.strip().split()\n",
    "        dataMat.append([1.0, float(lineArr[0]), float(lineArr[1])])  #前面的1，表示方程的常量。比如两个特征X1,X2，共需要三个参数，W1+W2*X1+W3*X2\n",
    "        labelMat.append(int(lineArr[2]))\n",
    "    return dataMat,labelMat\n",
    "loadDataSet()"
   ]
  },
  {
   "cell_type": "markdown",
   "metadata": {},
   "source": [
    "sigmoid函数"
   ]
  },
  {
   "cell_type": "code",
   "execution_count": 3,
   "metadata": {},
   "outputs": [],
   "source": [
    "def sigmoid(inX):  #sigmoid函数\n",
    "    return 1.0/(1+exp(-inX))"
   ]
  },
  {
   "cell_type": "markdown",
   "metadata": {},
   "source": [
    "改进版随机梯度上升，在每次迭代中随机选择样本来更新权重，并且随迭代次数增加，，权重变化越小。"
   ]
  },
  {
   "cell_type": "code",
   "execution_count": 4,
   "metadata": {},
   "outputs": [],
   "source": [
    "def stocGradAscent1(dataMat, labelMat): #改进版随机梯度上升，在每次迭代中随机选择样本来更新权重，并且随迭代次数增加，权重变化越小。\n",
    "    dataMatrix=mat(dataMat)\n",
    "    classLabels=labelMat\n",
    "    m,n=shape(dataMatrix)\n",
    "    weights=ones((n,1))\n",
    "    maxCycles=500\n",
    "    for j in range(maxCycles): #迭代\n",
    "        dataIndex=[i for i in range(m)]\n",
    "        for i in range(m): #随机遍历每一行\n",
    "            alpha=4/(1+j+i)+0.0001  #随迭代次数增加，权重变化越小。\n",
    "            randIndex=int(random.uniform(0,len(dataIndex)))  #随机抽样\n",
    "            h=sigmoid(sum(dataMatrix[randIndex]*weights))\n",
    "            error=classLabels[randIndex]-h\n",
    "            weights=weights+alpha*error*dataMatrix[randIndex].transpose()\n",
    "            del(dataIndex[randIndex]) #去除已经抽取的样本\n",
    "    return weights\n"
   ]
  },
  {
   "cell_type": "markdown",
   "metadata": {},
   "source": [
    "画出最终分类的图"
   ]
  },
  {
   "cell_type": "code",
   "execution_count": 8,
   "metadata": {},
   "outputs": [
    {
     "name": "stdout",
     "output_type": "stream",
     "text": [
      "    -0.017612   14.053064   0\n",
      "0   -1.395634   4.662541    1\n",
      "1   -0.752157   6.538620    0\n",
      "2   -1.322371   7.152853    0\n",
      "3   0.423363    11.054677   0\n",
      "4   0.406704    7.067335    1\n",
      "..                        ...\n",
      "94  0.677983    2.556666    1\n",
      "95  0.761349    10.693862   0\n",
      "96  -2.168791   0.143632    1\n",
      "97  1.388610    9.341997    0\n",
      "98  0.317029    14.739025   0\n",
      "\n",
      "[99 rows x 1 columns]\n",
      "    -0.017612   14.053064   0\n",
      "0   -1.395634   4.662541    1\n",
      "1   -0.752157   6.538620    0\n",
      "2   -1.322371   7.152853    0\n",
      "3   0.423363    11.054677   0\n",
      "4   0.406704    7.067335    1\n",
      "..                        ...\n",
      "94  0.677983    2.556666    1\n",
      "95  0.761349    10.693862   0\n",
      "96  -2.168791   0.143632    1\n",
      "97  1.388610    9.341997    0\n",
      "98  0.317029    14.739025   0\n",
      "\n",
      "[99 rows x 1 columns]\n"
     ]
    },
    {
     "data": {
      "image/png": "[encoded data removed]",
      "text/plain": [
       "<Figure size 432x288 with 1 Axes>"
      ]
     },
     "metadata": {
      "needs_background": "light"
     },
     "output_type": "display_data"
    },
    {
     "data": {
      "text/plain": [
       "<Figure size 432x288 with 0 Axes>"
      ]
     },
     "metadata": {},
     "output_type": "display_data"
    }
   ],
   "source": [
    "def plotBestFit(weights):  #画出最终分类的图\n",
    "    import matplotlib.pyplot as plt\n",
    "    dataMat,labelMat=loadDataSet()\n",
    "    dataArr = array(dataMat)\n",
    "    n = shape(dataArr)[0]\n",
    "    xcord1 = []; ycord1 = []\n",
    "    xcord2 = []; ycord2 = []\n",
    "    for i in range(n):\n",
    "        if int(labelMat[i])== 1:\n",
    "            xcord1.append(dataArr[i,1])\n",
    "            ycord1.append(dataArr[i,2])\n",
    "        else:\n",
    "            xcord2.append(dataArr[i,1])\n",
    "            ycord2.append(dataArr[i,2])\n",
    "    fig = plt.figure()\n",
    "    ax = fig.add_subplot(111)\n",
    "    ax.scatter(xcord1, ycord1, s=30, c='red', marker='s')\n",
    "    ax.scatter(xcord2, ycord2, s=30, c='green')\n",
    "    x = arange(-3.0, 3.0, 0.1)\n",
    "    y = (-weights[0]-weights[1]*x)/weights[2]\n",
    "    ax.plot(x, y)\n",
    "    plt.xlabel('X1')\n",
    "    plt.ylabel('X2')\n",
    "    plt.show()\n",
    "    plt.savefig('logExample.png', format='png')\n",
    "def main():\n",
    "    datamat,labelmat=loadDataSet()\n",
    "    weights=stocGradAscent1(datamat, labelmat).getA()\n",
    "    plotBestFit(weights)\n",
    "\n",
    "if __name__=='__main__':\n",
    "    main()\n"
   ]
  },
  {
   "cell_type": "markdown",
   "metadata": {},
   "source": [
    "### 编程要求"
   ]
  },
  {
   "cell_type": "markdown",
   "metadata": {},
   "source": [
    "复习逻辑回归的基本原理与概念，编程实现基于逻辑回归的环境检测数据异常分析与预测实验。"
   ]
  },
  {
   "cell_type": "markdown",
   "metadata": {},
   "source": [
    "### 参考答案"
   ]
  },
  {
   "cell_type": "code",
   "execution_count": null,
   "metadata": {},
   "outputs": [],
   "source": [
    "# -*- coding: utf-8 -*-\n",
    "from numpy import *\n",
    "import pandas as pd\n",
    "from pandas import DataFrame\n",
    "filename='./data.txt' #文件目录\n",
    "#df = DataFrame(pd.read_csv('/Users/apple27/Documents/logi.csv'))\n",
    "def loadDataSet():   #读取数据（这里只有两个特征）\n",
    "    df=pd.read_csv(filename)\n",
    "    print(df)\n",
    "    dataMat = []\n",
    "    labelMat = []\n",
    "    fr = open(filename)\n",
    "    for line in fr.readlines():\n",
    "        lineArr = line.strip().split()\n",
    "        dataMat.append([1.0, float(lineArr[0]), float(lineArr[1])])  #前面的1，表示方程的常量。比如两个特征X1,X2，共需要三个参数，W1+W2*X1+W3*X2\n",
    "        labelMat.append(int(lineArr[2]))\n",
    "    return dataMat,labelMat\n",
    "\n",
    "loadDataSet()\n",
    "def sigmoid(inX):  #sigmoid函数\n",
    "    return 1.0/(1+exp(-inX))\n",
    "\n",
    "def stocGradAscent1(dataMat, labelMat): #改进版随机梯度上升，在每次迭代中随机选择样本来更新权重，并且随迭代次数增加，权重变化越小。\n",
    "    dataMatrix=mat(dataMat)\n",
    "    classLabels=labelMat\n",
    "    m,n=shape(dataMatrix)\n",
    "    weights=ones((n,1))\n",
    "    maxCycles=500\n",
    "    for j in range(maxCycles): #迭代\n",
    "        dataIndex=[i for i in range(m)]\n",
    "        for i in range(m): #随机遍历每一行\n",
    "            alpha=4/(1+j+i)+0.0001  #随迭代次数增加，权重变化越小。\n",
    "            randIndex=int(random.uniform(0,len(dataIndex)))  #随机抽样\n",
    "            h=sigmoid(sum(dataMatrix[randIndex]*weights))\n",
    "            error=classLabels[randIndex]-h\n",
    "            weights=weights+alpha*error*dataMatrix[randIndex].transpose()\n",
    "            del(dataIndex[randIndex]) #去除已经抽取的样本\n",
    "    return weights\n",
    "\n",
    "def plotBestFit(weights):  #画出最终分类的图\n",
    "    import matplotlib.pyplot as plt\n",
    "    dataMat,labelMat=loadDataSet()\n",
    "    dataArr = array(dataMat)\n",
    "    n = shape(dataArr)[0]\n",
    "    xcord1 = []; ycord1 = []\n",
    "    xcord2 = []; ycord2 = []\n",
    "    for i in range(n):\n",
    "        if int(labelMat[i])== 1:\n",
    "            xcord1.append(dataArr[i,1])\n",
    "            ycord1.append(dataArr[i,2])\n",
    "        else:\n",
    "            xcord2.append(dataArr[i,1])\n",
    "            ycord2.append(dataArr[i,2])\n",
    "    fig = plt.figure()\n",
    "    ax = fig.add_subplot(111)\n",
    "    ax.scatter(xcord1, ycord1, s=30, c='red', marker='s')\n",
    "    ax.scatter(xcord2, ycord2, s=30, c='green')\n",
    "    x = arange(-3.0, 3.0, 0.1)\n",
    "    y = (-weights[0]-weights[1]*x)/weights[2]\n",
    "    ax.plot(x, y)\n",
    "    plt.xlabel('X1')\n",
    "    plt.ylabel('X2')\n",
    "    plt.show()\n",
    "    plt.savefig('logExample.png', format='png')\n",
    "def main():\n",
    "    datamat,labelmat=loadDataSet()\n",
    "    weights=stocGradAscent1(datamat, labelmat).getA()\n",
    "    plotBestFit(weights)\n",
    "\n",
    "if __name__=='__main__':\n",
    "    main()\n",
    "\n",
    "\n",
    "from numpy import *\n",
    "import matplotlib.pyplot as plt\n",
    "\n",
    "\n",
    "def sigmoid(X):\n",
    "    return 1.0 / (1 + exp(-X))\n",
    "\n",
    "\n",
    "class logRegressClassifier(object):\n",
    "\n",
    "    def __init__(self):\n",
    "        self.dataMat = list()\n",
    "        self.labelMat = list()\n",
    "        self.weights = list()\n",
    "\n",
    "    def loadDataSet(self, filename):\n",
    "        fr = open(filename)\n",
    "        for line in fr.readlines():\n",
    "            lineArr = line.strip().split()\n",
    "            dataLine = [1.0]\n",
    "            for i in lineArr:\n",
    "                dataLine.append(float(i))\n",
    "            label = dataLine.pop()  # pop the last column referring to  label\n",
    "            self.dataMat.append(dataLine)\n",
    "            self.labelMat.append(int(label))\n",
    "        self.dataMat = mat(self.dataMat)\n",
    "        self.labelMat = mat(self.labelMat).transpose()\n",
    "\n",
    "    def train(self):\n",
    "        self.weights = self.stocGradAscent1()\n",
    "\n",
    "    def batchGradAscent(self):\n",
    "        m, n = shape(self.dataMat)\n",
    "        alpha = 0.001\n",
    "        maxCycles = 500\n",
    "        weights = ones((n, 1))\n",
    "        for k in range(maxCycles):  # heavy on matrix operations\n",
    "            h = sigmoid(self.dataMat * weights)  # matrix mult\n",
    "            error = (self.labelMat - h)  # vector subtraction\n",
    "            weights += alpha * self.dataMat.transpose() * error  # matrix mult\n",
    "        return weights\n",
    "\n",
    "    def stocGradAscent1(self):\n",
    "        m, n = shape(self.dataMat)\n",
    "        alpha = 0.01\n",
    "        weights = ones((n, 1))  # initialize to all ones\n",
    "        for i in range(m):\n",
    "            h = sigmoid(sum(self.dataMat[i] * weights))\n",
    "            error = self.labelMat[i] - h\n",
    "            weights += (alpha * error * self.dataMat[i]).transpose()\n",
    "        return weights\n",
    "\n",
    "    def stocGradAscent2(self):\n",
    "        numIter = 2\n",
    "        m, n = shape(self.dataMat)\n",
    "        weights = ones((n, 1))  # initialize to all ones\n",
    "        for j in range(numIter):\n",
    "            dataIndex = range(m)\n",
    "            for i in range(m):\n",
    "                alpha = 4 / (1.0 + j + i) + 0.0001  # apha decreases with iteration, does not\n",
    "                randIndex = int(random.uniform(0, len(dataIndex)))  # go to 0 because of the constant\n",
    "                h = sigmoid(sum(self.dataMat[randIndex] * weights))\n",
    "                error = self.labelMat[randIndex] - h\n",
    "                weights += (alpha * error * self.dataMat[randIndex]).transpose()\n",
    "                del (dataIndex[randIndex])\n",
    "        return weights\n",
    "\n",
    "    def classify(self, X):\n",
    "        prob = sigmoid(sum(X * self.weights))\n",
    "        if prob > 0.5:\n",
    "            return 1.0\n",
    "        else:\n",
    "            return 0.0\n",
    "\n",
    "if __name__ == '__main__':\n",
    "    lr = logRegressClassifier()"
   ]
  }
 ],
 "metadata": {
  "kernelspec": {
   "display_name": "Python 3",
   "language": "python",
   "name": "python3"
  },
  "language_info": {
   "codemirror_mode": {
    "name": "ipython",
    "version": 3
   },
   "file_extension": ".py",
   "mimetype": "text/x-python",
   "name": "python",
   "nbconvert_exporter": "python",
   "pygments_lexer": "ipython3",
   "version": "3.8.3"
  }
 },
 "nbformat": 4,
 "nbformat_minor": 4
}
