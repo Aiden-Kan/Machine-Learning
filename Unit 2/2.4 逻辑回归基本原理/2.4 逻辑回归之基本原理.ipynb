{
 "cells": [
  {
   "cell_type": "markdown",
   "metadata": {},
   "source": [
    "### 任务描述"
   ]
  },
  {
   "cell_type": "markdown",
   "metadata": {},
   "source": [
    "根据本节所学知识，熟悉逻辑回归的基本概念及用途，掌握逻辑回归的常规步骤并构建预测函数。"
   ]
  },
  {
   "cell_type": "markdown",
   "metadata": {},
   "source": [
    "### 相关知识"
   ]
  },
  {
   "cell_type": "markdown",
   "metadata": {},
   "source": [
    "**基本概念**"
   ]
  },
  {
   "cell_type": "markdown",
   "metadata": {},
   "source": [
    "逻辑回归也被称为广义线性回归模型，它与线性回归模型的形式基本上相同，最大的区别就在于它们的因变量不同，如果是连续的，就是多重线性回归；如果是二项分布，就是逻辑回归。"
   ]
  },
  {
   "cell_type": "markdown",
   "metadata": {},
   "source": [
    "Logistic回归虽然名字里带“回归”，但是它实际上是一种分类方法，主要用于两分类问题（即输出只有两种，分别代表两个类别）。"
   ]
  },
  {
   "cell_type": "markdown",
   "metadata": {},
   "source": [
    "逻辑回归就是这样的一个过程：面对一个回归或者分类问题，建立代价函数，然后通过优化方法迭代求解出最优的模型参数，然后测试验证我们这个求解的模型的好坏。"
   ]
  },
  {
   "cell_type": "markdown",
   "metadata": {},
   "source": [
    "**逻辑回归的优缺点**"
   ]
  },
  {
   "cell_type": "markdown",
   "metadata": {},
   "source": [
    "**优点**"
   ]
  },
  {
   "cell_type": "markdown",
   "metadata": {},
   "source": [
    "1.速度快，适用于二分类问题"
   ]
  },
  {
   "cell_type": "markdown",
   "metadata": {},
   "source": [
    "2.简单易于理解，直接看到各个特征的权重"
   ]
  },
  {
   "cell_type": "markdown",
   "metadata": {},
   "source": [
    "3.能容易地更新模型吸收新的数据"
   ]
  },
  {
   "cell_type": "markdown",
   "metadata": {},
   "source": [
    "**缺点**"
   ]
  },
  {
   "cell_type": "markdown",
   "metadata": {},
   "source": [
    "对数据和场景的适应能力有局限性，不如决策树算法适应性那么强。"
   ]
  },
  {
   "cell_type": "markdown",
   "metadata": {},
   "source": [
    "**逻辑回归用途**"
   ]
  },
  {
   "cell_type": "markdown",
   "metadata": {},
   "source": [
    "逻辑回归分类器适用于各项广义上的分类任务，例如：评论信息的正负情感分析（二分类）、用户点击率（二分类）、用户违约信息预测（二分类）、垃圾邮件检测（二分类）、疾病预测（二分类）、用户等级分类（多分类）等场景。"
   ]
  },
  {
   "cell_type": "markdown",
   "metadata": {},
   "source": [
    "**寻找危险因素**"
   ]
  },
  {
   "cell_type": "markdown",
   "metadata": {},
   "source": [
    "寻找某一疾病的危险因素等；"
   ]
  },
  {
   "cell_type": "markdown",
   "metadata": {},
   "source": [
    "**预测**"
   ]
  },
  {
   "cell_type": "markdown",
   "metadata": {},
   "source": [
    "根据模型，预测在不同的自变量情况下，发生某病或某种情况的概率有多大；"
   ]
  },
  {
   "cell_type": "markdown",
   "metadata": {},
   "source": [
    "**判别**"
   ]
  },
  {
   "cell_type": "markdown",
   "metadata": {},
   "source": [
    "实际上跟预测有些类似，也是根据模型，判断某人属于某病或属于某种情况的概率有多大，也就是看一下这个人有多大的可能性是属于某病。"
   ]
  },
  {
   "cell_type": "markdown",
   "metadata": {},
   "source": [
    "**常规步骤**"
   ]
  },
  {
   "cell_type": "markdown",
   "metadata": {},
   "source": [
    "1.寻找h函数（即预测函数）"
   ]
  },
  {
   "cell_type": "markdown",
   "metadata": {},
   "source": [
    "   二分类问题的概率与自变量之间的关系图形往往是一个S型曲线，采用Sigmoid函数实现，函数形式为："
   ]
  },
  {
   "cell_type": "markdown",
   "metadata": {},
   "source": [
    "![jupyter](https://i.loli.net/2021/05/22/YBFGhRMPs5doNU9.png)"
   ]
  },
  {
   "cell_type": "markdown",
   "metadata": {},
   "source": [
    "构造预测函数为：\n",
    "   \n",
    "   sigmoid的函数输出是介于（0，1）之间的，中间值是0.5，公式的含义就很好理解了，因为输出是介于（0，1）之间，也就表明了数据属于某一类别的概\n",
    "   \n",
    " 率，例如： <0.5则说明当前数据属于A类；>0.5则说明当前数据属于B类。所以我们可以将sigmoid函数看成样本数据的概率密度函数。"
   ]
  },
  {
   "cell_type": "markdown",
   "metadata": {},
   "source": [
    "![jupyter](https://i.loli.net/2021/05/20/jrxIshwgfSalZDe.png)\n",
    "\n",
    "\n",
    "![jupyter](https://i.loli.net/2021/05/20/1kVsGg9cTJSQyK6.png)\n",
    "\n",
    "![jupyter](https://i.loli.net/2021/05/20/bqHnd5z8OD9ZWk7.png)"
   ]
  },
  {
   "cell_type": "markdown",
   "metadata": {},
   "source": [
    "2.构造J函数（损失函数）"
   ]
  },
  {
   "cell_type": "markdown",
   "metadata": {},
   "source": [
    "   与多元线性回归所采用的最小二乘法的参数估计方法相对应，最大似然法是逻辑回归所采用的参\n",
    " \n",
    "数估计方法，其原理是找到这样一个参数，可以让样本数据所包含的观察值被观察到的可能性最大。\n",
    "\n",
    "这种寻找最大可能性的方法需要反复计算，对计算能力有很高的要求。最大似然法的优点是大样本数\n",
    "\n",
    "据中参数的估计稳定、偏差小、估计方差小。\n"
   ]
  },
  {
   "cell_type": "markdown",
   "metadata": {},
   "source": [
    "3.想办法使得J函数最小并求得回归参数（θ）"
   ]
  },
  {
   "cell_type": "markdown",
   "metadata": {},
   "source": [
    "**预测函数**"
   ]
  },
  {
   "cell_type": "markdown",
   "metadata": {},
   "source": [
    "二分类问题的概率与自变量之间的关系图形往往是一个S型曲线，采用Sigmoid函数实现，函数形式为："
   ]
  },
  {
   "cell_type": "markdown",
   "metadata": {},
   "source": [
    "![jupyter](https://i.loli.net/2021/05/22/YBFGhRMPs5doNU9.png)"
   ]
  },
  {
   "cell_type": "markdown",
   "metadata": {},
   "source": [
    "下面是绘制Sigmoid函数的代码:\n"
   ]
  },
  {
   "cell_type": "code",
   "execution_count": 1,
   "metadata": {},
   "outputs": [
    {
     "name": "stdout",
     "output_type": "stream",
     "text": [
      "Sigmoid Function Input :: [-1.00000000e+01 -9.90000000e+00 -9.80000000e+00 -9.70000000e+00\n",
      " -9.60000000e+00 -9.50000000e+00 -9.40000000e+00 -9.30000000e+00\n",
      " -9.20000000e+00 -9.10000000e+00 -9.00000000e+00 -8.90000000e+00\n",
      " -8.80000000e+00 -8.70000000e+00 -8.60000000e+00 -8.50000000e+00\n",
      " -8.40000000e+00 -8.30000000e+00 -8.20000000e+00 -8.10000000e+00\n",
      " -8.00000000e+00 -7.90000000e+00 -7.80000000e+00 -7.70000000e+00\n",
      " -7.60000000e+00 -7.50000000e+00 -7.40000000e+00 -7.30000000e+00\n",
      " -7.20000000e+00 -7.10000000e+00 -7.00000000e+00 -6.90000000e+00\n",
      " -6.80000000e+00 -6.70000000e+00 -6.60000000e+00 -6.50000000e+00\n",
      " -6.40000000e+00 -6.30000000e+00 -6.20000000e+00 -6.10000000e+00\n",
      " -6.00000000e+00 -5.90000000e+00 -5.80000000e+00 -5.70000000e+00\n",
      " -5.60000000e+00 -5.50000000e+00 -5.40000000e+00 -5.30000000e+00\n",
      " -5.20000000e+00 -5.10000000e+00 -5.00000000e+00 -4.90000000e+00\n",
      " -4.80000000e+00 -4.70000000e+00 -4.60000000e+00 -4.50000000e+00\n",
      " -4.40000000e+00 -4.30000000e+00 -4.20000000e+00 -4.10000000e+00\n",
      " -4.00000000e+00 -3.90000000e+00 -3.80000000e+00 -3.70000000e+00\n",
      " -3.60000000e+00 -3.50000000e+00 -3.40000000e+00 -3.30000000e+00\n",
      " -3.20000000e+00 -3.10000000e+00 -3.00000000e+00 -2.90000000e+00\n",
      " -2.80000000e+00 -2.70000000e+00 -2.60000000e+00 -2.50000000e+00\n",
      " -2.40000000e+00 -2.30000000e+00 -2.20000000e+00 -2.10000000e+00\n",
      " -2.00000000e+00 -1.90000000e+00 -1.80000000e+00 -1.70000000e+00\n",
      " -1.60000000e+00 -1.50000000e+00 -1.40000000e+00 -1.30000000e+00\n",
      " -1.20000000e+00 -1.10000000e+00 -1.00000000e+00 -9.00000000e-01\n",
      " -8.00000000e-01 -7.00000000e-01 -6.00000000e-01 -5.00000000e-01\n",
      " -4.00000000e-01 -3.00000000e-01 -2.00000000e-01 -1.00000000e-01\n",
      " -3.55271368e-14  1.00000000e-01  2.00000000e-01  3.00000000e-01\n",
      "  4.00000000e-01  5.00000000e-01  6.00000000e-01  7.00000000e-01\n",
      "  8.00000000e-01  9.00000000e-01  1.00000000e+00  1.10000000e+00\n",
      "  1.20000000e+00  1.30000000e+00  1.40000000e+00  1.50000000e+00\n",
      "  1.60000000e+00  1.70000000e+00  1.80000000e+00  1.90000000e+00\n",
      "  2.00000000e+00  2.10000000e+00  2.20000000e+00  2.30000000e+00\n",
      "  2.40000000e+00  2.50000000e+00  2.60000000e+00  2.70000000e+00\n",
      "  2.80000000e+00  2.90000000e+00  3.00000000e+00  3.10000000e+00\n",
      "  3.20000000e+00  3.30000000e+00  3.40000000e+00  3.50000000e+00\n",
      "  3.60000000e+00  3.70000000e+00  3.80000000e+00  3.90000000e+00\n",
      "  4.00000000e+00  4.10000000e+00  4.20000000e+00  4.30000000e+00\n",
      "  4.40000000e+00  4.50000000e+00  4.60000000e+00  4.70000000e+00\n",
      "  4.80000000e+00  4.90000000e+00  5.00000000e+00  5.10000000e+00\n",
      "  5.20000000e+00  5.30000000e+00  5.40000000e+00  5.50000000e+00\n",
      "  5.60000000e+00  5.70000000e+00  5.80000000e+00  5.90000000e+00\n",
      "  6.00000000e+00  6.10000000e+00  6.20000000e+00  6.30000000e+00\n",
      "  6.40000000e+00  6.50000000e+00  6.60000000e+00  6.70000000e+00\n",
      "  6.80000000e+00  6.90000000e+00  7.00000000e+00  7.10000000e+00\n",
      "  7.20000000e+00  7.30000000e+00  7.40000000e+00  7.50000000e+00\n",
      "  7.60000000e+00  7.70000000e+00  7.80000000e+00  7.90000000e+00\n",
      "  8.00000000e+00  8.10000000e+00  8.20000000e+00  8.30000000e+00\n",
      "  8.40000000e+00  8.50000000e+00  8.60000000e+00  8.70000000e+00\n",
      "  8.80000000e+00  8.90000000e+00  9.00000000e+00  9.10000000e+00\n",
      "  9.20000000e+00  9.30000000e+00  9.40000000e+00  9.50000000e+00\n",
      "  9.60000000e+00  9.70000000e+00  9.80000000e+00  9.90000000e+00]\n",
      "Sigmoid Function Output :: [4.53978687e-05 5.01721647e-05 5.54485247e-05 6.12797396e-05\n",
      " 6.77241496e-05 7.48462275e-05 8.27172229e-05 9.14158739e-05\n",
      " 1.01029194e-04 1.11653341e-04 1.23394576e-04 1.36370327e-04\n",
      " 1.50710358e-04 1.66558065e-04 1.84071905e-04 2.03426978e-04\n",
      " 2.24816770e-04 2.48455082e-04 2.74578156e-04 3.03447030e-04\n",
      " 3.35350130e-04 3.70606141e-04 4.09567165e-04 4.52622223e-04\n",
      " 5.00201107e-04 5.52778637e-04 6.10879359e-04 6.75082731e-04\n",
      " 7.46028834e-04 8.24424686e-04 9.11051194e-04 1.00677082e-03\n",
      " 1.11253603e-03 1.22939862e-03 1.35851995e-03 1.50118226e-03\n",
      " 1.65880108e-03 1.83293894e-03 2.02532039e-03 2.23784852e-03\n",
      " 2.47262316e-03 2.73196076e-03 3.01841632e-03 3.33480731e-03\n",
      " 3.68423990e-03 4.07013772e-03 4.49627316e-03 4.96680165e-03\n",
      " 5.48629890e-03 6.05980149e-03 6.69285092e-03 7.39154134e-03\n",
      " 8.16257115e-03 9.01329865e-03 9.95180187e-03 1.09869426e-02\n",
      " 1.21284350e-02 1.33869178e-02 1.47740317e-02 1.63024994e-02\n",
      " 1.79862100e-02 1.98403057e-02 2.18812709e-02 2.41270214e-02\n",
      " 2.65969936e-02 2.93122308e-02 3.22954647e-02 3.55711893e-02\n",
      " 3.91657228e-02 4.31072549e-02 4.74258732e-02 5.21535631e-02\n",
      " 5.73241759e-02 6.29733561e-02 6.91384203e-02 7.58581800e-02\n",
      " 8.31726965e-02 9.11229610e-02 9.97504891e-02 1.09096821e-01\n",
      " 1.19202922e-01 1.30108474e-01 1.41851065e-01 1.54465265e-01\n",
      " 1.67981615e-01 1.82425524e-01 1.97816111e-01 2.14165017e-01\n",
      " 2.31475217e-01 2.49739894e-01 2.68941421e-01 2.89050497e-01\n",
      " 3.10025519e-01 3.31812228e-01 3.54343694e-01 3.77540669e-01\n",
      " 4.01312340e-01 4.25557483e-01 4.50166003e-01 4.75020813e-01\n",
      " 5.00000000e-01 5.24979187e-01 5.49833997e-01 5.74442517e-01\n",
      " 5.98687660e-01 6.22459331e-01 6.45656306e-01 6.68187772e-01\n",
      " 6.89974481e-01 7.10949503e-01 7.31058579e-01 7.50260106e-01\n",
      " 7.68524783e-01 7.85834983e-01 8.02183889e-01 8.17574476e-01\n",
      " 8.32018385e-01 8.45534735e-01 8.58148935e-01 8.69891526e-01\n",
      " 8.80797078e-01 8.90903179e-01 9.00249511e-01 9.08877039e-01\n",
      " 9.16827304e-01 9.24141820e-01 9.30861580e-01 9.37026644e-01\n",
      " 9.42675824e-01 9.47846437e-01 9.52574127e-01 9.56892745e-01\n",
      " 9.60834277e-01 9.64428811e-01 9.67704535e-01 9.70687769e-01\n",
      " 9.73403006e-01 9.75872979e-01 9.78118729e-01 9.80159694e-01\n",
      " 9.82013790e-01 9.83697501e-01 9.85225968e-01 9.86613082e-01\n",
      " 9.87871565e-01 9.89013057e-01 9.90048198e-01 9.90986701e-01\n",
      " 9.91837429e-01 9.92608459e-01 9.93307149e-01 9.93940199e-01\n",
      " 9.94513701e-01 9.95033198e-01 9.95503727e-01 9.95929862e-01\n",
      " 9.96315760e-01 9.96665193e-01 9.96981584e-01 9.97268039e-01\n",
      " 9.97527377e-01 9.97762151e-01 9.97974680e-01 9.98167061e-01\n",
      " 9.98341199e-01 9.98498818e-01 9.98641480e-01 9.98770601e-01\n",
      " 9.98887464e-01 9.98993229e-01 9.99088949e-01 9.99175575e-01\n",
      " 9.99253971e-01 9.99324917e-01 9.99389121e-01 9.99447221e-01\n",
      " 9.99499799e-01 9.99547378e-01 9.99590433e-01 9.99629394e-01\n",
      " 9.99664650e-01 9.99696553e-01 9.99725422e-01 9.99751545e-01\n",
      " 9.99775183e-01 9.99796573e-01 9.99815928e-01 9.99833442e-01\n",
      " 9.99849290e-01 9.99863630e-01 9.99876605e-01 9.99888347e-01\n",
      " 9.99898971e-01 9.99908584e-01 9.99917283e-01 9.99925154e-01\n",
      " 9.99932276e-01 9.99938720e-01 9.99944551e-01 9.99949828e-01]\n"
     ]
    },
    {
     "data": {
      "image/png": "[encoded data removed]",
      "text/plain": [
       "<Figure size 432x288 with 1 Axes>"
      ]
     },
     "metadata": {
      "needs_background": "light"
     },
     "output_type": "display_data"
    }
   ],
   "source": [
    "import numpy as np\n",
    "import matplotlib.pyplot as plt\n",
    "\n",
    "\n",
    "def sigmoid(x):\n",
    "    return 1.0 / (1 + np.exp(-x))\n",
    "\n",
    "\n",
    "sigmoid_inputs = np.arange(-10, 10, 0.1)\n",
    "sigmoid_outputs = sigmoid(sigmoid_inputs)\n",
    "print(\"Sigmoid Function Input :: {}\".format(sigmoid_inputs))\n",
    "print(\"Sigmoid Function Output :: {}\".format(sigmoid_outputs))\n",
    "\n",
    "plt.plot(sigmoid_inputs, sigmoid_outputs)\n",
    "plt.xlabel(\"Sigmoid Inputs\")\n",
    "plt.ylabel(\"Sigmoid Outputs\")\n",
    "plt.show()"
   ]
  },
  {
   "cell_type": "markdown",
   "metadata": {},
   "source": [
    "构造预测函数为："
   ]
  },
  {
   "cell_type": "markdown",
   "metadata": {},
   "source": [
    "![jupyter](https://i.loli.net/2021/05/22/LePTyC5YlfmQBJs.png)"
   ]
  },
  {
   "cell_type": "markdown",
   "metadata": {},
   "source": [
    "### 编程要求"
   ]
  },
  {
   "cell_type": "markdown",
   "metadata": {},
   "source": [
    "略"
   ]
  },
  {
   "cell_type": "markdown",
   "metadata": {},
   "source": [
    "### 实战练习"
   ]
  },
  {
   "cell_type": "markdown",
   "metadata": {},
   "source": [
    "1.下列关于逻辑回归的说法错误的是（）"
   ]
  },
  {
   "cell_type": "markdown",
   "metadata": {},
   "source": [
    "A.速度快，适用于二分类问题"
   ]
  },
  {
   "cell_type": "markdown",
   "metadata": {},
   "source": [
    "B.能容易地更新模型吸收新的数据"
   ]
  },
  {
   "cell_type": "markdown",
   "metadata": {},
   "source": [
    "C.对数据和场景的适应能力很强"
   ]
  },
  {
   "cell_type": "markdown",
   "metadata": {},
   "source": [
    "D.简单易于理解，直接看到各个特征的权重"
   ]
  },
  {
   "cell_type": "markdown",
   "metadata": {},
   "source": [
    "2.逻辑回归分类器适用的场景包括（多选）（）"
   ]
  },
  {
   "cell_type": "markdown",
   "metadata": {},
   "source": [
    "A.评论信息的正负情感分析"
   ]
  },
  {
   "cell_type": "markdown",
   "metadata": {},
   "source": [
    "B.用户点击率"
   ]
  },
  {
   "cell_type": "markdown",
   "metadata": {},
   "source": [
    "C.用户违约信息预测"
   ]
  },
  {
   "cell_type": "markdown",
   "metadata": {},
   "source": [
    "D.垃圾邮件检测"
   ]
  },
  {
   "cell_type": "markdown",
   "metadata": {},
   "source": [
    "### 参考答案"
   ]
  },
  {
   "cell_type": "markdown",
   "metadata": {},
   "source": [
    "1.C"
   ]
  },
  {
   "cell_type": "markdown",
   "metadata": {},
   "source": [
    "2.ABCD"
   ]
  }
 ],
 "metadata": {
  "kernelspec": {
   "display_name": "Python 3",
   "language": "python",
   "name": "python3"
  },
  "language_info": {
   "codemirror_mode": {
    "name": "ipython",
    "version": 3
   },
   "file_extension": ".py",
   "mimetype": "text/x-python",
   "name": "python",
   "nbconvert_exporter": "python",
   "pygments_lexer": "ipython3",
   "version": "3.8.3"
  }
 },
 "nbformat": 4,
 "nbformat_minor": 4
}
