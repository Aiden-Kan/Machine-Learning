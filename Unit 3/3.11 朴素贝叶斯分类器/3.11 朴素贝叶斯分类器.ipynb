{
 "cells": [
  {
   "cell_type": "markdown",
   "id": "personalized-entrance",
   "metadata": {},
   "source": [
    "## 任务描述"
   ]
  },
  {
   "cell_type": "markdown",
   "id": "asian-campaign",
   "metadata": {},
   "source": [
    "1. 掌握朴素贝叶斯概念\n",
    "\n",
    "2. 掌握拉布拉斯平滑"
   ]
  },
  {
   "cell_type": "markdown",
   "id": "liable-lover",
   "metadata": {},
   "source": [
    "## 相关知识"
   ]
  },
  {
   "cell_type": "markdown",
   "id": "guided-premises",
   "metadata": {},
   "source": [
    "**朴素贝叶斯**"
   ]
  },
  {
   "cell_type": "markdown",
   "id": "angry-mauritius",
   "metadata": {},
   "source": [
    "理解了贝叶斯，那么让我们继续看看朴素贝叶斯。贝叶斯和朴素贝叶斯的概念是不同的，区别就在于“朴素”二字，朴素贝叶斯对条件概率分布做了条件独立性的假设。"
   ]
  },
  {
   "cell_type": "markdown",
   "id": "marked-active",
   "metadata": {},
   "source": [
    "比如下面的公式，假设有n个特征：$$P(a\\mid X)=P(X\\mid a)P(a)=P(x_1,x_2,...,x_n)$$"
   ]
  },
  {
   "cell_type": "markdown",
   "id": "weekly-checkout",
   "metadata": {},
   "source": [
    "由于每个特征都是独立的，我们可以进一步拆分公式"
   ]
  },
  {
   "cell_type": "markdown",
   "id": "smoking-script",
   "metadata": {},
   "source": [
    "$$P(a\\mid X)=P(X\\mid a)P(a)={P(X_1\\mid a)P(a)*P(X_2\\mid a)P(a)*...*P(X_n\\mid a)P(a)}$$"
   ]
  },
  {
   "cell_type": "markdown",
   "id": "brown-wesley",
   "metadata": {},
   "source": [
    "**拉普拉斯平滑**"
   ]
  },
  {
   "cell_type": "markdown",
   "id": "moderate-asbestos",
   "metadata": {},
   "source": [
    "在训练集有限的情况下，给定类别，某一特征值出现的条件概率$p(x_i|y)$可能为0，这样在贝叶斯公式中分子和分母都为0，为了避免这种情况，就要用到Laplace平滑，分子加1，分母加$x_i$可能出现的种类数。"
   ]
  },
  {
   "cell_type": "markdown",
   "id": "placed-saskatchewan",
   "metadata": {},
   "source": [
    "**西瓜分类实战**"
   ]
  },
  {
   "cell_type": "code",
   "execution_count": 1,
   "id": "residential-infection",
   "metadata": {},
   "outputs": [
    {
     "name": "stdout",
     "output_type": "stream",
     "text": [
      "watermelon3.0的数据集：\n",
      "     编号  色泽  根蒂  敲声  纹理  脐部  触感     密度    含糖率 好瓜\n",
      "0    1  青绿  蜷缩  浊响  清晰  凹陷  硬滑  0.697  0.460  是\n",
      "1    2  乌黑  蜷缩  沉闷  清晰  凹陷  硬滑  0.774  0.376  是\n",
      "2    3  乌黑  蜷缩  浊响  清晰  凹陷  硬滑  0.634  0.264  是\n",
      "3    4  青绿  蜷缩  沉闷  清晰  凹陷  硬滑  0.608  0.318  是\n",
      "4    5  浅白  蜷缩  浊响  清晰  凹陷  硬滑  0.556  0.215  是\n",
      "5    6  青绿  稍蜷  浊响  清晰  稍凹  软粘  0.403  0.237  是\n",
      "6    7  乌黑  稍蜷  浊响  稍糊  稍凹  软粘  0.481  0.149  是\n",
      "7    8  乌黑  稍蜷  浊响  清晰  稍凹  硬滑  0.437  0.211  是\n",
      "8    9  乌黑  稍蜷  沉闷  稍糊  稍凹  硬滑  0.666  0.091  否\n",
      "9   10  青绿  硬挺  清脆  清晰  平坦  软粘  0.243  0.267  否\n",
      "10  11  浅白  硬挺  清脆  模糊  平坦  硬滑  0.245  0.057  否\n",
      "11  12  浅白  蜷缩  浊响  模糊  平坦  软粘  0.343  0.099  否\n",
      "12  13  青绿  稍蜷  浊响  稍糊  凹陷  硬滑  0.639  0.161  否\n",
      "13  14  浅白  稍蜷  沉闷  稍糊  凹陷  硬滑  0.657  0.198  否\n",
      "14  15  乌黑  稍蜷  浊响  清晰  稍凹  软粘  0.360  0.370  否\n",
      "15  16  浅白  蜷缩  浊响  模糊  平坦  硬滑  0.593  0.042  否\n",
      "16  17  青绿  蜷缩  沉闷  稍糊  稍凹  硬滑  0.719  0.103  否\n"
     ]
    }
   ],
   "source": [
    "import pandas as pd\n",
    "datasets = pd.read_csv(\"../../data/3.11/watermelon3.0.txt\")\n",
    "print(\"watermelon3.0的数据集：\\n\",datasets)"
   ]
  },
  {
   "cell_type": "code",
   "execution_count": 2,
   "id": "occupational-guess",
   "metadata": {},
   "outputs": [
    {
     "name": "stdout",
     "output_type": "stream",
     "text": [
      "修改后的数据集:\n",
      "     色泽  根蒂  敲声  纹理  脐部  触感     密度    含糖率 好瓜\n",
      "0   青绿  蜷缩  浊响  清晰  凹陷  硬滑  0.697  0.460  是\n",
      "1   乌黑  蜷缩  沉闷  清晰  凹陷  硬滑  0.774  0.376  是\n",
      "2   乌黑  蜷缩  浊响  清晰  凹陷  硬滑  0.634  0.264  是\n",
      "3   青绿  蜷缩  沉闷  清晰  凹陷  硬滑  0.608  0.318  是\n",
      "4   浅白  蜷缩  浊响  清晰  凹陷  硬滑  0.556  0.215  是\n",
      "5   青绿  稍蜷  浊响  清晰  稍凹  软粘  0.403  0.237  是\n",
      "6   乌黑  稍蜷  浊响  稍糊  稍凹  软粘  0.481  0.149  是\n",
      "7   乌黑  稍蜷  浊响  清晰  稍凹  硬滑  0.437  0.211  是\n",
      "8   乌黑  稍蜷  沉闷  稍糊  稍凹  硬滑  0.666  0.091  否\n",
      "9   青绿  硬挺  清脆  清晰  平坦  软粘  0.243  0.267  否\n",
      "10  浅白  硬挺  清脆  模糊  平坦  硬滑  0.245  0.057  否\n",
      "11  浅白  蜷缩  浊响  模糊  平坦  软粘  0.343  0.099  否\n",
      "12  青绿  稍蜷  浊响  稍糊  凹陷  硬滑  0.639  0.161  否\n",
      "13  浅白  稍蜷  沉闷  稍糊  凹陷  硬滑  0.657  0.198  否\n",
      "14  乌黑  稍蜷  浊响  清晰  稍凹  软粘  0.360  0.370  否\n",
      "15  浅白  蜷缩  浊响  模糊  平坦  硬滑  0.593  0.042  否\n",
      "16  青绿  蜷缩  沉闷  稍糊  稍凹  硬滑  0.719  0.103  否\n"
     ]
    }
   ],
   "source": [
    "del datasets['编号']\n",
    "print(\"修改后的数据集:\\n\",datasets)"
   ]
  },
  {
   "cell_type": "code",
   "execution_count": 3,
   "id": "fluid-theater",
   "metadata": {},
   "outputs": [
    {
     "name": "stdout",
     "output_type": "stream",
     "text": [
      "[['青绿', '蜷缩', '浊响', '清晰', '凹陷', '硬滑', 0.697, 0.46, '是'], ['乌黑', '蜷缩', '沉闷', '清晰', '凹陷', '硬滑', 0.774, 0.376, '是'], ['乌黑', '蜷缩', '浊响', '清晰', '凹陷', '硬滑', 0.634, 0.264, '是'], ['青绿', '蜷缩', '沉闷', '清晰', '凹陷', '硬滑', 0.608, 0.318, '是'], ['浅白', '蜷缩', '浊响', '清晰', '凹陷', '硬滑', 0.556, 0.215, '是'], ['青绿', '稍蜷', '浊响', '清晰', '稍凹', '软粘', 0.403, 0.237, '是'], ['乌黑', '稍蜷', '浊响', '稍糊', '稍凹', '软粘', 0.481, 0.149, '是'], ['乌黑', '稍蜷', '浊响', '清晰', '稍凹', '硬滑', 0.437, 0.211, '是'], ['乌黑', '稍蜷', '沉闷', '稍糊', '稍凹', '硬滑', 0.666, 0.091, '否'], ['青绿', '硬挺', '清脆', '清晰', '平坦', '软粘', 0.243, 0.267, '否'], ['浅白', '硬挺', '清脆', '模糊', '平坦', '硬滑', 0.245, 0.057, '否'], ['浅白', '蜷缩', '浊响', '模糊', '平坦', '软粘', 0.343, 0.099, '否'], ['青绿', '稍蜷', '浊响', '稍糊', '凹陷', '硬滑', 0.639, 0.161, '否'], ['浅白', '稍蜷', '沉闷', '稍糊', '凹陷', '硬滑', 0.657, 0.198, '否'], ['乌黑', '稍蜷', '浊响', '清晰', '稍凹', '软粘', 0.36, 0.37, '否'], ['浅白', '蜷缩', '浊响', '模糊', '平坦', '硬滑', 0.593, 0.042, '否'], ['青绿', '蜷缩', '沉闷', '稍糊', '稍凹', '硬滑', 0.719, 0.103, '否']]\n"
     ]
    }
   ],
   "source": [
    "data = datasets.values.tolist()\n",
    "print(data)"
   ]
  },
  {
   "cell_type": "code",
   "execution_count": 4,
   "id": "level-driving",
   "metadata": {},
   "outputs": [
    {
     "name": "stdout",
     "output_type": "stream",
     "text": [
      "好瓜的数量为： 8\n",
      "坏瓜的数量为： 9\n"
     ]
    }
   ],
   "source": [
    "goodMelon = []\n",
    "badMelon = []\n",
    "for i in range(len(data)):\n",
    "    if data[i][8] == \"是\":\n",
    "        goodMelon.append(data[i])\n",
    "    else:\n",
    "        badMelon.append(data[i])\n",
    "print(\"好瓜的数量为：\",len(goodMelon))\n",
    "print(\"坏瓜的数量为：\",len(badMelon))"
   ]
  },
  {
   "cell_type": "code",
   "execution_count": 5,
   "id": "structural-indonesia",
   "metadata": {},
   "outputs": [],
   "source": [
    "test=['青绿','蜷缩','浊响','清晰','凹陷','硬滑',0.697,0.460]"
   ]
  },
  {
   "cell_type": "code",
   "execution_count": 6,
   "id": "lightweight-landscape",
   "metadata": {},
   "outputs": [
    {
     "name": "stdout",
     "output_type": "stream",
     "text": [
      "p1: 0.0022579199999999996\n",
      "p2: 2.3511971962570567e-05\n"
     ]
    }
   ],
   "source": [
    "# 计算p(x|C1)=p1与p(x|C2)=p2\n",
    "p1 = 1.0;p2 = 1.0\n",
    "for j in range(len(test)):\n",
    "    x=0.0\n",
    "    for k in range(len(goodMelon)):\n",
    "        if goodMelon[k][j] == test[j]:\n",
    "            x = x + 1.0\n",
    "    p1 = p1 * ((x + 1.0) / (len(goodMelon) + 2.0))  # 拉普拉斯平滑\n",
    "for j in range(len(test)):\n",
    "    x=0.0\n",
    "    for k in range(len(badMelon)):\n",
    "        if badMelon[k][j] == test[j]:\n",
    "            x = x + 1.0\n",
    "    p2 = p2 * ((x + 1.0) / (len(badMelon) + 2.0))  # 拉普拉斯平滑\n",
    "print(\"p1:\",p1)\n",
    "print(\"p2:\",p2)"
   ]
  },
  {
   "cell_type": "code",
   "execution_count": 7,
   "id": "acoustic-compiler",
   "metadata": {},
   "outputs": [
    {
     "name": "stdout",
     "output_type": "stream",
     "text": [
      "pc1: 0.47058823529411764\n",
      "pc2: 0.5294117647058824\n"
     ]
    }
   ],
   "source": [
    "pc1 = len(goodMelon) / len(data)\n",
    "pc2 = 1 - pc1\n",
    "print(\"pc1:\",pc1)\n",
    "print(\"pc2:\",pc2)"
   ]
  },
  {
   "cell_type": "code",
   "execution_count": 8,
   "id": "bound-aberdeen",
   "metadata": {},
   "outputs": [
    {
     "name": "stdout",
     "output_type": "stream",
     "text": [
      "p_good: 0.001062550588235294\n",
      "p_bad: 1.2447514568419712e-05\n"
     ]
    }
   ],
   "source": [
    "#贝叶斯公式\n",
    "p_good = p1*pc1;\n",
    "p_bad=p2*pc2\n",
    "print(\"p_good:\",p_good)\n",
    "print(\"p_bad:\",p_bad)"
   ]
  },
  {
   "cell_type": "code",
   "execution_count": 9,
   "id": "confirmed-protocol",
   "metadata": {},
   "outputs": [
    {
     "name": "stdout",
     "output_type": "stream",
     "text": [
      "好瓜\n"
     ]
    }
   ],
   "source": [
    "if p_good > p_bad:\n",
    "    print('好瓜')\n",
    "else:\n",
    "    print('坏瓜')"
   ]
  },
  {
   "cell_type": "markdown",
   "id": "strange-concentrate",
   "metadata": {},
   "source": [
    "## 编程要求"
   ]
  },
  {
   "cell_type": "markdown",
   "id": "nonprofit-times",
   "metadata": {},
   "source": [
    "复习上述内容， 在Begin和End之间完成先验概率分布p(c)的代码编写并使用Laplace校准。"
   ]
  },
  {
   "cell_type": "code",
   "execution_count": null,
   "id": "spanish-cache",
   "metadata": {},
   "outputs": [],
   "source": [
    "def NaiveBayes(traindata, trainlabel):\n",
    "    '''\n",
    "    通过训练集计算先验概率分布p(c)和条件概率分布p(x|c)\n",
    "    :param traindata: 训练数据集   (m,n)\n",
    "    :param trainLabel: 训练标记集  (m,1)\n",
    "    :return: p(c)和p(x|c)\n",
    "    '''\n",
    " \n",
    "    classes = 10  # 类别数\n",
    "    features = 784  # 样本的维度\n",
    " \n",
    "    sampleNum = trainlabel.shape[0]\n",
    " \n",
    "    # 计算p(c)\n",
    "************** Begin **************\n",
    "\n",
    "\n",
    "\n",
    "**************  End  **************\n",
    " \n",
    "    # 计算p(x|c)\n",
    "    y_num = 2  # 每个特征可能的取值的个数\n",
    "    c_f_y_count = np.zeros((classes, features, y_num))  # 统计每个类别每个特征的每种可能取值出现的次数\n",
    "    for k in range(sampleNum):\n",
    "        c = trainlabel[k]\n",
    "        data = traindata[k]\n",
    "        for f in range(features):\n",
    "            y = data[f]\n",
    "            c_f_y_count[c][f][y] += 1\n",
    " \n",
    "    Px_c = np.zeros((classes, features, y_num))   # 统计每个类别每个特征的每种可能取值的概率\n",
    "    for c in range(classes):\n",
    "        for f in range(features):\n",
    "            c_f_y_num = np.sum(c_f_y_count[c][f])\n",
    "            for y in range(y_num):\n",
    "                Px_c[c][f][y] = np.log((c_f_y_count[c][f][y]+1)/c_f_y_num)  # Laplace校准\n",
    " \n",
    "    return Pc, Px_c"
   ]
  },
  {
   "cell_type": "markdown",
   "id": "charming-approach",
   "metadata": {},
   "source": [
    "## 参考答案"
   ]
  },
  {
   "cell_type": "code",
   "execution_count": null,
   "id": "reported-choice",
   "metadata": {},
   "outputs": [],
   "source": [
    "   # 计算p(c)\n",
    "    Pc = np.zeros((classes, 1))\n",
    "    for c in range(classes):\n",
    "        c_i = (trainlabel == c)  # 统计标签中类别为c的样本数量\n",
    "        c_i_num = np.sum(c_i)\n",
    "        Pc[c] = (c_i_num+1)/sampleNum  # Laplace校准\n",
    "    Pc = np.log(Pc)  "
   ]
  }
 ],
 "metadata": {
  "kernelspec": {
   "display_name": "Python 3",
   "language": "python",
   "name": "python3"
  },
  "language_info": {
   "codemirror_mode": {
    "name": "ipython",
    "version": 3
   },
   "file_extension": ".py",
   "mimetype": "text/x-python",
   "name": "python",
   "nbconvert_exporter": "python",
   "pygments_lexer": "ipython3",
   "version": "3.8.2"
  }
 },
 "nbformat": 4,
 "nbformat_minor": 5
}
