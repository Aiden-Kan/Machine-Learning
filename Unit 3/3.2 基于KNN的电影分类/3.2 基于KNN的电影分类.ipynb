{
 "cells": [
  {
   "cell_type": "markdown",
   "id": "filled-breach",
   "metadata": {},
   "source": [
    "## 任务描述"
   ]
  },
  {
   "cell_type": "markdown",
   "id": "shaped-accuracy",
   "metadata": {},
   "source": [
    "1. 通过电影分类实战演练进一步熟悉kNN算法步骤\n",
    "\n",
    "2. 了解np.tile()函数基本用法"
   ]
  },
  {
   "cell_type": "markdown",
   "id": "arctic-edgar",
   "metadata": {},
   "source": [
    "## 相关知识"
   ]
  },
  {
   "cell_type": "markdown",
   "id": "together-central",
   "metadata": {},
   "source": [
    "**kNN算法步骤如下**"
   ]
  },
  {
   "cell_type": "markdown",
   "id": "adapted-copper",
   "metadata": {},
   "source": [
    "1.计算已知类别数据集中的点与当前预测点之间的距离；"
   ]
  },
  {
   "cell_type": "markdown",
   "id": "independent-platinum",
   "metadata": {},
   "source": [
    "2.按照距离递增次序排序；"
   ]
  },
  {
   "cell_type": "markdown",
   "id": "dominant-worker",
   "metadata": {},
   "source": [
    "3.选取与当前点距离最小的k个点；"
   ]
  },
  {
   "cell_type": "markdown",
   "id": "acknowledged-fusion",
   "metadata": {},
   "source": [
    "4.确定前k个点所在类别的出现频率；"
   ]
  },
  {
   "cell_type": "markdown",
   "id": "funky-fluid",
   "metadata": {},
   "source": [
    "5.返回前k个点所出现频率最高的类别作为当前点的预测分类。"
   ]
  },
  {
   "cell_type": "markdown",
   "id": "desirable-coffee",
   "metadata": {},
   "source": [
    "**np.tile()函数**"
   ]
  },
  {
   "cell_type": "markdown",
   "id": "mechanical-michael",
   "metadata": {},
   "source": [
    "**沿X轴复制**"
   ]
  },
  {
   "cell_type": "markdown",
   "id": "municipal-print",
   "metadata": {},
   "source": [
    "在numpy中，np.tile（a,(2)）函数的作用就是将函数将函数沿着X轴扩大两倍（tile有“平铺”的意思）。如果扩大倍数只有一个，默认为X轴"
   ]
  },
  {
   "cell_type": "code",
   "execution_count": 1,
   "id": "vocal-lesson",
   "metadata": {},
   "outputs": [
    {
     "name": "stdout",
     "output_type": "stream",
     "text": [
      "[[1 2 3 1 2 3]\n",
      " [3 4 5 3 4 5]\n",
      " [6 7 8 6 7 8]]\n"
     ]
    }
   ],
   "source": [
    "import numpy as np\n",
    "a = np.array(\n",
    "    [\n",
    "        [1,2,3],\n",
    "        [3,4,5],\n",
    "        [6,7,8]\n",
    "    ]\n",
    ")\n",
    "print(np.tile(a,2))"
   ]
  },
  {
   "cell_type": "markdown",
   "id": "controversial-waterproof",
   "metadata": {},
   "source": [
    "**XY轴都复制，或只沿着Y轴复制的方法**"
   ]
  },
  {
   "cell_type": "markdown",
   "id": "uniform-going",
   "metadata": {},
   "source": [
    "np.tile(a,(2,1))第一个参数为Y轴扩大倍数，第二个为X轴扩大倍数。本例中X轴扩大一倍便为不复制。"
   ]
  },
  {
   "cell_type": "code",
   "execution_count": 2,
   "id": "domestic-nightlife",
   "metadata": {},
   "outputs": [
    {
     "name": "stdout",
     "output_type": "stream",
     "text": [
      "[[1 2 3]\n",
      " [3 4 5]\n",
      " [6 7 8]\n",
      " [1 2 3]\n",
      " [3 4 5]\n",
      " [6 7 8]]\n"
     ]
    }
   ],
   "source": [
    "print(np.tile(a,(2,1)))"
   ]
  },
  {
   "cell_type": "markdown",
   "id": "beneficial-catholic",
   "metadata": {},
   "source": [
    "**案例实战**"
   ]
  },
  {
   "cell_type": "markdown",
   "id": "executive-whale",
   "metadata": {},
   "source": [
    "**使用k-近邻算法分类一个电影是爱情片还是动作片**"
   ]
  },
  {
   "cell_type": "markdown",
   "id": "aerial-lighting",
   "metadata": {},
   "source": [
    "以下就是已有的数据集合，也就是训练样本集。这个数据集有两个特征，即打斗镜头数和接吻镜头数。"
   ]
  },
  {
   "cell_type": "markdown",
   "id": "sufficient-trinidad",
   "metadata": {},
   "source": [
    "除此之外，我们也知道每个电影的所属类型，即分类标签。用肉眼粗略地观察，接吻镜头多的，是爱情片。打斗镜头多的，是动作片。"
   ]
  },
  {
   "cell_type": "markdown",
   "id": "spatial-canadian",
   "metadata": {},
   "source": [
    "![jupyter](https://i.loli.net/2021/06/15/Dsd65raSmEypA8B.png)"
   ]
  },
  {
   "cell_type": "markdown",
   "id": "amino-plaza",
   "metadata": {},
   "source": [
    "那么，我们就要通过KNN进行训练，然后随机给出一组数据：打斗镜头数和接吻镜头数，从而帮助我们进行判断出属于哪种类型的影片。"
   ]
  },
  {
   "cell_type": "markdown",
   "id": "thorough-fishing",
   "metadata": {},
   "source": [
    "首先介绍一下我们接下来使用的一些参数"
   ]
  },
  {
   "cell_type": "markdown",
   "id": "loaded-melissa",
   "metadata": {},
   "source": [
    "dataSet - 用于训练的数据(训练集)\n",
    "\n",
    "labes - 分类标签\n",
    "\n",
    "test - 用于分类的数据(测试集)\n",
    "\n",
    "k - kNN算法参数,选择距离最小的k个点"
   ]
  },
  {
   "cell_type": "markdown",
   "id": "comprehensive-pastor",
   "metadata": {},
   "source": [
    "**准备并创建数据集**"
   ]
  },
  {
   "cell_type": "code",
   "execution_count": 3,
   "id": "split-cheat",
   "metadata": {},
   "outputs": [],
   "source": [
    "import numpy as np\n",
    "import operator\n",
    "#四组二维特征\n",
    "dataSet = np.array([[1,101],[5,89],[108,5],[115,8]])\n",
    "#四组特征的标签\n",
    "labels = ['爱情片','爱情片','动作片','动作片']"
   ]
  },
  {
   "cell_type": "code",
   "execution_count": 4,
   "id": "industrial-shepherd",
   "metadata": {},
   "outputs": [
    {
     "name": "stdout",
     "output_type": "stream",
     "text": [
      "dataSet :\n",
      " [[  1 101]\n",
      " [  5  89]\n",
      " [108   5]\n",
      " [115   8]]\n",
      "labels:\n",
      " ['爱情片', '爱情片', '动作片', '动作片']\n"
     ]
    }
   ],
   "source": [
    "#打印数据集    \n",
    "print(\"dataSet :\\n\",dataSet)\n",
    "print(\"labels:\\n\",labels)"
   ]
  },
  {
   "cell_type": "markdown",
   "id": "appreciated-discount",
   "metadata": {},
   "source": [
    "**根据两点距离公式，计算距离，选择距离最小的前k个点，并返回分类结果。**"
   ]
  },
  {
   "cell_type": "markdown",
   "id": "rolled-boston",
   "metadata": {},
   "source": [
    "比如说，我们就去看看打斗镜头数为101和接吻镜头数为20的影片，我们目测它很大的几率是动作片，那KNN会给我们判断出什么类型。我们代码实现一下吧"
   ]
  },
  {
   "cell_type": "code",
   "execution_count": 5,
   "id": "requested-poison",
   "metadata": {},
   "outputs": [],
   "source": [
    "test=[101,20]\n",
    "k=3"
   ]
  },
  {
   "cell_type": "code",
   "execution_count": 6,
   "id": "shared-senegal",
   "metadata": {},
   "outputs": [
    {
     "name": "stdout",
     "output_type": "stream",
     "text": [
      "4\n"
     ]
    }
   ],
   "source": [
    "#numpy函数shape[0]返回dataSet的行数\n",
    "dataSetSize = dataSet.shape[0]\n",
    "print(dataSetSize)"
   ]
  },
  {
   "cell_type": "code",
   "execution_count": 7,
   "id": "involved-stress",
   "metadata": {},
   "outputs": [
    {
     "name": "stdout",
     "output_type": "stream",
     "text": [
      "[[100 -81]\n",
      " [ 96 -69]\n",
      " [ -7  15]\n",
      " [-14  12]]\n"
     ]
    }
   ],
   "source": [
    "#在列向量方向上重复test共1次(横向)，行向量方向上重复test共dataSetSize次(纵向)\n",
    "diffMat = np.tile(test, (dataSetSize, 1)) - dataSet\n",
    "print(diffMat)"
   ]
  },
  {
   "cell_type": "code",
   "execution_count": 8,
   "id": "occasional-pressing",
   "metadata": {},
   "outputs": [
    {
     "name": "stdout",
     "output_type": "stream",
     "text": [
      "[[10000  6561]\n",
      " [ 9216  4761]\n",
      " [   49   225]\n",
      " [  196   144]]\n"
     ]
    }
   ],
   "source": [
    "#二维特征相减后平方\n",
    "sqDiffMat = diffMat**2\n",
    "print(sqDiffMat)"
   ]
  },
  {
   "cell_type": "code",
   "execution_count": 9,
   "id": "golden-affect",
   "metadata": {},
   "outputs": [
    {
     "name": "stdout",
     "output_type": "stream",
     "text": [
      "[128.68954892 118.22436297  16.55294536  18.43908891]\n"
     ]
    }
   ],
   "source": [
    "#sum()所有元素相加，sum(0)列相加，sum(1)行相加\n",
    "sqDistances = sqDiffMat.sum(axis=1)\n",
    "#开方，计算出距离\n",
    "distances = sqDistances**0.5\n",
    "print(distances)"
   ]
  },
  {
   "cell_type": "code",
   "execution_count": 10,
   "id": "functioning-kingdom",
   "metadata": {},
   "outputs": [
    {
     "name": "stdout",
     "output_type": "stream",
     "text": [
      "[2 3 1 0]\n"
     ]
    }
   ],
   "source": [
    "#返回distances中元素从小到大排序后的索引值\n",
    "sortedDistIndices = distances.argsort()\n",
    "print(sortedDistIndices)"
   ]
  },
  {
   "cell_type": "code",
   "execution_count": 11,
   "id": "fitted-juvenile",
   "metadata": {},
   "outputs": [],
   "source": [
    "#定一个记录类别次数的字典\n",
    "classCount = {}\n",
    "for i in range(k):\n",
    "    #取出前k个元素的类别\n",
    "     voteIlabel = labels[sortedDistIndices[i]]\n",
    "    #dict.get(key,default=None),字典的get()方法,返回指定键的值,如果值不在字典中返回默认值。\n",
    "    #计算类别次数\n",
    "     classCount[voteIlabel] = classCount.get(voteIlabel,0) + 1"
   ]
  },
  {
   "cell_type": "code",
   "execution_count": 12,
   "id": "later-warren",
   "metadata": {},
   "outputs": [
    {
     "name": "stdout",
     "output_type": "stream",
     "text": [
      "[('动作片', 2), ('爱情片', 1)]\n"
     ]
    }
   ],
   "source": [
    "#reverse降序排序字典\n",
    "sortedClassCount = sorted(classCount.items(),key=operator.itemgetter(1),reverse=True)\n",
    "print(sortedClassCount)"
   ]
  },
  {
   "cell_type": "code",
   "execution_count": 13,
   "id": "perceived-occupation",
   "metadata": {},
   "outputs": [
    {
     "name": "stdout",
     "output_type": "stream",
     "text": [
      "动作片\n"
     ]
    }
   ],
   "source": [
    "#返回次数最多的类别,即所要分类的类别\n",
    "print(sortedClassCount[0][0])"
   ]
  },
  {
   "cell_type": "markdown",
   "id": "devoted-identification",
   "metadata": {},
   "source": [
    "## 编程要求"
   ]
  },
  {
   "cell_type": "code",
   "execution_count": null,
   "id": "alternative-chrome",
   "metadata": {},
   "outputs": [],
   "source": [
    "import numpy as np\n",
    "import operator\n",
    "\n",
    "\"\"\"\n",
    "函数说明:创建数据集\n",
    "\n",
    "Parameters:\n",
    "    无\n",
    "Returns:\n",
    "    group - 数据集\n",
    "    labels - 分类标签\n",
    "\n",
    "\"\"\"\n",
    "def createDataSet():\n",
    "    #四组二维特征\n",
    "    group = np.array([[1,101],[5,89],[108,5],[115,8]])\n",
    "    #四组特征的标签\n",
    "    labels = ['爱情片','爱情片','动作片','动作片']\n",
    "    return group, labels\n",
    "\n",
    "\"\"\"\n",
    "函数说明:kNN算法,分类器\n",
    "\n",
    "Parameters:\n",
    "    inX - 用于分类的数据(测试集)\n",
    "    dataSet - 用于训练的数据(训练集)\n",
    "    labes - 分类标签\n",
    "    k - kNN算法参数,选择距离最小的k个点\n",
    "Returns:\n",
    "    sortedClassCount[0][0] - 分类结果\n",
    "\n",
    "\"\"\"\n",
    "def classify0(inX, dataSet, labels, k):\n",
    "************** Begin **************\n",
    "\n",
    "\n",
    "\n",
    "**************  END  **************\n",
    "\n",
    "if __name__ == '__main__':\n",
    "    #创建数据集\n",
    "    group, labels = createDataSet()\n",
    "    #测试集\n",
    "    test = [200,320]\n",
    "    #kNN分类\n",
    "    test_class = classify0(test, group, labels, 3)\n",
    "    #打印分类结果\n",
    "    print(test_class)"
   ]
  },
  {
   "cell_type": "markdown",
   "id": "western-fifth",
   "metadata": {},
   "source": [
    "## 参考答案"
   ]
  },
  {
   "cell_type": "code",
   "execution_count": null,
   "id": "coastal-trauma",
   "metadata": {},
   "outputs": [],
   "source": [
    "def classify0(inX, dataSet, labels, k):\n",
    "    #numpy函数shape[0]返回dataSet的行数\n",
    "    dataSetSize = dataSet.shape[0]\n",
    "    #在列向量方向上重复inX共1次(横向)，行向量方向上重复inX共dataSetSize次(纵向)\n",
    "    diffMat = np.tile(inX, (dataSetSize, 1)) - dataSet\n",
    "    #二维特征相减后平方\n",
    "    sqDiffMat = diffMat**2\n",
    "    #sum()所有元素相加，sum(0)列相加，sum(1)行相加\n",
    "    sqDistances = sqDiffMat.sum(axis=1)\n",
    "    #开方，计算出距离\n",
    "    distances = sqDistances**0.5\n",
    "    #返回distances中元素从小到大排序后的索引值\n",
    "    sortedDistIndices = distances.argsort()\n",
    "    #定一个记录类别次数的字典\n",
    "    classCount = {}\n",
    "    for i in range(k):\n",
    "        #取出前k个元素的类别\n",
    "        voteIlabel = labels[sortedDistIndices[i]]\n",
    "        #dict.get(key,default=None),字典的get()方法,返回指定键的值,如果值不在字典中返回默认值。\n",
    "        #计算类别次数\n",
    "        classCount[voteIlabel] = classCount.get(voteIlabel,0) + 1\n",
    "    #reverse降序排序字典\n",
    "    sortedClassCount = sorted(classCount.items(),key=operator.itemgetter(1),reverse=True)\n",
    "    #返回次数最多的类别,即所要分类的类别\n",
    "    return sortedClassCount[0][0]"
   ]
  }
 ],
 "metadata": {
  "kernelspec": {
   "display_name": "Python 3",
   "language": "python",
   "name": "python3"
  },
  "language_info": {
   "codemirror_mode": {
    "name": "ipython",
    "version": 3
   },
   "file_extension": ".py",
   "mimetype": "text/x-python",
   "name": "python",
   "nbconvert_exporter": "python",
   "pygments_lexer": "ipython3",
   "version": "3.8.2"
  }
 },
 "nbformat": 4,
 "nbformat_minor": 5
}
