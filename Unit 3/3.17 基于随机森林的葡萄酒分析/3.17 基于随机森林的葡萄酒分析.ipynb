{
 "cells": [
  {
   "cell_type": "markdown",
   "id": "silver-absence",
   "metadata": {},
   "source": [
    "## 任务描述"
   ]
  },
  {
   "cell_type": "markdown",
   "id": "married-international",
   "metadata": {},
   "source": [
    "1. 使用随机森林进行葡萄酒分析"
   ]
  },
  {
   "cell_type": "markdown",
   "id": "celtic-region",
   "metadata": {},
   "source": [
    "## 相关知识"
   ]
  },
  {
   "cell_type": "markdown",
   "id": "suspected-paste",
   "metadata": {},
   "source": [
    "本节的数据来源是2009年UCI库中的Wine Qualit Data Set的数据,大家可以点击下方网址进行下载。(http://archive.ics.uci.edu/ml/machine-learning-databases/wine-quality/winequality-red.csv)\n",
    "\n",
    "数据集共计1600个样本,包含了11个表示该葡萄酒样本的物理及化学性质数据,以及一个代表该葡萄酒样本质量的标志数据,分为高等、中等,低等3个质量等级,对应的样本量有346 (21.63%)、1194(74.62%)和60 (3.74%)。"
   ]
  },
  {
   "cell_type": "code",
   "execution_count": 1,
   "id": "ranging-gardening",
   "metadata": {},
   "outputs": [],
   "source": [
    "import numpy\n",
    "import urllib.request\n",
    "from sklearn.model_selection import train_test_split\n",
    "from sklearn import ensemble\n",
    "from sklearn.metrics import mean_squared_error\n",
    "import pylab as plot"
   ]
  },
  {
   "cell_type": "code",
   "execution_count": 2,
   "id": "quarterly-charger",
   "metadata": {},
   "outputs": [],
   "source": [
    "#从网页中读取数据\n",
    "url=\"http://archive.ics.uci.edu/ml/machine-learning-databases/wine-quality/winequality-red.csv\"\n",
    "data=urllib.request.urlopen(url)"
   ]
  },
  {
   "cell_type": "code",
   "execution_count": 3,
   "id": "compound-aruba",
   "metadata": {},
   "outputs": [],
   "source": [
    "#将数据中第一行的属性读取出来放在names列表中，将其他行的数组读入row中，并将row中最后一列提取\n",
    "#出来放在labels中作为标签，并使用pop将该列从row中去除掉，最后将剩下的属性值转化为float类型存入xList中\n",
    "xlist=[]\n",
    "labels=[]\n",
    "names=[]\n",
    "firstline=True\n",
    "for line in data:\n",
    "    if firstline:\n",
    "        names=line.strip().split(b';')\n",
    "        firstline=False\n",
    "    else:\n",
    "        row=line.strip().split(b';')\n",
    "        labels.append(float(row[-1]))\n",
    "        row.pop()\n",
    "        floatrow=[float(num) for num in row]\n",
    "        xlist.append(floatrow)"
   ]
  },
  {
   "cell_type": "code",
   "execution_count": 4,
   "id": "chronic-office",
   "metadata": {},
   "outputs": [
    {
     "name": "stdout",
     "output_type": "stream",
     "text": [
      "1599\n",
      "11\n"
     ]
    }
   ],
   "source": [
    "#计算几行几列\n",
    "nrows=len(xlist)\n",
    "ncols=len(xlist[1])\n",
    "print(nrows)\n",
    "print(ncols)"
   ]
  },
  {
   "cell_type": "code",
   "execution_count": 5,
   "id": "overhead-shanghai",
   "metadata": {},
   "outputs": [],
   "source": [
    "#转化为numpy格式\n",
    "x=numpy.array(xlist)\n",
    "y=numpy.array(labels)\n",
    "winenames=numpy.array(names)"
   ]
  },
  {
   "cell_type": "code",
   "execution_count": 6,
   "id": "violent-establishment",
   "metadata": {},
   "outputs": [],
   "source": [
    "#随机抽30%的数据用于测试，随机种子为531固定值，确保多次运行结果相同便于优化算法\n",
    "xtrain,xtest,ytrain,ytest=train_test_split(x,y,test_size=0.30,random_state=531)"
   ]
  },
  {
   "cell_type": "code",
   "execution_count": 7,
   "id": "accomplished-procurement",
   "metadata": {},
   "outputs": [
    {
     "name": "stdout",
     "output_type": "stream",
     "text": [
      "MSE\n",
      "0.318127065111759\n"
     ]
    }
   ],
   "source": [
    "mseoos=[]\n",
    "#测试50棵~500棵决策树的方差(步长10)\n",
    "ntreelist=range(50,500,10)\n",
    "for itrees in ntreelist:\n",
    "    depth=None\n",
    "    maxfeat=4\n",
    "    #随机森林算法生成训练\n",
    "    winerandomforestmodel=ensemble.RandomForestRegressor(n_estimators=itrees,max_depth=depth,max_features=maxfeat,oob_score=False,random_state=531)\n",
    "    winerandomforestmodel.fit(xtrain,ytrain)\n",
    "    #测试方差放入列表\n",
    "    prediction=winerandomforestmodel.predict(xtest)\n",
    "    mseoos.append(mean_squared_error(ytest,prediction))\n",
    "print(\"MSE\")\n",
    "print(mseoos[-1])"
   ]
  },
  {
   "cell_type": "code",
   "execution_count": 8,
   "id": "metallic-petersburg",
   "metadata": {},
   "outputs": [
    {
     "data": {
      "image/png": "[encoded data removed]",
      "text/plain": [
       "<Figure size 432x288 with 1 Axes>"
      ]
     },
     "metadata": {
      "needs_background": "light"
     },
     "output_type": "display_data"
    }
   ],
   "source": [
    "plot.plot(ntreelist,mseoos)\n",
    "plot.xlabel(\"number of trees\")\n",
    "plot.ylabel(\"fang cha\")\n",
    "plot.show()"
   ]
  },
  {
   "cell_type": "code",
   "execution_count": 9,
   "id": "infinite-opera",
   "metadata": {},
   "outputs": [],
   "source": [
    "#用feature_importances_方法提取属性重要性\n",
    "featureimportance=winerandomforestmodel.feature_importances_\n",
    "#归一化\n",
    "featureimportance=featureimportance/featureimportance.max()\n",
    "#argsort方法返回array类型的索引\n",
    "sorted_idx=numpy.argsort(featureimportance)\n",
    "#函数说明：arange([start,] stop[, step,], dtype=None)根据start与stop指定的范围以及step设定的步长，生成一个 ndarray\n",
    "barpos=numpy.arange(sorted_idx.shape[0]) + .5"
   ]
  },
  {
   "cell_type": "code",
   "execution_count": 10,
   "id": "headed-confidentiality",
   "metadata": {},
   "outputs": [
    {
     "data": {
      "image/png": "[encoded data removed]",
      "text/plain": [
       "<Figure size 432x288 with 1 Axes>"
      ]
     },
     "metadata": {
      "needs_background": "light"
     },
     "output_type": "display_data"
    }
   ],
   "source": [
    "plot.barh(barpos,featureimportance[sorted_idx],align='center')\n",
    "plot.yticks(barpos,winenames[sorted_idx])\n",
    "plot.xlabel(\"variable importance\")\n",
    "plot.show()"
   ]
  },
  {
   "cell_type": "markdown",
   "id": "empirical-trick",
   "metadata": {},
   "source": [
    "## 编程要求"
   ]
  },
  {
   "cell_type": "markdown",
   "id": "broken-conjunction",
   "metadata": {},
   "source": [
    "复习上述内容，根据提示在Begin和End之间完成随机森林生成以及方差计算的代码编写。\n",
    "\n",
    "运行结果为：\n",
    "MSE\n",
    "0.31856764403292176"
   ]
  },
  {
   "cell_type": "code",
   "execution_count": null,
   "id": "worse-priority",
   "metadata": {},
   "outputs": [],
   "source": [
    "import numpy\n",
    "import urllib.request\n",
    "from sklearn.model_selection import train_test_split\n",
    "from sklearn import ensemble\n",
    "from sklearn.metrics import mean_squared_error\n",
    "import pylab as plot\n",
    "\n",
    "#从网页中读取数据\n",
    "url=\"http://archive.ics.uci.edu/ml/machine-learning-databases/wine-quality/winequality-red.csv\"\n",
    "data=urllib.request.urlopen(url)\n",
    "\n",
    "#将数据中第一行的属性读取出来放在names列表中，将其他行的数组读入row中，并将row中最后一列提取\n",
    "#出来放在labels中作为标签，并使用pop将该列从row去去除掉，最后将剩下的属性值转化为float类型存入xList中\n",
    "xlist=[]\n",
    "labels=[]\n",
    "names=[]\n",
    "firstline=True\n",
    "for line in data:\n",
    "    if firstline:\n",
    "        names=line.strip().split(b';')\n",
    "        firstline=False\n",
    "    else:\n",
    "        row=line.strip().split(b';')\n",
    "        labels.append(float(row[-1]))\n",
    "        row.pop()\n",
    "        floatrow=[float(num) for num in row]\n",
    "        xlist.append(floatrow)\n",
    "\n",
    "#计算几行几列\n",
    "nrows=len(xlist)\n",
    "ncols=len(xlist[1])\n",
    "\n",
    "#转化为numpy格式\n",
    "x=numpy.array(xlist)\n",
    "y=numpy.array(labels)\n",
    "winenames=numpy.array(names)\n",
    "\n",
    "#随机抽30%的数据用于测试，随机种子为531固定值，确保多次运行结果相同便于优化算法\n",
    "xtrain,xtest,ytrain,ytest=train_test_split(x,y,test_size=0.30,random_state=531)\n",
    "\n",
    "mseoos=[]\n",
    "#测试50棵~100棵决策树的方差(步长10)\n",
    "ntreelist=range(50,100,10)\n",
    "for itrees in ntreelist:\n",
    "    depth=None\n",
    "    maxfeat=4\n",
    "************** Begin **************\n",
    "    #随机森林算法生成训练\n",
    "    \n",
    "    \n",
    "    #测试方差放入列表\n",
    "\n",
    "**************  End  ************** \n",
    "print(\"MSE\")\n",
    "print(mseoos[-1])\n"
   ]
  },
  {
   "cell_type": "markdown",
   "id": "strategic-assessment",
   "metadata": {},
   "source": [
    "## 参考答案"
   ]
  },
  {
   "cell_type": "code",
   "execution_count": null,
   "id": "hidden-stylus",
   "metadata": {},
   "outputs": [],
   "source": [
    "    #随机森林算法生成训练\n",
    "    winerandomforestmodel=ensemble.RandomForestRegressor(n_estimators=itrees,max_depth=depth,max_features=maxfeat,oob_score=False,random_state=531)\n",
    "    winerandomforestmodel.fit(xtrain,ytrain)\n",
    "    #测试方差放入列表\n",
    "    prediction=winerandomforestmodel.predict(xtest)\n",
    "    mseoos.append(mean_squared_error(ytest,prediction))"
   ]
  }
 ],
 "metadata": {
  "kernelspec": {
   "display_name": "Python 3",
   "language": "python",
   "name": "python3"
  },
  "language_info": {
   "codemirror_mode": {
    "name": "ipython",
    "version": 3
   },
   "file_extension": ".py",
   "mimetype": "text/x-python",
   "name": "python",
   "nbconvert_exporter": "python",
   "pygments_lexer": "ipython3",
   "version": "3.8.2"
  }
 },
 "nbformat": 4,
 "nbformat_minor": 5
}
