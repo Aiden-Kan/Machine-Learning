{
 "cells": [
  {
   "cell_type": "markdown",
   "id": "pharmaceutical-privacy",
   "metadata": {},
   "source": [
    "## 任务描述"
   ]
  },
  {
   "cell_type": "markdown",
   "id": "applied-nelson",
   "metadata": {},
   "source": [
    "1.了解多项式朴素贝叶斯\n",
    "\n",
    "2.掌握使用多项式朴素贝叶斯分类器进行实战"
   ]
  },
  {
   "cell_type": "markdown",
   "id": "static-detector",
   "metadata": {},
   "source": [
    "## 相关知识"
   ]
  },
  {
   "cell_type": "markdown",
   "id": "thermal-corps",
   "metadata": {},
   "source": [
    "朴素贝叶斯分类是常见的分类算法，其实质是通过先验概率来计算后验概率。它可以用来做很多有意义的事情。生活中也有很多场所需要用到分类，如新闻分类等。"
   ]
  },
  {
   "cell_type": "markdown",
   "id": "blank-fifty",
   "metadata": {},
   "source": [
    "**多项式朴素贝叶斯**"
   ]
  },
  {
   "cell_type": "markdown",
   "id": "better-gamma",
   "metadata": {},
   "source": [
    "适用于离散变量，其假设各个特征xi在各个类别y下是服从多项式分布的，故每个特征值不能是负数。"
   ]
  },
  {
   "cell_type": "markdown",
   "id": "geological-documentation",
   "metadata": {},
   "source": [
    "![jupyter](https://i.loli.net/2021/06/02/LdbPCAwq5X1Gngz.png)"
   ]
  },
  {
   "cell_type": "markdown",
   "id": "nonprofit-chemistry",
   "metadata": {},
   "source": [
    "本节将介绍朴素贝叶斯分类器在企业破产预测中的应用"
   ]
  },
  {
   "cell_type": "markdown",
   "id": "running-reynolds",
   "metadata": {},
   "source": [
    "**数据集**"
   ]
  },
  {
   "cell_type": "markdown",
   "id": "banned-isaac",
   "metadata": {},
   "source": [
    "本实验所用的数据及来自UC1机器学习数据库。"
   ]
  },
  {
   "cell_type": "markdown",
   "id": "alive-resistance",
   "metadata": {},
   "source": [
    "数据集基本信息如下：\n",
    "\n",
    "数据集名称：Qualitative_Bankruptcy.data1\n",
    "\n",
    "样本数：250\n",
    "\n",
    "特征数：6\n",
    "\n",
    "特征描述(1-Positive，0-Average，2-Negative)如下：\n",
    "\n",
    "->Industrial Risk(行业风险)：{0,1,2}\n",
    "\n",
    "->Management Risk(管理风险)：{1,0,2}\n",
    "\n",
    "->Financial Flexibility(财务灵活性)：{1,0,2}\n",
    "\n",
    "->Credibility(信誉)：{1,0,2}\n",
    "\n",
    "->Competitiveness(竞争力)：{1,0,2}\n",
    "\n",
    "->Operating Risk(经营风险)：{1,0,2}\n",
    "\n",
    "->类别(1-Bankruptcy(破产)，0-Non-Bankruptcy(非破产))：{1，0}"
   ]
  },
  {
   "cell_type": "markdown",
   "id": "protective-ferry",
   "metadata": {},
   "source": [
    "**读取数据**"
   ]
  },
  {
   "cell_type": "code",
   "execution_count": 1,
   "id": "identified-julian",
   "metadata": {},
   "outputs": [
    {
     "name": "stdout",
     "output_type": "stream",
     "text": [
      "[[1 1 0 ... 0 1 0]\n",
      " [2 2 0 ... 0 2 0]\n",
      " [0 0 0 ... 0 0 0]\n",
      " ...\n",
      " [0 2 2 ... 2 2 1]\n",
      " [2 2 2 ... 2 2 1]\n",
      " [1 2 2 ... 0 0 1]]\n"
     ]
    }
   ],
   "source": [
    "import numpy as np  \n",
    "#读取  \n",
    "A = np.loadtxt('../../data/3.12/Qualitative_Bankruptcy.data1.txt',dtype='int',delimiter=',')\n",
    "print(A)\n",
    "B = np.split(A,[6,7],axis=1)\n",
    "Bankrupt_data = B[0]\n",
    "Bankrupt_target = B[1]\n"
   ]
  },
  {
   "cell_type": "markdown",
   "id": "excited-appreciation",
   "metadata": {},
   "source": [
    "**切分数据集**"
   ]
  },
  {
   "cell_type": "code",
   "execution_count": 2,
   "id": "public-harvard",
   "metadata": {},
   "outputs": [],
   "source": [
    "from sklearn.model_selection import train_test_split \n",
    "#加载数据集，切分数据集80%训练，20%测试  \n",
    "x_train, x_test, y_train, y_test = train_test_split(Bankrupt_data,\\\n",
    "                           Bankrupt_target, test_size = 0.2,random_state = 0) "
   ]
  },
  {
   "cell_type": "markdown",
   "id": "minor-indonesian",
   "metadata": {},
   "source": [
    "**训练多项式朴素贝叶斯模型**"
   ]
  },
  {
   "cell_type": "code",
   "execution_count": 3,
   "id": "manufactured-object",
   "metadata": {},
   "outputs": [
    {
     "name": "stderr",
     "output_type": "stream",
     "text": [
      "c:\\python-3.8.2\\lib\\site-packages\\sklearn\\utils\\validation.py:63: DataConversionWarning: A column-vector y was passed when a 1d array was expected. Please change the shape of y to (n_samples, ), for example using ravel().\n",
      "  return f(*args, **kwargs)\n"
     ]
    }
   ],
   "source": [
    "from sklearn.naive_bayes import MultinomialNB  \n",
    "from sklearn.metrics import precision_recall_curve  \n",
    "from sklearn.metrics import classification_report  \n",
    "\n",
    "#调用MultinomialNB分类器  \n",
    "clf = MultinomialNB().fit(x_train, y_train) "
   ]
  },
  {
   "cell_type": "markdown",
   "id": "indian-anatomy",
   "metadata": {},
   "source": [
    "**预测**"
   ]
  },
  {
   "cell_type": "code",
   "execution_count": 4,
   "id": "sensitive-investment",
   "metadata": {},
   "outputs": [
    {
     "name": "stdout",
     "output_type": "stream",
     "text": [
      "\n",
      " 0.484 \n",
      "\n"
     ]
    }
   ],
   "source": [
    "#预测\n",
    "doc_class_predicted = clf.predict(x_test)  \n",
    "print('\\n',np.mean(doc_class_predicted == y_test),'\\n')  "
   ]
  },
  {
   "cell_type": "code",
   "execution_count": 5,
   "id": "selective-biodiversity",
   "metadata": {},
   "outputs": [
    {
     "name": "stdout",
     "output_type": "stream",
     "text": [
      "              precision    recall  f1-score   support\n",
      "\n",
      "         neg       0.85      0.59      0.69        29\n",
      "         pos       0.60      0.86      0.71        21\n",
      "\n",
      "    accuracy                           0.70        50\n",
      "   macro avg       0.72      0.72      0.70        50\n",
      "weighted avg       0.74      0.70      0.70        50\n",
      "\n"
     ]
    }
   ],
   "source": [
    "#准确率与召回率  \n",
    "precision, recall, thresholds = precision_recall_curve(y_test, clf.predict(x_test))  \n",
    "answer = clf.predict_proba(x_test)[:,1]  \n",
    "report = answer > 0.5  \n",
    "print(classification_report(y_test, report, target_names = ['neg', 'pos'])) "
   ]
  },
  {
   "cell_type": "markdown",
   "id": "hairy-budapest",
   "metadata": {},
   "source": [
    "从上图输出的测试结果中可以看出，本次所训练的多项式朴素贝叶斯分类器在包含50个测试样本上的总预测精度达到了0.74,其中预测为正类(破产)的样本数为21个,精度为0.60;预测为负类(非破产)的测试样本数为29个,精度为0.85;而召回率正类为0.86,负类为0.59,总的召回率为0.70,正类和负类的F1值分别为0.71和0.69,总的FI值为0.70,此次所训练的朴素贝叶斯分类器分类性能比较准确,但还有很大的改进空间。另外,朴素贝叶斯分类算法的执行时间非常短,由此可以验证,朴素贝叶斯分类算法相较于其他分类算法的时间复杂度更低。"
   ]
  },
  {
   "cell_type": "markdown",
   "id": "certified-faith",
   "metadata": {},
   "source": [
    "## 编程要求"
   ]
  },
  {
   "cell_type": "markdown",
   "id": "stainless-consultancy",
   "metadata": {},
   "source": [
    "复习上述内容，根据注释在Begin和End之间完成多项式朴素贝叶斯代码编写。原始数据如下：\n",
    "\n",
    "![jupyter](https://i.loli.net/2021/06/02/rLJam2U6E8451hA.png)"
   ]
  },
  {
   "cell_type": "code",
   "execution_count": null,
   "id": "facial-sandwich",
   "metadata": {},
   "outputs": [],
   "source": [
    "from sklearn.naive_bayes import MultinomialNB\n",
    "import pandas as pd\n",
    "import numpy as np\n",
    "np.random.seed(0)\n",
    "x = np.random.randint(0,4,size=(6,2))\n",
    "y = np.array([0,0,0,1,1,1])\n",
    "data = pd.DataFrame(np.concatenate([x,y.reshape(-1,1)], axis=1), columns=['x1','x2','y'])\n",
    "display(data)\n",
    "\n",
    "mnb = MultinomialNB()\n",
    "mnb.fit(x,y)\n",
    "#每个类别的样本数量\n",
    "************** Begin **************\n",
    "\n",
    "**************  End  **************\n",
    "#每个特征在每个类别下发生（出现）的次数\n",
    "************** Begin **************\n",
    "\n",
    "**************  End  **************\n",
    "#每个类别下，每个特征所占的比例（概率），即P(x|y)\n",
    "#该值为概率取对数之后的结果，查看原有的概率，并使用指数还原\n",
    "************** Begin **************\n",
    "\n",
    "**************  End  **************\n"
   ]
  },
  {
   "cell_type": "markdown",
   "id": "eleven-advancement",
   "metadata": {},
   "source": [
    "## 参考答案"
   ]
  },
  {
   "cell_type": "code",
   "execution_count": null,
   "id": "written-venice",
   "metadata": {},
   "outputs": [],
   "source": [
    "mnb = MultinomialNB()\n",
    "mnb.fit(x,y)\n",
    "#每个类别的样本数量\n",
    "print(mnb.class_count_)\n",
    "#每个特征在每个类别下发生（出现）的次数\n",
    "print(mnb.feature_count_)\n",
    "#每个类别下，每个特征所占的比例（概率），即P(x|y)\n",
    "#该值为概率取对数之后的结果，如果需要查看原有的概率，需要使用指数还原\n",
    "print(np.exp(mnb.feature_log_prob_))"
   ]
  }
 ],
 "metadata": {
  "kernelspec": {
   "display_name": "Python 3",
   "language": "python",
   "name": "python3"
  },
  "language_info": {
   "codemirror_mode": {
    "name": "ipython",
    "version": 3
   },
   "file_extension": ".py",
   "mimetype": "text/x-python",
   "name": "python",
   "nbconvert_exporter": "python",
   "pygments_lexer": "ipython3",
   "version": "3.8.2"
  }
 },
 "nbformat": 4,
 "nbformat_minor": 5
}
