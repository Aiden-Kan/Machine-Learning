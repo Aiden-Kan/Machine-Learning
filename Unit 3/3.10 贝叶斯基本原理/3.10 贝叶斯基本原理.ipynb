{
 "cells": [
  {
   "cell_type": "markdown",
   "id": "random-omega",
   "metadata": {},
   "source": [
    "## 任务描述"
   ]
  },
  {
   "cell_type": "markdown",
   "id": "trying-guyana",
   "metadata": {},
   "source": [
    "1. 掌握条件概率公式、乘法公式、全概率公式、贝叶斯公式"
   ]
  },
  {
   "cell_type": "markdown",
   "id": "further-coast",
   "metadata": {},
   "source": [
    "## 相关知识"
   ]
  },
  {
   "cell_type": "markdown",
   "id": "senior-arrow",
   "metadata": {},
   "source": [
    "**条件概率公式**"
   ]
  },
  {
   "cell_type": "markdown",
   "id": "combined-giant",
   "metadata": {},
   "source": [
    " 设A,B是两个事件，且P(B)>0,则在事件B发生的条件下，事件A发生的条件概率（conditional probability)为： \n",
    " $$P(A \\mid B) = \\frac{ P(AB) }{ P(B) }$$"
   ]
  },
  {
   "cell_type": "markdown",
   "id": "amateur-racing",
   "metadata": {},
   "source": [
    "分析：一般说到条件概率这一概念的时候，事件A和事件B都是同一实验下的不同的结果集合，事件A和事件B一般是有交集的，若没有交集（互斥），则条件概率为0"
   ]
  },
  {
   "cell_type": "markdown",
   "id": "dried-james",
   "metadata": {},
   "source": [
    "用图更能容易的说明上述问题，我们进行某一实验，某一实验所有的可能的样本的结合为Ω（也即穷举实验的所有样本），圆圈A代表事件A所能囊括的所有样本，圆圈B代表事件B所能囊括的所有样本。\n",
    "\n",
    "![jupyter](https://i.loli.net/2021/06/02/yjUJZxq2sMQ8I6V.png)"
   ]
  },
  {
   "cell_type": "markdown",
   "id": "meaningful-focus",
   "metadata": {},
   "source": [
    "用图再来理解一下这个问题：“B已经发生的条件下，A发生的概率”，这句话中，“B已经发生”就相当于已经把样本的可选范围限制在了圆圈B中，其实就等价于这句话：“在圆圈B中，A发生的概率”，显然P(A|B)就等于AB交集中样本的数目/B的样本数目。"
   ]
  },
  {
   "cell_type": "markdown",
   "id": "polish-stopping",
   "metadata": {},
   "source": [
    "**乘法公式**"
   ]
  },
  {
   "cell_type": "markdown",
   "id": "forward-bouquet",
   "metadata": {},
   "source": [
    "1.由条件概率公式得：\n",
    "\n",
    "$$P(AB)=P(A|B)P(B)=P(B|A)P(A)$$   \n",
    "\n",
    "上式即为乘法公式；"
   ]
  },
  {
   "cell_type": "markdown",
   "id": "previous-remainder",
   "metadata": {},
   "source": [
    "2.乘法公式的推广：对于任何正整数n≥2，当P(A1A2...An-1) > 0 时，有：\n",
    "\n",
    "$$P(A1A2...An-1An)=P(A1)P(A2|A1)P(A3|A1A2)...P(An|A1A2...An-1)$$"
   ]
  },
  {
   "cell_type": "markdown",
   "id": "cosmetic-genre",
   "metadata": {},
   "source": [
    "**全概率公式**"
   ]
  },
  {
   "cell_type": "markdown",
   "id": "judicial-copyright",
   "metadata": {},
   "source": [
    "如果事件组B1，B2，.... 满足以下条件：\n",
    "\n",
    "1.B1，B2....两两互斥，即 Bi∩Bj = ∅ ，i≠j ， i,j=1，2，....，且P(Bi)>0,i=1,2,....;\n",
    "\n",
    "2.B1∪B2∪....=Ω ，则称事件组 B1,B2,...是样本空间Ω的一个划分\n",
    "\n",
    "设B1,B2,...是样本空间Ω的一个划分，A为任一事件，则：$P(A)=\\sum_{i=1}^{\\infty}{P(A|B_i)P(B_i)}$"
   ]
  },
  {
   "cell_type": "markdown",
   "id": "inside-teach",
   "metadata": {},
   "source": [
    "**贝叶斯公式**"
   ]
  },
  {
   "cell_type": "markdown",
   "id": "cardiac-spank",
   "metadata": {},
   "source": [
    "与全概率公式解决的问题相反，贝叶斯公式是建立在条件概率的基础上寻找事件发生的原因（即大事件A已经发生的条件下，分割中的小事件Bi的概率），设B1,B2,...是样本空间Ω的一个划分，则对任一事件A（P(A)>0),有$$P(B \\mid A) = \\frac{ P(A \\mid B_i) P(B_i) }{ \\sum_{j=1}^{n}{P(A|B_j)P(B_j)}}，i=1,2,...，n$$"
   ]
  },
  {
   "cell_type": "markdown",
   "id": "functional-patio",
   "metadata": {},
   "source": [
    "## 编程要求"
   ]
  },
  {
   "cell_type": "markdown",
   "id": "exempt-attention",
   "metadata": {},
   "source": [
    "略"
   ]
  },
  {
   "cell_type": "markdown",
   "id": "prospective-climb",
   "metadata": {},
   "source": [
    "## 实战练习"
   ]
  },
  {
   "cell_type": "markdown",
   "id": "paperback-vietnamese",
   "metadata": {},
   "source": [
    "1.已知甲袋中有6只红球，4只白球，乙袋中有8只红球，6只白球，随机取一只袋，再从袋中人去一球，发现是红球，则此球来自甲袋的概率为（ ）\n",
    "\n",
    "A. 5/12\n",
    "\n",
    "B. 3/7\n",
    "\n",
    "C. 20/41\n",
    "\n",
    "D. 21/41\n",
    "\n",
    "2.某试卷中1道选择题有6个答案，其中只有一个是正确的。考生不知道正确答案的概率为1/4，不知道正确答案而猜对的概率是1/6.先已知某考生答对了，则他猜对此题的概率是（ ）\n",
    "\n",
    "A. 1/4\n",
    "\n",
    "B. 1/19\n",
    "\n",
    "C. 11/16\n",
    "\n",
    "D. 19/24"
   ]
  },
  {
   "cell_type": "markdown",
   "id": "changed-weight",
   "metadata": {},
   "source": [
    "## 参考答案"
   ]
  },
  {
   "cell_type": "markdown",
   "id": "classical-twins",
   "metadata": {},
   "source": [
    "1. D\n",
    "\n",
    "2. B "
   ]
  }
 ],
 "metadata": {
  "kernelspec": {
   "display_name": "Python 3",
   "language": "python",
   "name": "python3"
  },
  "language_info": {
   "codemirror_mode": {
    "name": "ipython",
    "version": 3
   },
   "file_extension": ".py",
   "mimetype": "text/x-python",
   "name": "python",
   "nbconvert_exporter": "python",
   "pygments_lexer": "ipython3",
   "version": "3.8.2"
  }
 },
 "nbformat": 4,
 "nbformat_minor": 5
}
