{
 "cells": [
  {
   "cell_type": "markdown",
   "id": "combined-impression",
   "metadata": {},
   "source": [
    "## 任务描述"
   ]
  },
  {
   "cell_type": "markdown",
   "id": "reported-soviet",
   "metadata": {},
   "source": [
    "1. 掌握AdaBoost算法流程"
   ]
  },
  {
   "cell_type": "markdown",
   "id": "successful-ebony",
   "metadata": {},
   "source": [
    "## 相关知识"
   ]
  },
  {
   "cell_type": "markdown",
   "id": "protected-savings",
   "metadata": {},
   "source": [
    "集成方法众多，本节主要关注Boosting方法中的一种最流行的版本，即AdaBoost。"
   ]
  },
  {
   "cell_type": "markdown",
   "id": "colored-ownership",
   "metadata": {},
   "source": [
    "AdaBoost算法是基于Boosting思想的机器学习算法，AdaBoost是adaptive boosting（自适应boosting）的缩写"
   ]
  },
  {
   "cell_type": "markdown",
   "id": "exposed-oregon",
   "metadata": {},
   "source": [
    "![jupyter](https://i.loli.net/2021/06/02/dkn4ysvfa2RzO15.png)"
   ]
  },
  {
   "cell_type": "markdown",
   "id": "above-boating",
   "metadata": {},
   "source": [
    "接下来我们通过图示法来看一下具体流程，我们设置训练轮数为3。"
   ]
  },
  {
   "cell_type": "markdown",
   "id": "mounted-mumbai",
   "metadata": {},
   "source": [
    "![jupyter](https://i.loli.net/2021/06/02/StxFhkHPw2vBdzC.png)\n",
    "最初的训练集，并且每个样本都有一个权重$D_1$"
   ]
  },
  {
   "cell_type": "markdown",
   "id": "supported-active",
   "metadata": {},
   "source": [
    "![jupyter](https://i.loli.net/2021/06/02/7oiWtzPrvgAjkyX.png)\n",
    "经过t=1的train后，得到的结果，发现右边的三个样本被分类错误了，那么就加重对于他们的的权重，而对于分类正确的样本进行减弱。"
   ]
  },
  {
   "cell_type": "markdown",
   "id": "typical-photography",
   "metadata": {},
   "source": [
    "![jupyter](https://i.loli.net/2021/06/02/dBoCucxHmriK5DY.png)\n",
    "得到如上图所示的样本。"
   ]
  },
  {
   "cell_type": "markdown",
   "id": "close-ranch",
   "metadata": {},
   "source": [
    "![jupyter](https://i.loli.net/2021/06/02/iK8vj4XLTfJ76Vq.jpg)\n",
    "学习到的第二个基学习器$h_2$ ,此时，左边的三个样本被分类错误，所以，我们增大他们的相关权重，减小分类正确点的权重。"
   ]
  },
  {
   "cell_type": "markdown",
   "id": "toxic-beauty",
   "metadata": {},
   "source": [
    "![jupyter](https://i.loli.net/2021/06/02/dBoCucxHmriK5DY.png)\n",
    "得到如上图所示的样本"
   ]
  },
  {
   "cell_type": "markdown",
   "id": "multiple-presence",
   "metadata": {},
   "source": [
    "![jupyter](https://i.loli.net/2021/06/02/BmPOrZNy6qpHLDE.png)\n",
    "然后在训练出第三个基学习器 $h_3$"
   ]
  },
  {
   "cell_type": "markdown",
   "id": "instant-webmaster",
   "metadata": {},
   "source": [
    "最终，将上述三个学习器全部通过线性加权，得到最终的model\n",
    "![jupyter](https://i.loli.net/2021/06/02/nqiNH9bDmv1gaGY.jpg)"
   ]
  },
  {
   "cell_type": "markdown",
   "id": "reliable-scotland",
   "metadata": {},
   "source": [
    "用这个model对于最初的样本数据进行划分，得到如下的结果\n",
    "![jupyter](https://i.loli.net/2021/06/02/1Xo65DIMHxQRiJP.png)"
   ]
  },
  {
   "cell_type": "markdown",
   "id": "available-sodium",
   "metadata": {},
   "source": [
    "我们发现了adaboost具有很棒的性能。它其实就相当于把不同的learner按照一定的权重进行组合，使得这些learner之间尽可能做到相互补充，来共同完成一项任务，关于组合的权重，肯定是哪个learner的error小，那么，它的权重就相对大一些。"
   ]
  },
  {
   "cell_type": "markdown",
   "id": "extraordinary-louis",
   "metadata": {},
   "source": [
    "## 编程要求"
   ]
  },
  {
   "cell_type": "markdown",
   "id": "unnecessary-isolation",
   "metadata": {},
   "source": [
    "复习上述内容，根据每一步的提示，补充下面Begin-End区间的代码完成相应代码，依次完成读取数据，提取特征值和标签值，划分训练集和测试集，建立模型，并训练模型，对数据进行预测，评估预测的准确率。\n",
    "\n",
    "最终结果Accuracy；93.33%"
   ]
  },
  {
   "cell_type": "code",
   "execution_count": null,
   "id": "designing-following",
   "metadata": {},
   "outputs": [],
   "source": [
    "import warnings\n",
    "warnings.filterwarnings('ignore')#用于屏蔽警告\n",
    "from sklearn.ensemble import AdaBoostClassifier#导入分类器模块\n",
    "import pandas as pd\n",
    "from sklearn.model_selection  import train_test_split\n",
    "from sklearn.metrics import accuracy_score\n",
    "# ***** Begin ***** #\n",
    "#读取数据\n",
    "\n",
    "#提取特征值和标签值\n",
    "\n",
    "#划分训练集和测试集，参数test_size设为0.2，random_state设为7\n",
    "\n",
    "#建立模型，并对模型进行训练\n",
    "\n",
    "#对数据进行预测\n",
    "\n",
    "#评估预测的准确率\n",
    "\n",
    "# ***** End ***** #"
   ]
  },
  {
   "cell_type": "markdown",
   "id": "exciting-dynamics",
   "metadata": {},
   "source": [
    "## 参考答案"
   ]
  },
  {
   "cell_type": "code",
   "execution_count": null,
   "id": "compact-prefix",
   "metadata": {},
   "outputs": [],
   "source": [
    "import warnings\n",
    "warnings.filterwarnings('ignore')#用于屏蔽警告\n",
    "from sklearn.ensemble import AdaBoostClassifier#导入分类器模块\n",
    "import pandas as pd\n",
    "from sklearn.model_selection  import train_test_split\n",
    "from sklearn.metrics import accuracy_score\n",
    "#读取数据\n",
    "data=pd.read_csv('../../data/3.14/iris.data.csv')\n",
    "data.head()\n",
    "\n",
    "#提取特征值和标签值\n",
    "X=data.iloc[:,:-1].values#提取特征值\n",
    "y=data.iloc[:,-1].values#提取标签值\n",
    "\n",
    "#划分训练集和测试集，参数test_size设为0.2，random_state设为7\n",
    "x_train,x_test,y_train,y_test = train_test_split(X,y,test_size=0.2,random_state=4)\n",
    "\n",
    "#建立模型，并对模型进行训练\n",
    "ada=AdaBoostClassifier()\n",
    "ada.fit(x_train,y_train)\n",
    "\n",
    "#对数据进行预测\n",
    "ypredict=ada.predict(x_test)\n",
    "\n",
    "#评估预测的准确率\n",
    "accuracy = accuracy_score(y_test, ypredict)\n",
    "print(\"Accuracy: %.2f%%\" % (accuracy * 100.0))"
   ]
  }
 ],
 "metadata": {
  "kernelspec": {
   "display_name": "Python 3",
   "language": "python",
   "name": "python3"
  },
  "language_info": {
   "codemirror_mode": {
    "name": "ipython",
    "version": 3
   },
   "file_extension": ".py",
   "mimetype": "text/x-python",
   "name": "python",
   "nbconvert_exporter": "python",
   "pygments_lexer": "ipython3",
   "version": "3.8.2"
  }
 },
 "nbformat": 4,
 "nbformat_minor": 5
}
