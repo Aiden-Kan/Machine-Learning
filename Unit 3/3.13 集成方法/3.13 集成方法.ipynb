{
 "cells": [
  {
   "cell_type": "markdown",
   "id": "alternate-affiliate",
   "metadata": {},
   "source": [
    "## 任务描述"
   ]
  },
  {
   "cell_type": "markdown",
   "id": "pacific-agenda",
   "metadata": {},
   "source": [
    "1. 了解Bagging算法\n",
    "\n",
    "2. 了解Boosting算法"
   ]
  },
  {
   "cell_type": "markdown",
   "id": "dynamic-connectivity",
   "metadata": {},
   "source": [
    "## 相关知识"
   ]
  },
  {
   "cell_type": "markdown",
   "id": "reasonable-works",
   "metadata": {},
   "source": [
    "集成方法（ensemble method）通过组合多个学习器来完成学习任务，颇有点“三个臭皮匠顶个诸葛亮”的意味。集成学习的泛化能力一般比单一的基分类器要好，这是因为大部分基分类器分类错误的概率远低于单一基分类器的。"
   ]
  },
  {
   "cell_type": "markdown",
   "id": "plastic-stupid",
   "metadata": {},
   "source": [
    "![jupyter](https://i.loli.net/2021/06/02/IB65VsZK2d7zCt8.png)"
   ]
  },
  {
   "cell_type": "markdown",
   "id": "placed-bangladesh",
   "metadata": {},
   "source": [
    "本节主要介绍Bagging和Boosting，它们都是将已有的分类或回归算法通过一定方式组合起来，形成一个性能更加强大的分类器，更准确的说这是一种分类算法的组装方法，即将弱分类器组装成强分类器的方法。"
   ]
  },
  {
   "cell_type": "markdown",
   "id": "purple-ivory",
   "metadata": {},
   "source": [
    "**Bagging**"
   ]
  },
  {
   "cell_type": "markdown",
   "id": "underlying-country",
   "metadata": {},
   "source": [
    "自举汇聚法（bootstrap aggregating），也称为bagging方法。Bagging对训练数据采用自举采样（bootstrap sampling），即有放回地采样数据。"
   ]
  },
  {
   "cell_type": "markdown",
   "id": "saving-sweet",
   "metadata": {},
   "source": [
    "主要思想：\n",
    "\n",
    "1.从原始样本集中抽取训练集。每轮从原始样本集中使用Bootstraping的方法抽取n个训练样本（在训练集中，有些样本可能被多次抽取到，而有些样本可能一次都没有被抽中）。共进行k轮抽取，得到k个训练集。（k个训练集之间是相互独立的）\n",
    "\n",
    "2.每次使用一个训练集得到一个模型，k个训练集共得到k个模型。（注：这里并没有具体的分类算法或回归方法，我们可以根据具体问题采用不同的分类或回归方法，如决策树、感知器等）\n",
    "\n",
    "3.对分类问题：将上步得到的k个模型采用投票的方式得到分类结果；\n",
    "\n",
    "对回归问题，计算上述模型的均值作为最后的结果。（所有模型的重要性相同）"
   ]
  },
  {
   "cell_type": "markdown",
   "id": "affecting-assets",
   "metadata": {},
   "source": [
    "![jupyter](https://i.loli.net/2021/06/02/8RM7LaBG9zXjtKq.png)"
   ]
  },
  {
   "cell_type": "markdown",
   "id": "engaged-retrieval",
   "metadata": {},
   "source": [
    "**Boosting**"
   ]
  },
  {
   "cell_type": "markdown",
   "id": "differential-moderator",
   "metadata": {},
   "source": [
    "Boosting是一种与Bagging很类似的技术。Boosting的思路则是采用重赋权（re-weighting）法迭代地训练基分类器。"
   ]
  },
  {
   "cell_type": "markdown",
   "id": "champion-creator",
   "metadata": {},
   "source": [
    "主要思想：\n",
    "\n",
    "1.每一轮的训练数据样本赋予一个权重，并且每一轮样本的权值分布依赖上一轮的分类结果。\n",
    "\n",
    "2.基分类器之间采用序列式的线性加权方式进行组合。"
   ]
  },
  {
   "cell_type": "markdown",
   "id": "married-partnership",
   "metadata": {},
   "source": [
    "![jupyter](https://i.loli.net/2021/06/02/nuXLzFYGBfK3dy6.png)"
   ]
  },
  {
   "cell_type": "markdown",
   "id": "local-enforcement",
   "metadata": {},
   "source": [
    "**Bagging、Boosting二者之间的区别**"
   ]
  },
  {
   "cell_type": "markdown",
   "id": "automotive-things",
   "metadata": {},
   "source": [
    "样本选择上：\n",
    "\n",
    "1.Bagging：训练集是在原始集中有放回选取的，从原始集中选出的各轮训练集之间是独立的。\n",
    "\n",
    "2.Boosting：每一轮的训练集不变，只是训练集中每个样例在分类器中的权重发生变化。而权值是根据上一轮的分类结果进行调整。"
   ]
  },
  {
   "cell_type": "markdown",
   "id": "restricted-happiness",
   "metadata": {},
   "source": [
    "样例权重：\n",
    "\n",
    "1.Bagging：使用均匀取样，每个样例的权重相等。\n",
    "\n",
    "2.Boosting：根据错误率不断调整样例的权值，错误率越大则权重越大。"
   ]
  },
  {
   "cell_type": "markdown",
   "id": "welsh-overall",
   "metadata": {},
   "source": [
    "预测函数：\n",
    "\n",
    "1.Bagging：所有预测函数的权重相等。\n",
    "\n",
    "2.Boosting：每个弱分类器都有相应的权重，对于分类误差小的分类器会有更大的权重。"
   ]
  },
  {
   "cell_type": "markdown",
   "id": "impressive-conservation",
   "metadata": {},
   "source": [
    "并行计算：\n",
    "\n",
    "1.Bagging：各个预测函数可以并行生成。\n",
    "\n",
    "2.Boosting：各个预测函数只能顺序生成，因为后一个模型参数需要前一轮模型的结果。"
   ]
  },
  {
   "cell_type": "markdown",
   "id": "current-institute",
   "metadata": {},
   "source": [
    "这两种方法都是把若干个分类器整合为一个分类器的方法，只是整合的方式不一样，最终得到不一样的效果，将不同的分类算法套入到此类算法框架中一定程度上会提高了原单一分类器的分类效果，但是也增大了计算量。"
   ]
  },
  {
   "cell_type": "markdown",
   "id": "exciting-poison",
   "metadata": {},
   "source": [
    "下面是将决策树与这些算法框架进行结合所得到的新的算法：\n",
    "\n",
    "Bagging + 决策树 = 随机森林\n",
    "\n",
    "AdaBoost + 决策树 = 提升树\n",
    "\n",
    "Gradient Boosting + 决策树 = GBDT"
   ]
  },
  {
   "cell_type": "markdown",
   "id": "basic-oliver",
   "metadata": {},
   "source": [
    "## 编程要求"
   ]
  },
  {
   "cell_type": "markdown",
   "id": "specified-detector",
   "metadata": {},
   "source": [
    "略"
   ]
  },
  {
   "cell_type": "markdown",
   "id": "balanced-satellite",
   "metadata": {},
   "source": [
    "## 实战练习"
   ]
  },
  {
   "cell_type": "markdown",
   "id": "valid-reverse",
   "metadata": {},
   "source": [
    "1.以下属于集成方法的是( )(多选题)\n",
    "\n",
    "A. Bagging\n",
    "\n",
    "B. stacking\n",
    "\n",
    "C. Boosting \n",
    "\n",
    "D. Blending\n",
    "\n",
    "2.XGBoost和GDBT都是属于Boosting算法  (  )(判断题)\n",
    "\n",
    "A. 对\n",
    "\n",
    "B. 错"
   ]
  },
  {
   "cell_type": "markdown",
   "id": "general-killer",
   "metadata": {},
   "source": [
    "## 参考答案"
   ]
  },
  {
   "cell_type": "markdown",
   "id": "banned-broadcasting",
   "metadata": {},
   "source": [
    "1.ABCD\n",
    "\n",
    "2.A"
   ]
  }
 ],
 "metadata": {
  "kernelspec": {
   "display_name": "Python 3",
   "language": "python",
   "name": "python3"
  },
  "language_info": {
   "codemirror_mode": {
    "name": "ipython",
    "version": 3
   },
   "file_extension": ".py",
   "mimetype": "text/x-python",
   "name": "python",
   "nbconvert_exporter": "python",
   "pygments_lexer": "ipython3",
   "version": "3.8.2"
  }
 },
 "nbformat": 4,
 "nbformat_minor": 5
}
