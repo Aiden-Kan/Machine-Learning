{
 "cells": [
  {
   "cell_type": "markdown",
   "metadata": {},
   "source": [
    "### 任务描述"
   ]
  },
  {
   "cell_type": "markdown",
   "metadata": {},
   "source": [
    "面对激烈的市场竞争，各个航空公司都推出了更多的优惠来吸引客户。国内某航空司常面临着旅客流失、竞争力下降和资源未充分利用等经营危机。通过建立合理的客户价值评估模型，对客户进行分群，分析及比较不同客户群的客户价值，并制定相应的营销策略，对不同的客户群提供个性化的服务。"
   ]
  },
  {
   "cell_type": "markdown",
   "metadata": {},
   "source": [
    "### 相关知识"
   ]
  },
  {
   "cell_type": "markdown",
   "metadata": {},
   "source": [
    "**了解航空公司现状**"
   ]
  },
  {
   "cell_type": "markdown",
   "metadata": {},
   "source": [
    "目前该航空公司已积累了大量的会员档案信息和其乘坐航班记录。"
   ]
  },
  {
   "cell_type": "markdown",
   "metadata": {},
   "source": [
    "以2014年3月3日为结束时间，选取宽度为两年的时间段作为分析观测窗口，抽取观测窗口内有乘机记录的所有客户的详细数据，形成历史数据，总共62988条记录。其中包含了会员卡号、入会时间、性别、年龄、会员卡级别、工作地城市、工作地所在省份、工作地所在国家、观测的窗口结束时间、总累计积分、观测窗口的总飞行千米数、观测窗口内的飞行次数、平均乘机时间间隔和平均折扣系数等特征。"
   ]
  },
  {
   "cell_type": "markdown",
   "metadata": {},
   "source": [
    "![jupyter](https://i.loli.net/2021/06/02/NpnX9FLdgxlQwA4.png)"
   ]
  },
  {
   "cell_type": "markdown",
   "metadata": {},
   "source": [
    "表属性："
   ]
  },
  {
   "cell_type": "markdown",
   "metadata": {},
   "source": [
    "| 特征名称    |特征说明    |\n",
    "| ------------ | ------------|\n",
    "| MEMBER_NO   | 会员卡号   |\n",
    "| FFP_DATE    | 入会时间   |\n",
    "| FIRST_FLIGHT_DATE    | 第一次飞行日期   |\n",
    "|GENDER|性别|\n",
    "|FFP_TIER|会员卡级别|\n",
    "|WORK_CITY|工作地城市|\n",
    "|WORK_PROVINCE|工作地所在省份|\n",
    "|WORK_COUNTRY|工作地所在国家|\n",
    "|AGE|年龄|\n",
    "|FLIGHT_COUNT|观测窗口内的飞行次数|\n",
    "|LOAD_TIME|观测窗口的结束时间|\n",
    "|LAST_TO_END|最后一次乘机时间至观测窗口结束时长|\n",
    "|AVG_DISCOUNT|平均折扣率|\n",
    "|SUM_YR|观测窗口的票价收入|\n",
    "|SEG_KM_SUM|观测窗口的总飞行公里数|\n",
    "|LAST_FLIGHT_DATE|末次飞行日期|\n",
    "|AVG_INTERVAL|平均乘机时间间隔|\n",
    "|MAX_INTERVAL|最大乘机间隔|\n",
    "|EXCHANGE_COUNT|积分兑换次数|\n",
    "|EP_SUM|总精英积分|\n",
    "|PROMOPTIVE_SUM|促销积分|\n",
    "|PARTNER_SUM|合作伙伴积分|\n",
    "|POINTS_SUM|总累计积分|\n",
    "|POINT_NOTFLIGHT|非乘机的积分变动次数|\n",
    "|BP_SUM|总基本积分|"
   ]
  },
  {
   "cell_type": "markdown",
   "metadata": {},
   "source": [
    "结合目前航空公司的数据情况，可以实现以下目标。"
   ]
  },
  {
   "cell_type": "markdown",
   "metadata": {},
   "source": [
    "1)借助航空公司客户数据，对客户进行分群。"
   ]
  },
  {
   "cell_type": "markdown",
   "metadata": {},
   "source": [
    "2)对不同的客户类别进行特征分析，比较不同类别客户的客户价值。"
   ]
  },
  {
   "cell_type": "markdown",
   "metadata": {},
   "source": [
    "3)对不同价值的客户类别提供个性化服务，制定相应的营销策略。"
   ]
  },
  {
   "cell_type": "markdown",
   "metadata": {},
   "source": [
    "**熟悉航空客户价值分析的步骤与流程**"
   ]
  },
  {
   "cell_type": "markdown",
   "metadata": {},
   "source": [
    "主要包括以下四个步骤："
   ]
  },
  {
   "cell_type": "markdown",
   "metadata": {},
   "source": [
    "(1)抽取航空公司2012年4月1日至2014年3月31日的数据。"
   ]
  },
  {
   "cell_type": "markdown",
   "metadata": {},
   "source": [
    "(2)对抽取的数据进行数据清洗、特征构建和标准化等操作。"
   ]
  },
  {
   "cell_type": "markdown",
   "metadata": {},
   "source": [
    "(3)基于RFM模型，使用 K-Means算法进行客户分群。"
   ]
  },
  {
   "cell_type": "markdown",
   "metadata": {},
   "source": [
    "(4)针对模型结果得到不同价值的客户，采用不同的营销手段，提供定制化的服务。"
   ]
  },
  {
   "cell_type": "markdown",
   "metadata": {},
   "source": [
    "**航空公司客户价值分析**"
   ]
  },
  {
   "cell_type": "markdown",
   "metadata": {},
   "source": [
    "首先导入分析中用到的各种第三方工具包"
   ]
  },
  {
   "cell_type": "code",
   "execution_count": 1,
   "metadata": {},
   "outputs": [],
   "source": [
    "import pandas as pd\n",
    "import numpy as np\n",
    "from sklearn.cluster import KMeans\n",
    "import matplotlib.pyplot as plt"
   ]
  },
  {
   "cell_type": "markdown",
   "metadata": {},
   "source": [
    "接着将数据读取到程序中，并查看每个特征属性的相关信息，以便对“脏”数据进行处理"
   ]
  },
  {
   "cell_type": "code",
   "execution_count": 2,
   "metadata": {},
   "outputs": [
    {
     "name": "stdout",
     "output_type": "stream",
     "text": [
      "(62988, 44)\n",
      "<class 'pandas.core.frame.DataFrame'>\n",
      "RangeIndex: 62988 entries, 0 to 62987\n",
      "Data columns (total 44 columns):\n",
      " #   Column                   Non-Null Count  Dtype  \n",
      "---  ------                   --------------  -----  \n",
      " 0   MEMBER_NO                62988 non-null  int64  \n",
      " 1   FFP_DATE                 62988 non-null  object \n",
      " 2   FIRST_FLIGHT_DATE        62988 non-null  object \n",
      " 3   GENDER                   62985 non-null  object \n",
      " 4   FFP_TIER                 62988 non-null  int64  \n",
      " 5   WORK_CITY                60719 non-null  object \n",
      " 6   WORK_PROVINCE            59740 non-null  object \n",
      " 7   WORK_COUNTRY             62962 non-null  object \n",
      " 8   AGE                      62568 non-null  float64\n",
      " 9   LOAD_TIME                62988 non-null  object \n",
      " 10  FLIGHT_COUNT             62988 non-null  int64  \n",
      " 11  BP_SUM                   62988 non-null  int64  \n",
      " 12  EP_SUM_YR_1              62988 non-null  int64  \n",
      " 13  EP_SUM_YR_2              62988 non-null  int64  \n",
      " 14  SUM_YR_1                 62437 non-null  float64\n",
      " 15  SUM_YR_2                 62850 non-null  float64\n",
      " 16  SEG_KM_SUM               62988 non-null  int64  \n",
      " 17  WEIGHTED_SEG_KM          62988 non-null  float64\n",
      " 18  LAST_FLIGHT_DATE         62988 non-null  object \n",
      " 19  AVG_FLIGHT_COUNT         62988 non-null  float64\n",
      " 20  AVG_BP_SUM               62988 non-null  float64\n",
      " 21  BEGIN_TO_FIRST           62988 non-null  int64  \n",
      " 22  LAST_TO_END              62988 non-null  int64  \n",
      " 23  AVG_INTERVAL             62988 non-null  float64\n",
      " 24  MAX_INTERVAL             62988 non-null  int64  \n",
      " 25  ADD_POINTS_SUM_YR_1      62988 non-null  int64  \n",
      " 26  ADD_POINTS_SUM_YR_2      62988 non-null  int64  \n",
      " 27  EXCHANGE_COUNT           62988 non-null  int64  \n",
      " 28  avg_discount             62988 non-null  float64\n",
      " 29  P1Y_Flight_Count         62988 non-null  int64  \n",
      " 30  L1Y_Flight_Count         62988 non-null  int64  \n",
      " 31  P1Y_BP_SUM               62988 non-null  int64  \n",
      " 32  L1Y_BP_SUM               62988 non-null  int64  \n",
      " 33  EP_SUM                   62988 non-null  int64  \n",
      " 34  ADD_Point_SUM            62988 non-null  int64  \n",
      " 35  Eli_Add_Point_Sum        62988 non-null  int64  \n",
      " 36  L1Y_ELi_Add_Points       62988 non-null  int64  \n",
      " 37  Points_Sum               62988 non-null  int64  \n",
      " 38  L1Y_Points_Sum           62988 non-null  int64  \n",
      " 39  Ration_L1Y_Flight_Count  62988 non-null  float64\n",
      " 40  Ration_P1Y_Flight_Count  62988 non-null  float64\n",
      " 41  Ration_P1Y_BPS           62988 non-null  float64\n",
      " 42  Ration_L1Y_BPS           62988 non-null  float64\n",
      " 43  Point_NotFlight          62988 non-null  int64  \n",
      "dtypes: float64(12), int64(24), object(8)\n",
      "memory usage: 21.1+ MB\n",
      "None\n"
     ]
    }
   ],
   "source": [
    "datafile = \"../../data/4.3/air_data.csv\"\n",
    "data = pd.read_csv(datafile, encoding=\"utf-8\")\n",
    "print(data.shape)\n",
    "print(data.info())"
   ]
  },
  {
   "cell_type": "code",
   "execution_count": 3,
   "metadata": {},
   "outputs": [
    {
     "name": "stdout",
     "output_type": "stream",
     "text": [
      "   MEMBER_NO    FFP_DATE FIRST_FLIGHT_DATE GENDER  FFP_TIER    WORK_CITY  \\\n",
      "0      54993  2006/11/02        2008/12/24      男         6            .   \n",
      "1      28065  2007/02/19        2007/08/03      男         6          NaN   \n",
      "2      55106  2007/02/01        2007/08/30      男         6            .   \n",
      "3      21189  2008/08/22        2008/08/23      男         5  Los Angeles   \n",
      "4      39546  2009/04/10        2009/04/15      男         6           贵阳   \n",
      "\n",
      "  WORK_PROVINCE WORK_COUNTRY   AGE   LOAD_TIME  ...  ADD_Point_SUM  \\\n",
      "0            北京           CN  31.0  2014/03/31  ...          39992   \n",
      "1            北京           CN  42.0  2014/03/31  ...          12000   \n",
      "2            北京           CN  40.0  2014/03/31  ...          15491   \n",
      "3            CA           US  64.0  2014/03/31  ...              0   \n",
      "4            贵州           CN  48.0  2014/03/31  ...          22704   \n",
      "\n",
      "   Eli_Add_Point_Sum  L1Y_ELi_Add_Points  Points_Sum  L1Y_Points_Sum  \\\n",
      "0             114452              111100      619760          370211   \n",
      "1              53288               53288      415768          238410   \n",
      "2              55202               51711      406361          233798   \n",
      "3              34890               34890      372204          186100   \n",
      "4              64969               64969      338813          210365   \n",
      "\n",
      "   Ration_L1Y_Flight_Count  Ration_P1Y_Flight_Count  Ration_P1Y_BPS  \\\n",
      "0                 0.509524                 0.490476        0.487221   \n",
      "1                 0.514286                 0.485714        0.489289   \n",
      "2                 0.518519                 0.481481        0.481467   \n",
      "3                 0.434783                 0.565217        0.551722   \n",
      "4                 0.532895                 0.467105        0.469054   \n",
      "\n",
      "  Ration_L1Y_BPS  Point_NotFlight  \n",
      "0       0.512777               50  \n",
      "1       0.510708               33  \n",
      "2       0.518530               26  \n",
      "3       0.448275               12  \n",
      "4       0.530943               39  \n",
      "\n",
      "[5 rows x 44 columns]\n"
     ]
    }
   ],
   "source": [
    "print(data[0:5])"
   ]
  },
  {
   "cell_type": "markdown",
   "metadata": {},
   "source": [
    "通过观测可知，数据集中存在票价为零但是飞行公里大于零的不合理值，但是所占比例较小，这里直接删去"
   ]
  },
  {
   "cell_type": "code",
   "execution_count": 4,
   "metadata": {},
   "outputs": [
    {
     "name": "stdout",
     "output_type": "stream",
     "text": [
      "(62044, 44)\n"
     ]
    }
   ],
   "source": [
    "data = data[data[\"SUM_YR_1\"].notnull() & data[\"SUM_YR_2\"].notnull()]\n",
    "index1 = data[\"SUM_YR_1\"] != 0\n",
    "index2 = data[\"SUM_YR_2\"] != 0\n",
    "index3 = (data[\"SEG_KM_SUM\"] == 0) & (data[\"avg_discount\"] == 0)\n",
    "data = data[index1 | index2| index3]\n",
    "print(data.shape)"
   ]
  },
  {
   "cell_type": "markdown",
   "metadata": {},
   "source": [
    "删除后剩余的样本值是62044个，可见异常样本的比例不足1.5%，因此不会对分析结果产生较大的影响。"
   ]
  },
  {
   "cell_type": "markdown",
   "metadata": {},
   "source": [
    "原始数据集的特征属性太多，而且各属性不具有降维的特征，故这里选取几个对航空公司来说比较有价值的几个特征进行分析，这里并没有完全按照书中的做法选取特征，最终选取的特征是第一年总票价、第二年总票价、观测窗口总飞行公里数、飞行次数、平均乘机时间间隔、观察窗口内最大乘机间隔、入会时间、观测窗口的结束时间、平均折扣率这八个特征。下面说明这么选的理由："
   ]
  },
  {
   "cell_type": "markdown",
   "metadata": {},
   "source": [
    "1.选取的特征是第一年总票价、第二年总票价、观测窗口总飞行公里数是要计算平均飞行每公里的票价，因为对于航空公司来说并不是票价越高，飞行公里数越长越能创造利润，相反而是那些近距离的高等舱的客户创造更大的利益。"
   ]
  },
  {
   "cell_type": "markdown",
   "metadata": {},
   "source": [
    "2.当然总飞行公里数、飞行次数也都是评价一个客户价值的重要的指标。"
   ]
  },
  {
   "cell_type": "markdown",
   "metadata": {},
   "source": [
    "3.入会时间可以看出客户是不是老用户及忠诚度。"
   ]
  },
  {
   "cell_type": "markdown",
   "metadata": {},
   "source": [
    "4.通过平均乘机时间间隔、观察窗口内最大乘机间隔可以判断客户的乘机频率是不是固定。"
   ]
  },
  {
   "cell_type": "markdown",
   "metadata": {},
   "source": [
    "5.平均折扣率可以反映出客户给公里带来的利益，毕竟来说越是高价值的客户享用的折扣率越高。"
   ]
  },
  {
   "cell_type": "code",
   "execution_count": 5,
   "metadata": {},
   "outputs": [
    {
     "data": {
      "text/html": [
       "<div>\n",
       "<style scoped>\n",
       "    .dataframe tbody tr th:only-of-type {\n",
       "        vertical-align: middle;\n",
       "    }\n",
       "\n",
       "    .dataframe tbody tr th {\n",
       "        vertical-align: top;\n",
       "    }\n",
       "\n",
       "    .dataframe thead th {\n",
       "        text-align: right;\n",
       "    }\n",
       "</style>\n",
       "<table border=\"1\" class=\"dataframe\">\n",
       "  <thead>\n",
       "    <tr style=\"text-align: right;\">\n",
       "      <th></th>\n",
       "      <th>FFP_DATE</th>\n",
       "      <th>LOAD_TIME</th>\n",
       "      <th>FLIGHT_COUNT</th>\n",
       "      <th>SUM_YR_1</th>\n",
       "      <th>SUM_YR_2</th>\n",
       "      <th>SEG_KM_SUM</th>\n",
       "      <th>AVG_INTERVAL</th>\n",
       "      <th>MAX_INTERVAL</th>\n",
       "      <th>avg_discount</th>\n",
       "    </tr>\n",
       "  </thead>\n",
       "  <tbody>\n",
       "    <tr>\n",
       "      <th>0</th>\n",
       "      <td>2006/11/02</td>\n",
       "      <td>2014/03/31</td>\n",
       "      <td>210</td>\n",
       "      <td>239560.0</td>\n",
       "      <td>234188.0</td>\n",
       "      <td>580717</td>\n",
       "      <td>3.483254</td>\n",
       "      <td>18</td>\n",
       "      <td>0.961639</td>\n",
       "    </tr>\n",
       "    <tr>\n",
       "      <th>1</th>\n",
       "      <td>2007/02/19</td>\n",
       "      <td>2014/03/31</td>\n",
       "      <td>140</td>\n",
       "      <td>171483.0</td>\n",
       "      <td>167434.0</td>\n",
       "      <td>293678</td>\n",
       "      <td>5.194245</td>\n",
       "      <td>17</td>\n",
       "      <td>1.252314</td>\n",
       "    </tr>\n",
       "    <tr>\n",
       "      <th>2</th>\n",
       "      <td>2007/02/01</td>\n",
       "      <td>2014/03/31</td>\n",
       "      <td>135</td>\n",
       "      <td>163618.0</td>\n",
       "      <td>164982.0</td>\n",
       "      <td>283712</td>\n",
       "      <td>5.298507</td>\n",
       "      <td>18</td>\n",
       "      <td>1.254676</td>\n",
       "    </tr>\n",
       "    <tr>\n",
       "      <th>3</th>\n",
       "      <td>2008/08/22</td>\n",
       "      <td>2014/03/31</td>\n",
       "      <td>23</td>\n",
       "      <td>116350.0</td>\n",
       "      <td>125500.0</td>\n",
       "      <td>281336</td>\n",
       "      <td>27.863636</td>\n",
       "      <td>73</td>\n",
       "      <td>1.090870</td>\n",
       "    </tr>\n",
       "    <tr>\n",
       "      <th>4</th>\n",
       "      <td>2009/04/10</td>\n",
       "      <td>2014/03/31</td>\n",
       "      <td>152</td>\n",
       "      <td>124560.0</td>\n",
       "      <td>130702.0</td>\n",
       "      <td>309928</td>\n",
       "      <td>4.788079</td>\n",
       "      <td>47</td>\n",
       "      <td>0.970658</td>\n",
       "    </tr>\n",
       "  </tbody>\n",
       "</table>\n",
       "</div>"
      ],
      "text/plain": [
       "     FFP_DATE   LOAD_TIME  FLIGHT_COUNT  SUM_YR_1  SUM_YR_2  SEG_KM_SUM  \\\n",
       "0  2006/11/02  2014/03/31           210  239560.0  234188.0      580717   \n",
       "1  2007/02/19  2014/03/31           140  171483.0  167434.0      293678   \n",
       "2  2007/02/01  2014/03/31           135  163618.0  164982.0      283712   \n",
       "3  2008/08/22  2014/03/31            23  116350.0  125500.0      281336   \n",
       "4  2009/04/10  2014/03/31           152  124560.0  130702.0      309928   \n",
       "\n",
       "   AVG_INTERVAL  MAX_INTERVAL  avg_discount  \n",
       "0      3.483254            18      0.961639  \n",
       "1      5.194245            17      1.252314  \n",
       "2      5.298507            18      1.254676  \n",
       "3     27.863636            73      1.090870  \n",
       "4      4.788079            47      0.970658  "
      ]
     },
     "execution_count": 5,
     "metadata": {},
     "output_type": "execute_result"
    }
   ],
   "source": [
    "filter_data = data[[ \"FFP_DATE\", \"LOAD_TIME\", \"FLIGHT_COUNT\", \"SUM_YR_1\", \"SUM_YR_2\", \"SEG_KM_SUM\", \"AVG_INTERVAL\" , \"MAX_INTERVAL\", \"avg_discount\"]]\n",
    "filter_data[0:5]"
   ]
  },
  {
   "cell_type": "markdown",
   "metadata": {},
   "source": [
    "对特征进行变换："
   ]
  },
  {
   "cell_type": "code",
   "execution_count": 6,
   "metadata": {},
   "outputs": [
    {
     "name": "stdout",
     "output_type": "stream",
     "text": [
      "       入会时间  飞行次数   平均每公里票价     总里程     时间间隔差值     平均折扣率\n",
      "0 2706 days   210  0.815798  580717  14.516746  0.961639\n",
      "1 2597 days   140  1.154043  293678  11.805755  1.252314\n",
      "2 2615 days   135  1.158217  283712  12.701493  1.254676\n",
      "3 2047 days    23  0.859648  281336  45.136364  1.090870\n",
      "4 1816 days   152  0.823617  309928  42.211921  0.970658\n",
      "     入会时间  飞行次数   平均每公里票价     总里程     时间间隔差值     平均折扣率\n",
      "0  2706.0   210  0.815798  580717  14.516746  0.961639\n",
      "1  2597.0   140  1.154043  293678  11.805755  1.252314\n",
      "2  2615.0   135  1.158217  283712  12.701493  1.254676\n",
      "3  2047.0    23  0.859648  281336  45.136364  1.090870\n",
      "4  1816.0   152  0.823617  309928  42.211921  0.970658\n",
      "<class 'pandas.core.frame.DataFrame'>\n",
      "Int64Index: 62044 entries, 0 to 62978\n",
      "Data columns (total 6 columns):\n",
      " #   Column   Non-Null Count  Dtype  \n",
      "---  ------   --------------  -----  \n",
      " 0   入会时间     62044 non-null  float64\n",
      " 1   飞行次数     62044 non-null  int64  \n",
      " 2   平均每公里票价  62044 non-null  float64\n",
      " 3   总里程      62044 non-null  int64  \n",
      " 4   时间间隔差值   62044 non-null  float64\n",
      " 5   平均折扣率    62044 non-null  float64\n",
      "dtypes: float64(4), int64(2)\n",
      "memory usage: 3.3 MB\n",
      "None\n"
     ]
    },
    {
     "name": "stderr",
     "output_type": "stream",
     "text": [
      "<ipython-input-6-94ada4399959>:12: SettingWithCopyWarning: \n",
      "A value is trying to be set on a copy of a slice from a DataFrame.\n",
      "Try using .loc[row_indexer,col_indexer] = value instead\n",
      "\n",
      "See the caveats in the documentation: https://pandas.pydata.org/pandas-docs/stable/user_guide/indexing.html#returning-a-view-versus-a-copy\n",
      "  filter_data['入会时间'] = filter_data['入会时间'].astype(np.int64)/(60*60*24*10**9)\n"
     ]
    }
   ],
   "source": [
    "data[\"LOAD_TIME\"] = pd.to_datetime(data[\"LOAD_TIME\"])\n",
    "data[\"FFP_DATE\"] = pd.to_datetime(data[\"FFP_DATE\"])\n",
    "data[\"入会时间\"] = data[\"LOAD_TIME\"] - data[\"FFP_DATE\"]\n",
    "data[\"平均每公里票价\"] = (data[\"SUM_YR_1\"] + data[\"SUM_YR_2\"]) / data[\"SEG_KM_SUM\"]\n",
    "data[\"时间间隔差值\"] = data[\"MAX_INTERVAL\"] - data[\"AVG_INTERVAL\"]\n",
    "deal_data = data.rename(\n",
    "    columns = {\"FLIGHT_COUNT\" : \"飞行次数\", \"SEG_KM_SUM\" : \"总里程\", \"avg_discount\" : \"平均折扣率\"},\n",
    "    inplace = False\n",
    ")\n",
    "filter_data = deal_data[[\"入会时间\", \"飞行次数\", \"平均每公里票价\", \"总里程\", \"时间间隔差值\", \"平均折扣率\"]]\n",
    "print(filter_data[0:5])\n",
    "filter_data['入会时间'] = filter_data['入会时间'].astype(np.int64)/(60*60*24*10**9)\n",
    "print(filter_data[0:5])\n",
    "print(filter_data.info())"
   ]
  },
  {
   "cell_type": "markdown",
   "metadata": {},
   "source": [
    "由于不同的属性相差范围较大，这里进行标准化处理"
   ]
  },
  {
   "cell_type": "code",
   "execution_count": 7,
   "metadata": {},
   "outputs": [
    {
     "data": {
      "text/html": [
       "<div>\n",
       "<style scoped>\n",
       "    .dataframe tbody tr th:only-of-type {\n",
       "        vertical-align: middle;\n",
       "    }\n",
       "\n",
       "    .dataframe tbody tr th {\n",
       "        vertical-align: top;\n",
       "    }\n",
       "\n",
       "    .dataframe thead th {\n",
       "        text-align: right;\n",
       "    }\n",
       "</style>\n",
       "<table border=\"1\" class=\"dataframe\">\n",
       "  <thead>\n",
       "    <tr style=\"text-align: right;\">\n",
       "      <th></th>\n",
       "      <th>入会时间</th>\n",
       "      <th>飞行次数</th>\n",
       "      <th>平均每公里票价</th>\n",
       "      <th>总里程</th>\n",
       "      <th>时间间隔差值</th>\n",
       "      <th>平均折扣率</th>\n",
       "    </tr>\n",
       "  </thead>\n",
       "  <tbody>\n",
       "    <tr>\n",
       "      <th>0</th>\n",
       "      <td>1.435707</td>\n",
       "      <td>14.034016</td>\n",
       "      <td>0.605115</td>\n",
       "      <td>26.761154</td>\n",
       "      <td>-0.987974</td>\n",
       "      <td>1.295540</td>\n",
       "    </tr>\n",
       "    <tr>\n",
       "      <th>1</th>\n",
       "      <td>1.307152</td>\n",
       "      <td>9.073213</td>\n",
       "      <td>1.812903</td>\n",
       "      <td>13.126864</td>\n",
       "      <td>-1.019566</td>\n",
       "      <td>2.868176</td>\n",
       "    </tr>\n",
       "    <tr>\n",
       "      <th>2</th>\n",
       "      <td>1.328381</td>\n",
       "      <td>8.718869</td>\n",
       "      <td>1.827807</td>\n",
       "      <td>12.653481</td>\n",
       "      <td>-1.009128</td>\n",
       "      <td>2.880950</td>\n",
       "    </tr>\n",
       "    <tr>\n",
       "      <th>3</th>\n",
       "      <td>0.658476</td>\n",
       "      <td>0.781585</td>\n",
       "      <td>0.761692</td>\n",
       "      <td>12.540622</td>\n",
       "      <td>-0.631155</td>\n",
       "      <td>1.994714</td>\n",
       "    </tr>\n",
       "    <tr>\n",
       "      <th>4</th>\n",
       "      <td>0.386032</td>\n",
       "      <td>9.923636</td>\n",
       "      <td>0.633034</td>\n",
       "      <td>13.898736</td>\n",
       "      <td>-0.665235</td>\n",
       "      <td>1.344335</td>\n",
       "    </tr>\n",
       "  </tbody>\n",
       "</table>\n",
       "</div>"
      ],
      "text/plain": [
       "       入会时间       飞行次数   平均每公里票价        总里程    时间间隔差值     平均折扣率\n",
       "0  1.435707  14.034016  0.605115  26.761154 -0.987974  1.295540\n",
       "1  1.307152   9.073213  1.812903  13.126864 -1.019566  2.868176\n",
       "2  1.328381   8.718869  1.827807  12.653481 -1.009128  2.880950\n",
       "3  0.658476   0.781585  0.761692  12.540622 -0.631155  1.994714\n",
       "4  0.386032   9.923636  0.633034  13.898736 -0.665235  1.344335"
      ]
     },
     "execution_count": 7,
     "metadata": {},
     "output_type": "execute_result"
    }
   ],
   "source": [
    "filter_zscore_data = (filter_data - filter_data.mean(axis=0))/(filter_data.std(axis=0))\n",
    "filter_zscore_data[0:5]"
   ]
  },
  {
   "cell_type": "markdown",
   "metadata": {},
   "source": [
    "对于K-Means方法，k的取值是一个难点，因为是无监督的聚类分析问题，所以不寻在绝对正确的值，需要进行研究试探。这里采用计算SSE的方法，尝试找到最好的K数值。编写函数如下："
   ]
  },
  {
   "cell_type": "code",
   "execution_count": 8,
   "metadata": {},
   "outputs": [
    {
     "name": "stdout",
     "output_type": "stream",
     "text": [
      "簇数是 2 时； SSE是 296587.92694098066\n",
      "簇数是 3 时； SSE是 245318.16747807685\n",
      "簇数是 4 时； SSE是 209301.49550319155\n",
      "簇数是 5 时； SSE是 183886.88783764106\n",
      "簇数是 6 时； SSE是 167465.52501845785\n",
      "簇数是 7 时； SSE是 151869.61069369144\n",
      "簇数是 8 时； SSE是 142924.50277421754\n",
      "簇数是 9 时； SSE是 135003.45171636555\n"
     ]
    }
   ],
   "source": [
    "import warnings\n",
    "warnings.filterwarnings(\"ignore\")\n",
    "\n",
    "\n",
    "def distEclud(vecA, vecB):\n",
    "    \"\"\"\n",
    "    计算两个向量的欧式距离的平方，并返回\n",
    "    \"\"\"\n",
    "    return np.sum(np.power(vecA - vecB, 2))\n",
    " \n",
    "def test_Kmeans_nclusters(data_train):\n",
    "    \"\"\"\n",
    "    计算不同的k值时，SSE的大小变化\n",
    "    \"\"\"\n",
    "    data_train = data_train.values\n",
    "    nums=range(2,10)\n",
    "    SSE = []\n",
    "    for num in nums:\n",
    "        sse = 0\n",
    "        kmodel = KMeans(n_clusters=num, n_jobs=4)\n",
    "        kmodel.fit(data_train)\n",
    "        # 簇中心\n",
    "        cluster_ceter_list = kmodel.cluster_centers_\n",
    "        # 个样本属于的簇序号列表\n",
    "        cluster_list = kmodel.labels_.tolist()\n",
    "        for index in  range(len(data)):\n",
    "            cluster_num = cluster_list[index]\n",
    "            sse += distEclud(data_train[index, :], cluster_ceter_list[cluster_num])\n",
    "        print(\"簇数是\",num , \"时； SSE是\", sse)\n",
    "        SSE.append(sse)\n",
    "    return nums, SSE\n",
    " \n",
    "nums, SSE = test_Kmeans_nclusters(filter_zscore_data)"
   ]
  },
  {
   "cell_type": "code",
   "execution_count": 9,
   "metadata": {},
   "outputs": [
    {
     "data": {
      "image/png": "[encoded data removed]",
      "text/plain": [
       "<Figure size 720x576 with 1 Axes>"
      ]
     },
     "metadata": {},
     "output_type": "display_data"
    }
   ],
   "source": [
    "#画图，通过观察SSE与k的取值尝试找出合适的k值\n",
    "# 中文和负号的正常显示\n",
    "plt.rcParams['font.sans-serif'] = 'SimHei'\n",
    "plt.rcParams['font.size'] = 12.0\n",
    "plt.rcParams['axes.unicode_minus'] = False\n",
    "# 使用ggplot的绘图风格\n",
    "plt.style.use('ggplot')\n",
    "## 绘图观测SSE与簇个数的关系\n",
    "fig=plt.figure(figsize=(10, 8))\n",
    "ax=fig.add_subplot(1,1,1)\n",
    "ax.plot(nums,SSE,marker=\"+\")\n",
    "ax.set_xlabel(\"n_clusters\", fontsize=18)\n",
    "ax.set_ylabel(\"SSE\", fontsize=18)\n",
    "fig.suptitle(\"KMeans\", fontsize=20)\n",
    "plt.show()"
   ]
  },
  {
   "cell_type": "markdown",
   "metadata": {},
   "source": [
    "观察图像，并没有的所谓的“肘”点出现，是随k值的增大逐渐减小的，这里选取当k分别取4， 5， 6时进行，看能不能通过分析结果来反向选取更合适的值，k取值4时的客户群特征分析图如下："
   ]
  },
  {
   "cell_type": "markdown",
   "metadata": {},
   "source": [
    "![jupyter](https://i.loli.net/2021/06/18/teTh1NXl4JEZAy7.png)"
   ]
  },
  {
   "cell_type": "markdown",
   "metadata": {},
   "source": [
    "k取值5，6时的代码与上述类似，不再给出，直接给出结果图"
   ]
  },
  {
   "cell_type": "markdown",
   "metadata": {},
   "source": [
    "![jupyter](https://i.loli.net/2021/06/02/O7nqbuxKAfBXYz9.png)"
   ]
  },
  {
   "cell_type": "markdown",
   "metadata": {},
   "source": [
    "![jupyter](https://i.loli.net/2021/06/02/YbZIgOTX46surE8.png)"
   ]
  },
  {
   "cell_type": "markdown",
   "metadata": {},
   "source": [
    "通过观察可知："
   ]
  },
  {
   "cell_type": "markdown",
   "metadata": {},
   "source": [
    "当k取值4时，每个人群包含的信息比较复杂，且特征不明显"
   ]
  },
  {
   "cell_type": "markdown",
   "metadata": {},
   "source": [
    "当k取值5时，分析的结果比较合理，分出的五种类型人群都有自己的特点又不相互重复"
   ]
  },
  {
   "cell_type": "markdown",
   "metadata": {},
   "source": [
    "当k取值6时，各种人群也都有自己的特点，但是第4簇人群完全在第5簇人群特征中包含了，有点冗余的意思"
   ]
  },
  {
   "cell_type": "markdown",
   "metadata": {},
   "source": [
    "综上，当k取值为5时，得到最好的聚类效果，将所有的客户分成5个人群，再进一步分析可以得到以下结论："
   ]
  },
  {
   "cell_type": "markdown",
   "metadata": {},
   "source": [
    "1.第一簇人群，10957人，最大的特点是时间间隔差值最大，分析可能是“季节型客户”，一年中在某个时间段需要多次乘坐飞机进行旅行，其他的时间则出行的不多，这类客户我们需要在保持的前提下，进行一定的发展；"
   ]
  },
  {
   "cell_type": "markdown",
   "metadata": {},
   "source": [
    "2.第二簇人群，14732人，最大的特点就是入会的时间较长，属于老客户按理说平均折扣率应该较高才对，但是观察窗口的平均折扣率较低，而且总里程和总次数都不高，分析可能是流失的客户，需要在争取一下，尽量让他们“回心转意”；"
   ]
  },
  {
   "cell_type": "markdown",
   "metadata": {},
   "source": [
    "3.第三簇人群，22188人，各方面的数据都是比较低的，属于一般或低价值用户"
   ]
  },
  {
   "cell_type": "markdown",
   "metadata": {},
   "source": [
    "4.第四簇人群，8724人，最大的特点就是平均每公里票价和平均折扣率都是最高的，应该是属于乘坐高等舱的商务人员，应该重点保持的对象，也是需要重点发展的对象，另外应该积极采取相关的优惠政策是他们的乘坐次数增加"
   ]
  },
  {
   "cell_type": "markdown",
   "metadata": {},
   "source": [
    "5.第五簇人群，5443人， 总里程和飞行次数都是最多的，而且平均每公里票价也较高，是重点保持对象"
   ]
  },
  {
   "cell_type": "markdown",
   "metadata": {},
   "source": [
    "分析完毕，结果表明价值不大的第二三簇的客户数最多，而价值较大的第四五簇的人数较少。"
   ]
  },
  {
   "cell_type": "markdown",
   "metadata": {},
   "source": [
    "### 编程要求"
   ]
  },
  {
   "cell_type": "code",
   "execution_count": 11,
   "metadata": {},
   "outputs": [
    {
     "ename": "IndentationError",
     "evalue": "unindent does not match any outer indentation level (<tokenize>, line 15)",
     "output_type": "error",
     "traceback": [
      "\u001b[1;36m  File \u001b[1;32m\"<tokenize>\"\u001b[1;36m, line \u001b[1;32m15\u001b[0m\n\u001b[1;33m    nums, SSE = test_Kmeans_nclusters(filter_zscore_data)\u001b[0m\n\u001b[1;37m    ^\u001b[0m\n\u001b[1;31mIndentationError\u001b[0m\u001b[1;31m:\u001b[0m unindent does not match any outer indentation level\n"
     ]
    }
   ],
   "source": [
    "def distEclud(vecA, vecB):\n",
    "    \"\"\"\n",
    "    计算两个向量的欧式距离的平方，并返回\n",
    "    \"\"\"\n",
    "    return np.sum(np.power(vecA - vecB, 2))\n",
    " \n",
    "def test_Kmeans_nclusters(data_train):\n",
    "    \"\"\"\n",
    "    计算不同的k值时，SSE的大小变化\n",
    "    \"\"\"\n",
    "    ********Begin***********\n",
    "    \n",
    "    ********End*************\n",
    " \n",
    " nums, SSE = test_Kmeans_nclusters(filter_zscore_data)"
   ]
  },
  {
   "cell_type": "markdown",
   "metadata": {},
   "source": [
    "### 参考答案"
   ]
  },
  {
   "cell_type": "code",
   "execution_count": null,
   "metadata": {},
   "outputs": [],
   "source": [
    "def distEclud(vecA, vecB):\n",
    "    \"\"\"\n",
    "    计算两个向量的欧式距离的平方，并返回\n",
    "    \"\"\"\n",
    "    return np.sum(np.power(vecA - vecB, 2))\n",
    " \n",
    "def test_Kmeans_nclusters(data_train):\n",
    "    \"\"\"\n",
    "    计算不同的k值时，SSE的大小变化\n",
    "    \"\"\"\n",
    "    data_train = data_train.values\n",
    "    nums=range(2,10)\n",
    "    SSE = []\n",
    "    for num in nums:\n",
    "        sse = 0\n",
    "        kmodel = KMeans(n_clusters=num, n_jobs=4)\n",
    "        kmodel.fit(data_train)\n",
    "        # 簇中心\n",
    "        cluster_ceter_list = kmodel.cluster_centers_\n",
    "        # 个样本属于的簇序号列表\n",
    "        cluster_list = kmodel.labels_.tolist()\n",
    "        for index in  range(len(data)):\n",
    "            cluster_num = cluster_list[index]\n",
    "            sse += distEclud(data_train[index, :], cluster_ceter_list[cluster_num])\n",
    "        print(\"簇数是\",num , \"时； SSE是\", sse)\n",
    "        SSE.append(sse)\n",
    "    return nums, SSE\n",
    " \n",
    "nums, SSE = test_Kmeans_nclusters(filter_zscore_data)"
   ]
  }
 ],
 "metadata": {
  "kernelspec": {
   "display_name": "Python 3",
   "language": "python",
   "name": "python3"
  },
  "language_info": {
   "codemirror_mode": {
    "name": "ipython",
    "version": 3
   },
   "file_extension": ".py",
   "mimetype": "text/x-python",
   "name": "python",
   "nbconvert_exporter": "python",
   "pygments_lexer": "ipython3",
   "version": "3.8.2"
  }
 },
 "nbformat": 4,
 "nbformat_minor": 4
}
