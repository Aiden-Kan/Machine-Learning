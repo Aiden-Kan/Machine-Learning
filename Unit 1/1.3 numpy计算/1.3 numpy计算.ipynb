{
 "cells": [
  {
   "cell_type": "markdown",
   "id": "infrared-sword",
   "metadata": {},
   "source": [
    "## 任务描述"
   ]
  },
  {
   "cell_type": "markdown",
   "id": "joint-evidence",
   "metadata": {},
   "source": [
    "1.掌握Numpy数组基本运算；\n",
    "\n",
    "2.掌握Numpy矩阵基本运算。"
   ]
  },
  {
   "cell_type": "markdown",
   "id": "informational-sustainability",
   "metadata": {},
   "source": [
    "## 相关知识"
   ]
  },
  {
   "cell_type": "markdown",
   "id": "protected-joshua",
   "metadata": {},
   "source": [
    "**数组加减乘除**"
   ]
  },
  {
   "cell_type": "code",
   "execution_count": 1,
   "id": "wooden-shooting",
   "metadata": {},
   "outputs": [],
   "source": [
    "import numpy as np"
   ]
  },
  {
   "cell_type": "code",
   "execution_count": 2,
   "id": "motivated-syracuse",
   "metadata": {},
   "outputs": [],
   "source": [
    "a = np.array( [20,30,40,50] )\n",
    "b = np.arange(2,6)"
   ]
  },
  {
   "cell_type": "markdown",
   "id": "sufficient-filing",
   "metadata": {},
   "source": [
    "通过上一节的学习，我们应该知道b的数组究竟是什么样的，打印出来看看吧"
   ]
  },
  {
   "cell_type": "code",
   "execution_count": 3,
   "id": "tested-submission",
   "metadata": {},
   "outputs": [
    {
     "name": "stdout",
     "output_type": "stream",
     "text": [
      "[2 3 4 5]\n"
     ]
    }
   ],
   "source": [
    "print(b)"
   ]
  },
  {
   "cell_type": "code",
   "execution_count": 4,
   "id": "unusual-frontier",
   "metadata": {},
   "outputs": [
    {
     "name": "stdout",
     "output_type": "stream",
     "text": [
      "[22 33 44 55]\n"
     ]
    }
   ],
   "source": [
    "c=a+b\n",
    "print(c)"
   ]
  },
  {
   "cell_type": "code",
   "execution_count": 5,
   "id": "alternative-finger",
   "metadata": {},
   "outputs": [
    {
     "name": "stdout",
     "output_type": "stream",
     "text": [
      "[18 27 36 45]\n"
     ]
    }
   ],
   "source": [
    "c=a-b\n",
    "print(c)"
   ]
  },
  {
   "cell_type": "code",
   "execution_count": 6,
   "id": "tender-proxy",
   "metadata": {},
   "outputs": [
    {
     "name": "stdout",
     "output_type": "stream",
     "text": [
      "[ 40  90 160 250]\n"
     ]
    }
   ],
   "source": [
    "c=a*b\n",
    "print(c)"
   ]
  },
  {
   "cell_type": "code",
   "execution_count": 7,
   "id": "permanent-forge",
   "metadata": {},
   "outputs": [
    {
     "name": "stdout",
     "output_type": "stream",
     "text": [
      "[10. 10. 10. 10.]\n"
     ]
    }
   ],
   "source": [
    "c=a/b\n",
    "print(c)"
   ]
  },
  {
   "cell_type": "markdown",
   "id": "functioning-limitation",
   "metadata": {},
   "source": [
    "**乘方**"
   ]
  },
  {
   "cell_type": "markdown",
   "id": "resistant-retrieval",
   "metadata": {},
   "source": [
    "有所不同的是，在Numpy中，想要求出矩阵中各个元素的乘方需要依赖双星符号  **"
   ]
  },
  {
   "cell_type": "code",
   "execution_count": 8,
   "id": "atmospheric-covering",
   "metadata": {},
   "outputs": [
    {
     "name": "stdout",
     "output_type": "stream",
     "text": [
      "[ 4  9 16 25]\n"
     ]
    }
   ],
   "source": [
    "c=b**2 \n",
    "print(c)"
   ]
  },
  {
   "cell_type": "markdown",
   "id": "biblical-ordinance",
   "metadata": {},
   "source": [
    "**逻辑判断**"
   ]
  },
  {
   "cell_type": "markdown",
   "id": "encouraging-accordance",
   "metadata": {},
   "source": [
    "在脚本中对print函数进行一些修改可以进行逻辑判断："
   ]
  },
  {
   "cell_type": "code",
   "execution_count": 9,
   "id": "graphic-purchase",
   "metadata": {},
   "outputs": [
    {
     "name": "stdout",
     "output_type": "stream",
     "text": [
      "[2 3 4 5]\n",
      "[ True False False False]\n"
     ]
    }
   ],
   "source": [
    "print(b)\n",
    "print(b<3)"
   ]
  },
  {
   "cell_type": "markdown",
   "id": "dangerous-hierarchy",
   "metadata": {},
   "source": [
    "**数学函数**"
   ]
  },
  {
   "cell_type": "markdown",
   "id": "inside-turkish",
   "metadata": {},
   "source": [
    "Numpy中具有很多的数学函数工具，比如三角函数等，当我们需要对矩阵中每一项元素进行函数运算时，可以很简便的调用它们"
   ]
  },
  {
   "cell_type": "markdown",
   "id": "pressed-rochester",
   "metadata": {},
   "source": [
    "**sin()函数**"
   ]
  },
  {
   "cell_type": "code",
   "execution_count": 10,
   "id": "hundred-pacific",
   "metadata": {},
   "outputs": [
    {
     "name": "stdout",
     "output_type": "stream",
     "text": [
      "[ 9.12945251 -9.88031624  7.4511316  -2.62374854]\n"
     ]
    }
   ],
   "source": [
    "c=10*np.sin(a)\n",
    "print(c)"
   ]
  },
  {
   "cell_type": "markdown",
   "id": "advanced-williams",
   "metadata": {},
   "source": [
    "**sum(), min(), max()函数**"
   ]
  },
  {
   "cell_type": "code",
   "execution_count": 11,
   "id": "commercial-wrong",
   "metadata": {},
   "outputs": [
    {
     "name": "stdout",
     "output_type": "stream",
     "text": [
      "[[0.22795901 0.11353207 0.50069315 0.40661031]\n",
      " [0.63671835 0.0974037  0.01259336 0.65392103]]\n"
     ]
    }
   ],
   "source": [
    "a=np.random.random((2,4))  #random()随机生成数字，\n",
    "print(a)"
   ]
  },
  {
   "cell_type": "code",
   "execution_count": 12,
   "id": "other-grammar",
   "metadata": {},
   "outputs": [
    {
     "name": "stdout",
     "output_type": "stream",
     "text": [
      "总和sum为： 2.64943098067479\n",
      "最小值min为： 0.012593358784842024\n",
      "最大值max为： 0.6539210279076999\n"
     ]
    }
   ],
   "source": [
    "print('总和sum为：',np.sum(a))\n",
    "print('最小值min为：',np.min(a))\n",
    "print('最大值max为：',np.max(a))"
   ]
  },
  {
   "cell_type": "markdown",
   "id": "powered-sunset",
   "metadata": {},
   "source": [
    "**注意：**由于random()函数的随机性，所以每一次运行出来的结果可能不一样哦。"
   ]
  },
  {
   "cell_type": "markdown",
   "id": "offensive-librarian",
   "metadata": {},
   "source": [
    "**argmin()和argmax()索引元素**"
   ]
  },
  {
   "cell_type": "code",
   "execution_count": 13,
   "id": "numerical-flight",
   "metadata": {},
   "outputs": [
    {
     "name": "stdout",
     "output_type": "stream",
     "text": [
      "[[ 2  3  4  5]\n",
      " [ 6  7  8  9]\n",
      " [10 11 12 13]]\n",
      "最小值索引值为： 0\n",
      "最大值索引值为： 11\n"
     ]
    }
   ],
   "source": [
    "A = np.arange(2,14).reshape((3,4))   \n",
    "\n",
    "print(A)\n",
    "print('最小值索引值为：',np.argmin(A))   \n",
    "print('最大值索引值为：',np.argmax(A)) "
   ]
  },
  {
   "cell_type": "markdown",
   "id": "front-headset",
   "metadata": {},
   "source": [
    "其中的 argmin()和 argmax()两个函数分别对应着求矩阵中最小元素和最大元素的索引。相应的，在矩阵的12个元素中，最小值即2，对应索引0，最大值为13，对应索引为11。"
   ]
  },
  {
   "cell_type": "markdown",
   "id": "jewish-administration",
   "metadata": {},
   "source": [
    "**mean()和average()函数求均值**"
   ]
  },
  {
   "cell_type": "markdown",
   "id": "legal-istanbul",
   "metadata": {},
   "source": [
    "如果需要计算统计中的均值，可以利用下面的方式，将整个矩阵的均值求出来："
   ]
  },
  {
   "cell_type": "code",
   "execution_count": 14,
   "id": "valued-juice",
   "metadata": {},
   "outputs": [
    {
     "name": "stdout",
     "output_type": "stream",
     "text": [
      "7.5\n",
      "7.5\n"
     ]
    }
   ],
   "source": [
    "print(np.mean(A))       \n",
    "print(np.average(A))   "
   ]
  },
  {
   "cell_type": "markdown",
   "id": "coupled-grove",
   "metadata": {},
   "source": [
    "**排序函数sort()**"
   ]
  },
  {
   "cell_type": "markdown",
   "id": "polyphonic-myrtle",
   "metadata": {},
   "source": [
    "同样的，我们可以对所有元素进行仿照列表一样的排序操作，但这里的排序函数仍然仅针对每一行进行从小到大排序操作："
   ]
  },
  {
   "cell_type": "code",
   "execution_count": 15,
   "id": "intense-portland",
   "metadata": {},
   "outputs": [
    {
     "name": "stdout",
     "output_type": "stream",
     "text": [
      "排序前的A：\n",
      " [[14 13 12 11]\n",
      " [10  9  8  7]\n",
      " [ 6  5  4  3]]\n",
      "排序后的A:\n",
      " [[11 12 13 14]\n",
      " [ 7  8  9 10]\n",
      " [ 3  4  5  6]]\n"
     ]
    }
   ],
   "source": [
    "A = np.arange(14,2, -1).reshape((3,4)) \n",
    "\n",
    "print('排序前的A：\\n',A)  \n",
    "\n",
    "print('排序后的A:\\n',np.sort(A))    "
   ]
  },
  {
   "cell_type": "markdown",
   "id": "ethical-typing",
   "metadata": {},
   "source": [
    "**Numpy中的乘法运算符 * 指示按元素计算，矩阵乘法可以使用dot函数**"
   ]
  },
  {
   "cell_type": "markdown",
   "id": "cubic-bankruptcy",
   "metadata": {},
   "source": [
    "接下来我们通过两个例子进行对比："
   ]
  },
  {
   "cell_type": "markdown",
   "id": "promotional-mambo",
   "metadata": {},
   "source": [
    "**一维矩阵**"
   ]
  },
  {
   "cell_type": "code",
   "execution_count": 16,
   "id": "respected-montreal",
   "metadata": {},
   "outputs": [
    {
     "name": "stdout",
     "output_type": "stream",
     "text": [
      "[ 2  6 16]\n",
      "24\n"
     ]
    }
   ],
   "source": [
    "a=np.array([2,3,4])\n",
    "b=np.array([1,2,4])\n",
    "print(a*b)\n",
    "print(np.dot(a,b))"
   ]
  },
  {
   "cell_type": "markdown",
   "id": "occasional-springfield",
   "metadata": {},
   "source": [
    "**a * b 计算示意图**\n",
    "\n",
    "![jupyter](https://i.loli.net/2021/05/11/ms1DAfLlJvZaXHw.png)\n",
    "\n",
    "**dot(a ,b)计算示意图**\n",
    "\n",
    "![jupyter](https://i.loli.net/2021/05/11/NitK7xXFkepVbYC.png)"
   ]
  },
  {
   "cell_type": "markdown",
   "id": "strange-filter",
   "metadata": {},
   "source": [
    "**二维矩阵** "
   ]
  },
  {
   "cell_type": "code",
   "execution_count": 17,
   "id": "present-sight",
   "metadata": {},
   "outputs": [
    {
     "name": "stdout",
     "output_type": "stream",
     "text": [
      "[[0 2 3 1]\n",
      " [3 7 7 4]]\n",
      "[[12  5]\n",
      " [12  7]\n",
      " [15  4]\n",
      " [12  6]]\n"
     ]
    }
   ],
   "source": [
    "a=np.array([[0,2,3,1],[3,7,7,4]])\n",
    "b=np.array([[12,5],[12,7],[15,4],[12,6]])\n",
    "print(a)\n",
    "print(b)"
   ]
  },
  {
   "cell_type": "code",
   "execution_count": 18,
   "id": "suburban-idaho",
   "metadata": {},
   "outputs": [
    {
     "ename": "SyntaxError",
     "evalue": "invalid character in identifier (<ipython-input-18-41aa41fb6325>, line 1)",
     "output_type": "error",
     "traceback": [
      "\u001b[1;36m  File \u001b[1;32m\"<ipython-input-18-41aa41fb6325>\"\u001b[1;36m, line \u001b[1;32m1\u001b[0m\n\u001b[1;33m    print（a*b）\u001b[0m\n\u001b[1;37m          ^\u001b[0m\n\u001b[1;31mSyntaxError\u001b[0m\u001b[1;31m:\u001b[0m invalid character in identifier\n"
     ]
    }
   ],
   "source": [
    "print（a*b）"
   ]
  },
  {
   "cell_type": "markdown",
   "id": "simple-sally",
   "metadata": {},
   "source": [
    "可以发现由于矩阵行列不相同，在使用按元素计算的时候就会报错。"
   ]
  },
  {
   "cell_type": "code",
   "execution_count": 19,
   "id": "passing-prior",
   "metadata": {},
   "outputs": [
    {
     "name": "stdout",
     "output_type": "stream",
     "text": [
      "[[ 81  32]\n",
      " [273 116]]\n"
     ]
    }
   ],
   "source": [
    "print(np.dot(a,b))"
   ]
  },
  {
   "cell_type": "markdown",
   "id": "recent-morrison",
   "metadata": {},
   "source": [
    "![jupyter](https://i.loli.net/2021/05/11/fTj5AtQEl7awnsZ.png)"
   ]
  },
  {
   "cell_type": "markdown",
   "id": "focused-seafood",
   "metadata": {},
   "source": [
    "**矩阵的转置**"
   ]
  },
  {
   "cell_type": "markdown",
   "id": "casual-suite",
   "metadata": {},
   "source": [
    "有两种表示方法："
   ]
  },
  {
   "cell_type": "code",
   "execution_count": 20,
   "id": "respected-remainder",
   "metadata": {},
   "outputs": [
    {
     "name": "stdout",
     "output_type": "stream",
     "text": [
      "[[14 10  6]\n",
      " [13  9  5]\n",
      " [12  8  4]\n",
      " [11  7  3]]\n",
      "[[14 10  6]\n",
      " [13  9  5]\n",
      " [12  8  4]\n",
      " [11  7  3]]\n"
     ]
    }
   ],
   "source": [
    "A = np.arange(14,2, -1).reshape((3,4))\n",
    "\n",
    "print(np.transpose(A))  \n",
    "\n",
    "print(A.T)"
   ]
  },
  {
   "cell_type": "markdown",
   "id": "norman-jordan",
   "metadata": {},
   "source": [
    "## 编程要求"
   ]
  },
  {
   "cell_type": "markdown",
   "id": "described-mirror",
   "metadata": {},
   "source": [
    "根据Numpy的基本使用方法，按照一下步骤完成任务。\n",
    "\n",
    "1. 随机生成一个3行4列和4行3列的矩阵，其数值范围在1-10之间\n",
    "\n",
    "2. 使用dot函数进行矩阵乘法\n",
    "\n",
    "3. 在结果中找出最大值和最小值以及它们各自的索引"
   ]
  },
  {
   "cell_type": "markdown",
   "id": "surgical-vintage",
   "metadata": {},
   "source": [
    "### 参考答案"
   ]
  },
  {
   "cell_type": "code",
   "execution_count": 21,
   "id": "naval-alarm",
   "metadata": {},
   "outputs": [
    {
     "name": "stdout",
     "output_type": "stream",
     "text": [
      "[[155 136  93]\n",
      " [118  87  74]\n",
      " [181 174 135]]\n",
      "最小值为： 74\n",
      "最大值为： 181\n",
      "最小值索引为： 5\n",
      "最大值索引为： 6\n"
     ]
    }
   ],
   "source": [
    "import numpy as np\n",
    "a=np.random.randint(1,10,(3,4))\n",
    "b=np.random.randint(1,10,(4,3))\n",
    "c=np.dot(a,b)\n",
    "print(c)\n",
    "print(\"最小值为：\",np.min(c))\n",
    "print(\"最大值为：\",np.max(c))\n",
    "print(\"最小值索引为：\",np.argmin(c))\n",
    "print(\"最大值索引为：\",np.argmax(c))"
   ]
  }
 ],
 "metadata": {
  "kernelspec": {
   "display_name": "Python 3",
   "language": "python",
   "name": "python3"
  },
  "language_info": {
   "codemirror_mode": {
    "name": "ipython",
    "version": 3
   },
   "file_extension": ".py",
   "mimetype": "text/x-python",
   "name": "python",
   "nbconvert_exporter": "python",
   "pygments_lexer": "ipython3",
   "version": "3.8.2"
  }
 },
 "nbformat": 4,
 "nbformat_minor": 5
}
