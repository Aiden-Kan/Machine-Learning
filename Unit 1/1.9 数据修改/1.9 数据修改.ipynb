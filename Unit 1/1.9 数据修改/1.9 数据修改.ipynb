{
 "cells": [
  {
   "cell_type": "markdown",
   "metadata": {},
   "source": [
    "## 任务描述"
   ]
  },
  {
   "cell_type": "markdown",
   "metadata": {},
   "source": [
    "1. 掌握pandas修改数据的方式"
   ]
  },
  {
   "cell_type": "markdown",
   "metadata": {},
   "source": [
    "## 相关知识"
   ]
  },
  {
   "cell_type": "markdown",
   "metadata": {},
   "source": [
    "**创建数据**"
   ]
  },
  {
   "cell_type": "markdown",
   "metadata": {},
   "source": [
    "首先建立了一个 6X4 的矩阵数据。"
   ]
  },
  {
   "cell_type": "code",
   "execution_count": 1,
   "metadata": {},
   "outputs": [],
   "source": [
    "import numpy as np\n",
    "import pandas as pd"
   ]
  },
  {
   "cell_type": "code",
   "execution_count": 3,
   "metadata": {},
   "outputs": [
    {
     "name": "stdout",
     "output_type": "stream",
     "text": [
      "             A   B   C   D\n",
      "2013-01-01   0   1   2   3\n",
      "2013-01-02   4   5   6   7\n",
      "2013-01-03   8   9  10  11\n",
      "2013-01-04  12  13  14  15\n",
      "2013-01-05  16  17  18  19\n",
      "2013-01-06  20  21  22  23\n"
     ]
    }
   ],
   "source": [
    "dates = pd.date_range('20130101', periods=6)\n",
    "df = pd.DataFrame(np.arange(24).reshape((6,4)),index=dates, columns=['A','B','C','D'])\n",
    "print(df)"
   ]
  },
  {
   "cell_type": "markdown",
   "metadata": {},
   "source": [
    "**根据位置设置 loc 和 iloc**"
   ]
  },
  {
   "cell_type": "markdown",
   "metadata": {},
   "source": [
    "我们可以利用索引或者标签确定需要修改值的位置。"
   ]
  },
  {
   "cell_type": "code",
   "execution_count": 4,
   "metadata": {},
   "outputs": [
    {
     "name": "stdout",
     "output_type": "stream",
     "text": [
      "             A     B     C   D\n",
      "2013-01-01   0  2222     2   3\n",
      "2013-01-02   4     5     6   7\n",
      "2013-01-03   8     9  1111  11\n",
      "2013-01-04  12    13    14  15\n",
      "2013-01-05  16    17    18  19\n",
      "2013-01-06  20    21    22  23\n"
     ]
    }
   ],
   "source": [
    "df.iloc[2,2] = 1111\n",
    "df.loc['20130101','B'] = 2222\n",
    "print(df)"
   ]
  },
  {
   "cell_type": "markdown",
   "metadata": {},
   "source": [
    "**根据条件设置**"
   ]
  },
  {
   "cell_type": "markdown",
   "metadata": {},
   "source": [
    "如果现在的判断条件是这样, 我们想要更改 B 中的数, 而更改的位置是取决于 A  的. 对于 A 大于4的位置. 更改 B 在相应位置上的数为0."
   ]
  },
  {
   "cell_type": "code",
   "execution_count": 5,
   "metadata": {},
   "outputs": [
    {
     "name": "stdout",
     "output_type": "stream",
     "text": [
      "             A     B     C   D\n",
      "2013-01-01   0  2222     2   3\n",
      "2013-01-02   4     5     6   7\n",
      "2013-01-03   8     0  1111  11\n",
      "2013-01-04  12     0    14  15\n",
      "2013-01-05  16     0    18  19\n",
      "2013-01-06  20     0    22  23\n"
     ]
    }
   ],
   "source": [
    "df.B[df.A>4] = 0\n",
    "print(df)"
   ]
  },
  {
   "cell_type": "markdown",
   "metadata": {},
   "source": [
    "**按行或列设置** "
   ]
  },
  {
   "cell_type": "markdown",
   "metadata": {},
   "source": [
    "如果对整列做批处理, 加上一列 'F', 并将 F 列全改为 NaN, 如下:"
   ]
  },
  {
   "cell_type": "code",
   "execution_count": 6,
   "metadata": {},
   "outputs": [
    {
     "name": "stdout",
     "output_type": "stream",
     "text": [
      "             A     B     C   D   F\n",
      "2013-01-01   0  2222     2   3 NaN\n",
      "2013-01-02   4     5     6   7 NaN\n",
      "2013-01-03   8     0  1111  11 NaN\n",
      "2013-01-04  12     0    14  15 NaN\n",
      "2013-01-05  16     0    18  19 NaN\n",
      "2013-01-06  20     0    22  23 NaN\n"
     ]
    }
   ],
   "source": [
    "df['F'] = np.nan\n",
    "print(df)"
   ]
  },
  {
   "cell_type": "markdown",
   "metadata": {},
   "source": [
    "**添加数据** "
   ]
  },
  {
   "cell_type": "markdown",
   "metadata": {},
   "source": [
    "用上面的方法也可以加上 Series 序列（但是长度必须对齐）。"
   ]
  },
  {
   "cell_type": "code",
   "execution_count": 7,
   "metadata": {},
   "outputs": [
    {
     "name": "stdout",
     "output_type": "stream",
     "text": [
      "             A     B     C   D   F  E\n",
      "2013-01-01   0  2222     2   3 NaN  1\n",
      "2013-01-02   4     5     6   7 NaN  2\n",
      "2013-01-03   8     0  1111  11 NaN  3\n",
      "2013-01-04  12     0    14  15 NaN  4\n",
      "2013-01-05  16     0    18  19 NaN  5\n",
      "2013-01-06  20     0    22  23 NaN  6\n"
     ]
    }
   ],
   "source": [
    "df['E'] = pd.Series([1,2,3,4,5,6], index=pd.date_range('20130101',periods=6)) \n",
    "print(df)"
   ]
  },
  {
   "cell_type": "markdown",
   "metadata": {},
   "source": [
    "## 编程要求"
   ]
  },
  {
   "cell_type": "code",
   "execution_count": null,
   "metadata": {},
   "outputs": [],
   "source": [
    "根据上述知识，完成以下操作\n",
    "\n",
    "1. 创建一个6行4列的表格型数据\n",
    "1.1. 随机生成6行4列矩阵，数值范围在1-20之间\n",
    "1.2. 行索引为 20210509 - 20210515\n",
    "1.3. 列索引为 A B C D\n",
    "\n",
    "2. 修改第二行1-3列值为56\n",
    "\n",
    "3. 添加“E”列，并将各元素值全部赋值为20"
   ]
  },
  {
   "cell_type": "markdown",
   "metadata": {},
   "source": [
    "### 参考答案"
   ]
  },
  {
   "cell_type": "code",
   "execution_count": 10,
   "metadata": {},
   "outputs": [
    {
     "name": "stdout",
     "output_type": "stream",
     "text": [
      "原矩阵：\n",
      "            A   B   C   D\n",
      "20210509   7  19  10  19\n",
      "20210510  17   4   6   2\n",
      "20210511  18   6  10  19\n",
      "20210512  11   7  16  10\n",
      "20210513  12  14   8   4\n",
      "20210514  18   8   7   1\n",
      "           A   B   C   D   E\n",
      "20210509   7  19  10  19  20\n",
      "20210510  17   4   6   2  20\n",
      "20210511  75  75  75  75  20\n",
      "20210512  11   7  16  10  20\n",
      "20210513  12  14   8   4  20\n",
      "20210514  18   8   7   1  20\n"
     ]
    }
   ],
   "source": [
    "import numpy as np\n",
    "import pandas as pd\n",
    "dates = np.arange(20210509,20210515)\n",
    "df1 = pd.DataFrame(np.random.randint(1,20,(6,4)),index=dates,columns=[\"A\",\"B\",\"C\",\"D\"])\n",
    "print(\"原矩阵：\\n\",df1)\n",
    "df1.iloc[2,:] = np.random.randint(50,100)\n",
    "df1['E'] = 20\n",
    "print(df1)"
   ]
  }
 ],
 "metadata": {
  "kernelspec": {
   "display_name": "Python 3",
   "language": "python",
   "name": "python3"
  },
  "language_info": {
   "codemirror_mode": {
    "name": "ipython",
    "version": 3
   },
   "file_extension": ".py",
   "mimetype": "text/x-python",
   "name": "python",
   "nbconvert_exporter": "python",
   "pygments_lexer": "ipython3",
   "version": "3.8.3"
  }
 },
 "nbformat": 4,
 "nbformat_minor": 5
}
