{
 "cells": [
  {
   "cell_type": "markdown",
   "id": "posted-democracy",
   "metadata": {},
   "source": [
    "## 任务描述"
   ]
  },
  {
   "cell_type": "markdown",
   "id": "underlying-hudson",
   "metadata": {},
   "source": [
    "1. 了解pandas的数据读取和保存\n",
    "\n",
    "2. 掌握pandas的几种合并方法"
   ]
  },
  {
   "cell_type": "markdown",
   "id": "armed-wealth",
   "metadata": {},
   "source": [
    "## 相关知识"
   ]
  },
  {
   "cell_type": "markdown",
   "id": "fifth-stretch",
   "metadata": {},
   "source": [
    "**Pandas导入导出**"
   ]
  },
  {
   "cell_type": "markdown",
   "id": "brutal-finger",
   "metadata": {},
   "source": [
    "**要点** \n",
    "\n",
    "pandas可以读取与存取的资料格式有很多种，像**csv、excel、json、html与pickle**等"
   ]
  },
  {
   "cell_type": "markdown",
   "id": "undefined-locator",
   "metadata": {},
   "source": [
    "**读取csv**"
   ]
  },
  {
   "cell_type": "code",
   "execution_count": 1,
   "id": "welcome-french",
   "metadata": {},
   "outputs": [
    {
     "name": "stdout",
     "output_type": "stream",
     "text": [
      "   square_feet  price\n",
      "0          150   6450\n",
      "1          200   7450\n",
      "2          250   8450\n",
      "3          300   9450\n",
      "4          350  11450\n",
      "5          400  15450\n",
      "6          600  18450\n"
     ]
    }
   ],
   "source": [
    "import pandas as pd #加载模块\n",
    "\n",
    "#读取csv\n",
    "data = pd.read_csv('../../data/1.10/input_data.csv')\n",
    "\n",
    "#打印出data\n",
    "print(data)"
   ]
  },
  {
   "cell_type": "markdown",
   "id": "favorite-complexity",
   "metadata": {},
   "source": [
    "将资料存取成pickle "
   ]
  },
  {
   "cell_type": "code",
   "execution_count": 2,
   "id": "wooden-fitness",
   "metadata": {},
   "outputs": [],
   "source": [
    "data.to_pickle('../../data/1.10/input_data.pickle')"
   ]
  },
  {
   "cell_type": "markdown",
   "id": "twenty-witch",
   "metadata": {},
   "source": [
    "**Pandas合并**"
   ]
  },
  {
   "cell_type": "markdown",
   "id": "unlikely-species",
   "metadata": {},
   "source": [
    "**concat合并要点**"
   ]
  },
  {
   "cell_type": "markdown",
   "id": "norman-ready",
   "metadata": {},
   "source": [
    "pandas处理多组数据的时候往往会要用到数据的合并处理,使用 concat是一种基本的合并方式.而且concat中有很多参数可以调整,合并成你想要的数据形式."
   ]
  },
  {
   "cell_type": "markdown",
   "id": "committed-newsletter",
   "metadata": {},
   "source": [
    "**axis (合并方向)** "
   ]
  },
  {
   "cell_type": "markdown",
   "id": "second-northern",
   "metadata": {},
   "source": [
    "axis=0是预设值，因此未设定任何参数时，函数默认axis=0。"
   ]
  },
  {
   "cell_type": "code",
   "execution_count": 3,
   "id": "current-promotion",
   "metadata": {},
   "outputs": [
    {
     "name": "stdout",
     "output_type": "stream",
     "text": [
      "     a    b    c    d\n",
      "0  0.0  0.0  0.0  0.0\n",
      "1  0.0  0.0  0.0  0.0\n",
      "2  0.0  0.0  0.0  0.0\n",
      "0  1.0  1.0  1.0  1.0\n",
      "1  1.0  1.0  1.0  1.0\n",
      "2  1.0  1.0  1.0  1.0\n",
      "0  2.0  2.0  2.0  2.0\n",
      "1  2.0  2.0  2.0  2.0\n",
      "2  2.0  2.0  2.0  2.0\n"
     ]
    }
   ],
   "source": [
    "import pandas as pd\n",
    "import numpy as np\n",
    "\n",
    "#定义资料集\n",
    "df1 = pd.DataFrame(np.ones((3,4))*0, columns=['a','b','c','d'])\n",
    "df2 = pd.DataFrame(np.ones((3,4))*1, columns=['a','b','c','d'])\n",
    "df3 = pd.DataFrame(np.ones((3,4))*2, columns=['a','b','c','d'])\n",
    "\n",
    "#concat纵向合并\n",
    "res = pd.concat([df1, df2, df3], axis=0)\n",
    "\n",
    "#打印结果\n",
    "print(res)"
   ]
  },
  {
   "cell_type": "markdown",
   "id": "residential-synthetic",
   "metadata": {},
   "source": [
    "仔细观察会发现结果的index是0, 1, 2, 0, 1, 2, 0, 1, 2，若要将index重置，请看**例子二**。"
   ]
  },
  {
   "cell_type": "markdown",
   "id": "social-dressing",
   "metadata": {},
   "source": [
    "**ignore_index (重置 index)** "
   ]
  },
  {
   "cell_type": "code",
   "execution_count": 4,
   "id": "opened-diesel",
   "metadata": {},
   "outputs": [
    {
     "name": "stdout",
     "output_type": "stream",
     "text": [
      "     a    b    c    d\n",
      "0  0.0  0.0  0.0  0.0\n",
      "1  0.0  0.0  0.0  0.0\n",
      "2  0.0  0.0  0.0  0.0\n",
      "3  1.0  1.0  1.0  1.0\n",
      "4  1.0  1.0  1.0  1.0\n",
      "5  1.0  1.0  1.0  1.0\n",
      "6  2.0  2.0  2.0  2.0\n",
      "7  2.0  2.0  2.0  2.0\n",
      "8  2.0  2.0  2.0  2.0\n"
     ]
    }
   ],
   "source": [
    "#承上一个例子，并将index_ignore设定为True\n",
    "res = pd.concat([df1, df2, df3], axis=0, ignore_index=True)\n",
    "\n",
    "#打印结果\n",
    "print(res)"
   ]
  },
  {
   "cell_type": "markdown",
   "id": "through-protest",
   "metadata": {},
   "source": [
    "**join (合并方式)** "
   ]
  },
  {
   "cell_type": "markdown",
   "id": "automotive-diana",
   "metadata": {},
   "source": [
    "join[‘inner’，‘outer’]\n",
    "\n",
    "join='outer'为预设值，因此未设定任何参数时，函数默认join='outer'。此方式是依照column来做纵向合并，有相同的column上下合并在一起，其他独自的column个自成列，原本没有值的位置皆以NaN填充。"
   ]
  },
  {
   "cell_type": "code",
   "execution_count": 5,
   "id": "valued-tension",
   "metadata": {},
   "outputs": [
    {
     "name": "stdout",
     "output_type": "stream",
     "text": [
      "     a    b    c    d    e\n",
      "1  0.0  0.0  0.0  0.0  NaN\n",
      "2  0.0  0.0  0.0  0.0  NaN\n",
      "3  0.0  0.0  0.0  0.0  NaN\n",
      "2  NaN  1.0  1.0  1.0  1.0\n",
      "3  NaN  1.0  1.0  1.0  1.0\n",
      "4  NaN  1.0  1.0  1.0  1.0\n"
     ]
    }
   ],
   "source": [
    "import pandas as pd\n",
    "import numpy as np\n",
    "\n",
    "#定义资料集\n",
    "df1 = pd.DataFrame(np.ones((3,4))*0, columns=['a','b','c','d'], index=[1,2,3])\n",
    "df2 = pd.DataFrame(np.ones((3,4))*1, columns=['b','c','d','e'], index=[2,3,4])\n",
    "\n",
    "#纵向\"外\"合并df1与df2\n",
    "res = pd.concat([df1, df2], axis=0, join='outer')\n",
    "\n",
    "print(res)"
   ]
  },
  {
   "cell_type": "markdown",
   "id": "realistic-measurement",
   "metadata": {},
   "source": [
    "join='inner'原理同上个例子的说明，但只有相同的`column`合并在一起，其他的会被抛弃。"
   ]
  },
  {
   "cell_type": "code",
   "execution_count": 6,
   "id": "basic-ottawa",
   "metadata": {},
   "outputs": [
    {
     "name": "stdout",
     "output_type": "stream",
     "text": [
      "     b    c    d\n",
      "1  0.0  0.0  0.0\n",
      "2  0.0  0.0  0.0\n",
      "3  0.0  0.0  0.0\n",
      "2  1.0  1.0  1.0\n",
      "3  1.0  1.0  1.0\n",
      "4  1.0  1.0  1.0\n",
      "     b    c    d\n",
      "0  0.0  0.0  0.0\n",
      "1  0.0  0.0  0.0\n",
      "2  0.0  0.0  0.0\n",
      "3  1.0  1.0  1.0\n",
      "4  1.0  1.0  1.0\n",
      "5  1.0  1.0  1.0\n"
     ]
    }
   ],
   "source": [
    "#承上一个例子\n",
    "\n",
    "#纵向\"内\"合并df1与df2\n",
    "res = pd.concat([df1, df2], axis=0, join='inner')\n",
    "\n",
    "#打印结果\n",
    "print(res)\n",
    "#重置index并打印结果\n",
    "res = pd.concat([df1, df2], axis=0, join='inner', ignore_index=True)\n",
    "print(res)"
   ]
  },
  {
   "cell_type": "markdown",
   "id": "german-washer",
   "metadata": {},
   "source": [
    "**append (添加数据)** "
   ]
  },
  {
   "cell_type": "markdown",
   "id": "strange-process",
   "metadata": {},
   "source": [
    "append只有纵向合并，没有横向合并。"
   ]
  },
  {
   "cell_type": "code",
   "execution_count": 7,
   "id": "auburn-techno",
   "metadata": {},
   "outputs": [
    {
     "name": "stdout",
     "output_type": "stream",
     "text": [
      "     a    b    c    d\n",
      "0  0.0  0.0  0.0  0.0\n",
      "1  0.0  0.0  0.0  0.0\n",
      "2  0.0  0.0  0.0  0.0\n",
      "3  1.0  1.0  1.0  1.0\n",
      "4  1.0  1.0  1.0  1.0\n",
      "5  1.0  1.0  1.0  1.0\n",
      "     a    b    c    d\n",
      "0  0.0  0.0  0.0  0.0\n",
      "1  0.0  0.0  0.0  0.0\n",
      "2  0.0  0.0  0.0  0.0\n",
      "3  1.0  1.0  1.0  1.0\n",
      "4  1.0  1.0  1.0  1.0\n",
      "5  1.0  1.0  1.0  1.0\n",
      "6  1.0  1.0  1.0  1.0\n",
      "7  1.0  1.0  1.0  1.0\n",
      "8  1.0  1.0  1.0  1.0\n"
     ]
    }
   ],
   "source": [
    "import pandas as pd\n",
    "import numpy as np\n",
    "\n",
    "#定义资料集\n",
    "df1 = pd.DataFrame(np.ones((3,4))*0, columns=['a','b','c','d'])\n",
    "df2 = pd.DataFrame(np.ones((3,4))*1, columns=['a','b','c','d'])\n",
    "df3 = pd.DataFrame(np.ones((3,4))*1, columns=['a','b','c','d'])\n",
    "\n",
    "#将df2合并到df1的下面，以及重置index，并打印出结果\n",
    "res = df1.append(df2, ignore_index=True)\n",
    "print(res)\n",
    "\n",
    "#合并多个df，将df2与df3合并至df1的下面，以及重置index，并打印出结果\n",
    "res = df1.append([df2, df3], ignore_index=True)\n",
    "print(res)\n"
   ]
  },
  {
   "cell_type": "markdown",
   "id": "desirable-impossible",
   "metadata": {},
   "source": [
    "**merge合并要点** "
   ]
  },
  {
   "cell_type": "markdown",
   "id": "transparent-reaction",
   "metadata": {},
   "source": [
    "pandas中的merge和concat类似,但主要是用于**两组有key column的数据**,统一索引的数据. 通常也被用在DataFrame的处理当中."
   ]
  },
  {
   "cell_type": "code",
   "execution_count": 8,
   "id": "downtown-tiger",
   "metadata": {},
   "outputs": [
    {
     "name": "stdout",
     "output_type": "stream",
     "text": [
      "  key   A   B\n",
      "0  K0  A0  B0\n",
      "1  K1  A1  B1\n",
      "2  K2  A2  B2\n",
      "3  K3  A3  B3\n",
      "  key   C   D\n",
      "0  K0  C0  D0\n",
      "1  K1  C1  D1\n",
      "2  K2  C2  D2\n",
      "3  K3  C3  D3\n",
      "  key   A   B   C   D\n",
      "0  K0  A0  B0  C0  D0\n",
      "1  K1  A1  B1  C1  D1\n",
      "2  K2  A2  B2  C2  D2\n",
      "3  K3  A3  B3  C3  D3\n"
     ]
    }
   ],
   "source": [
    "import pandas as pd\n",
    "\n",
    "#定义资料集并打印出\n",
    "left = pd.DataFrame({'key': ['K0', 'K1', 'K2', 'K3'],\n",
    "                             'A': ['A0', 'A1', 'A2', 'A3'],\n",
    "                             'B': ['B0', 'B1', 'B2', 'B3']})\n",
    "right = pd.DataFrame({'key': ['K0', 'K1', 'K2', 'K3'],\n",
    "                              'C': ['C0', 'C1', 'C2', 'C3'],\n",
    "                              'D': ['D0', 'D1', 'D2', 'D3']})\n",
    "\n",
    "print(left)\n",
    "\n",
    "print(right)\n",
    "\n",
    "#依据key column合并，并打印出\n",
    "res = pd.merge(left, right, on='key')\n",
    "\n",
    "print(res)"
   ]
  },
  {
   "cell_type": "markdown",
   "id": "superior-essay",
   "metadata": {},
   "source": [
    "## 编程要求"
   ]
  },
  {
   "cell_type": "markdown",
   "id": "median-split",
   "metadata": {},
   "source": [
    "根据所学知识，读取data下1.3文件夹中的test1.csv和test2.csv\n",
    "并将其合并为如下模样：\n",
    "![jupyter](https://i.loli.net/2021/05/13/s4v75u3US9NlKCQ.png)\n"
   ]
  },
  {
   "cell_type": "markdown",
   "id": "compliant-daughter",
   "metadata": {},
   "source": [
    "### 参考答案"
   ]
  },
  {
   "cell_type": "code",
   "execution_count": null,
   "id": "naked-pepper",
   "metadata": {},
   "outputs": [],
   "source": [
    "import pandas as pd \n",
    "\n",
    "data1=pd.read_csv('../../data/1.10/test1.csv')\n",
    "data2=pd.read_csv('../../data/1.10/test2.csv')\n",
    "res = pd.concat([data1,data2], axis=0, ignore_index=True)\n",
    "print(res)"
   ]
  }
 ],
 "metadata": {
  "kernelspec": {
   "display_name": "Python 3",
   "language": "python",
   "name": "python3"
  },
  "language_info": {
   "codemirror_mode": {
    "name": "ipython",
    "version": 3
   },
   "file_extension": ".py",
   "mimetype": "text/x-python",
   "name": "python",
   "nbconvert_exporter": "python",
   "pygments_lexer": "ipython3",
   "version": "3.8.2"
  }
 },
 "nbformat": 4,
 "nbformat_minor": 5
}
