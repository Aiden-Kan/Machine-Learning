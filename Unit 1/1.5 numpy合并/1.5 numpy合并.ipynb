{
 "cells": [
  {
   "cell_type": "markdown",
   "metadata": {},
   "source": [
    "## 任务描述"
   ]
  },
  {
   "cell_type": "markdown",
   "metadata": {},
   "source": [
    "1. 掌握Numpy的合并"
   ]
  },
  {
   "cell_type": "markdown",
   "metadata": {},
   "source": [
    "## 相关知识"
   ]
  },
  {
   "cell_type": "markdown",
   "metadata": {},
   "source": [
    "**np.vstack() 竖直合并**"
   ]
  },
  {
   "cell_type": "markdown",
   "metadata": {},
   "source": [
    "对于一个array的合并，我们可以想到按行、按列等多种方式进行合并。首先先看一个例子："
   ]
  },
  {
   "cell_type": "code",
   "execution_count": 1,
   "metadata": {},
   "outputs": [
    {
     "name": "stdout",
     "output_type": "stream",
     "text": [
      "[[1 1 1]\n",
      " [2 2 2]]\n"
     ]
    }
   ],
   "source": [
    "import numpy as np\n",
    "A = np.array([1,1,1])\n",
    "B = np.array([2,2,2])\n",
    "         \n",
    "print(np.vstack((A,B)))    # vertical stack"
   ]
  },
  {
   "cell_type": "markdown",
   "metadata": {},
   "source": [
    "**vertical stack本身属于一种上下合并，即对括号中的两个整体进行对应操作。** \n",
    "\n",
    "此时我们对组合而成的矩阵进行属性探究："
   ]
  },
  {
   "cell_type": "code",
   "execution_count": 2,
   "metadata": {},
   "outputs": [
    {
     "name": "stdout",
     "output_type": "stream",
     "text": [
      "(3,) (2, 3)\n"
     ]
    }
   ],
   "source": [
    "C = np.vstack((A,B))      \n",
    "print(A.shape,C.shape)"
   ]
  },
  {
   "cell_type": "markdown",
   "metadata": {},
   "source": [
    "**np.hstack() 水平合并**"
   ]
  },
  {
   "cell_type": "markdown",
   "metadata": {},
   "source": [
    "利用shape函数可以让我们很容易地知道A和C的属性，从打印出的结果来看，A仅仅是一个拥有3项元素的数组（数列），而合并后得到的C是一个2行3列的矩阵。\n",
    "\n",
    "介绍完了上下合并，我们来说说左右合并："
   ]
  },
  {
   "cell_type": "code",
   "execution_count": 3,
   "metadata": {},
   "outputs": [
    {
     "name": "stdout",
     "output_type": "stream",
     "text": [
      "[1 1 1 2 2 2]\n"
     ]
    }
   ],
   "source": [
    "D = np.hstack((A,B))       # horizontal stack\n",
    "\n",
    "print(D)"
   ]
  },
  {
   "cell_type": "code",
   "execution_count": 4,
   "metadata": {},
   "outputs": [
    {
     "name": "stdout",
     "output_type": "stream",
     "text": [
      "(3,) (6,)\n"
     ]
    }
   ],
   "source": [
    "print(A.shape,D.shape)"
   ]
  },
  {
   "cell_type": "markdown",
   "metadata": {},
   "source": [
    "通过打印出的结果可以看出：D本身来源于A，B两个数列的左右合并，而且新生成的D本身也是一个含有6项元素的序列。"
   ]
  },
  {
   "cell_type": "markdown",
   "metadata": {},
   "source": [
    "**np.newaxis()**"
   ]
  },
  {
   "cell_type": "markdown",
   "metadata": {},
   "source": [
    "**使用np.newaxis() ，相当于给行或者列加上了一个维度**\n",
    "\n",
    "说完了array的合并，我们稍稍提及一下前一节中转置操作，如果面对如同前文所述的A序列， 转置操作便很有可能无法对其进行转置（因为A并不是矩阵的属性），此时就需要我们借助其他的函数操作进行转置："
   ]
  },
  {
   "cell_type": "code",
   "execution_count": 5,
   "metadata": {},
   "outputs": [
    {
     "name": "stdout",
     "output_type": "stream",
     "text": [
      "[[1 1 1]]\n"
     ]
    }
   ],
   "source": [
    "print(A[np.newaxis,:])"
   ]
  },
  {
   "cell_type": "code",
   "execution_count": 6,
   "metadata": {},
   "outputs": [
    {
     "name": "stdout",
     "output_type": "stream",
     "text": [
      "(1, 3)\n"
     ]
    }
   ],
   "source": [
    "print(A[np.newaxis,:].shape)"
   ]
  },
  {
   "cell_type": "code",
   "execution_count": 7,
   "metadata": {},
   "outputs": [
    {
     "name": "stdout",
     "output_type": "stream",
     "text": [
      "[[1]\n",
      " [1]\n",
      " [1]]\n"
     ]
    }
   ],
   "source": [
    "print(A[:,np.newaxis])"
   ]
  },
  {
   "cell_type": "code",
   "execution_count": 8,
   "metadata": {},
   "outputs": [
    {
     "name": "stdout",
     "output_type": "stream",
     "text": [
      "(3, 1)\n"
     ]
    }
   ],
   "source": [
    "print(A[:,np.newaxis].shape)"
   ]
  },
  {
   "cell_type": "markdown",
   "metadata": {},
   "source": [
    "此时我们便将具有3个元素的array转换为了1行3列以及3行1列的矩阵了。\n",
    "\n",
    "结合着上面的知识，我们把它综合起来："
   ]
  },
  {
   "cell_type": "code",
   "execution_count": 9,
   "metadata": {},
   "outputs": [
    {
     "name": "stdout",
     "output_type": "stream",
     "text": [
      "[[1 2]\n",
      " [1 2]\n",
      " [1 2]]\n"
     ]
    }
   ],
   "source": [
    "import numpy as np\n",
    "A = np.array([1,1,1])[:,np.newaxis]\n",
    "B = np.array([2,2,2])[:,np.newaxis]\n",
    "         \n",
    "C = np.vstack((A,B))   # vertical stack\n",
    "D = np.hstack((A,B))   # horizontal stack\n",
    "\n",
    "print(D)"
   ]
  },
  {
   "cell_type": "code",
   "execution_count": 10,
   "metadata": {},
   "outputs": [
    {
     "name": "stdout",
     "output_type": "stream",
     "text": [
      "(3, 1) (3, 2)\n"
     ]
    }
   ],
   "source": [
    "print(A.shape,D.shape)"
   ]
  },
  {
   "cell_type": "markdown",
   "metadata": {},
   "source": [
    "**np.concatenate()**"
   ]
  },
  {
   "cell_type": "markdown",
   "metadata": {},
   "source": [
    "当你的合并操作需要针对多个矩阵或序列时，借助concatenate函数可能会让你使用起来比前述的函数更加方便："
   ]
  },
  {
   "cell_type": "code",
   "execution_count": 11,
   "metadata": {},
   "outputs": [
    {
     "name": "stdout",
     "output_type": "stream",
     "text": [
      "[[1]\n",
      " [1]\n",
      " [1]\n",
      " [2]\n",
      " [2]\n",
      " [2]\n",
      " [2]\n",
      " [2]\n",
      " [2]\n",
      " [1]\n",
      " [1]\n",
      " [1]]\n"
     ]
    }
   ],
   "source": [
    "C = np.concatenate((A,B,B,A),axis=0)\n",
    "\n",
    "print(C)"
   ]
  },
  {
   "cell_type": "code",
   "execution_count": 12,
   "metadata": {},
   "outputs": [
    {
     "name": "stdout",
     "output_type": "stream",
     "text": [
      "[[1 2 2 1]\n",
      " [1 2 2 1]\n",
      " [1 2 2 1]]\n"
     ]
    }
   ],
   "source": [
    "D = np.concatenate((A,B,B,A),axis=1)\n",
    "\n",
    "print(D)"
   ]
  },
  {
   "cell_type": "markdown",
   "metadata": {},
   "source": [
    "## 编程要求"
   ]
  },
  {
   "cell_type": "markdown",
   "metadata": {},
   "source": [
    "根据上述合并方法，完成以下任务操作\n",
    "\n",
    "1. 随机生成两个3行4列矩阵，数值范围在1-10之间\n",
    "\n",
    "2. 实现其竖直合并和水平合并"
   ]
  },
  {
   "cell_type": "code",
   "execution_count": 13,
   "metadata": {},
   "outputs": [
    {
     "name": "stdout",
     "output_type": "stream",
     "text": [
      "[[3 1 7 5]\n",
      " [3 9 7 8]\n",
      " [4 3 2 8]]\n",
      "[[4 7 1 1]\n",
      " [1 6 8 6]\n",
      " [2 9 8 9]]\n",
      "竖直合并:\n",
      " [[3 1 7 5]\n",
      " [3 9 7 8]\n",
      " [4 3 2 8]\n",
      " [4 7 1 1]\n",
      " [1 6 8 6]\n",
      " [2 9 8 9]]\n",
      "水平合并:\n",
      " [[3 1 7 5 4 7 1 1]\n",
      " [3 9 7 8 1 6 8 6]\n",
      " [4 3 2 8 2 9 8 9]]\n"
     ]
    }
   ],
   "source": [
    "import numpy as np\n",
    "a=np.random.randint(1,10,(3,4))\n",
    "b=np.random.randint(1,10,(3,4))\n",
    "print(a)\n",
    "print(b)\n",
    "print(\"竖直合并:\\n\",np.concatenate((a,b),axis=0))\n",
    "print(\"水平合并:\\n\",np.concatenate((a,b),axis=1))"
   ]
  }
 ],
 "metadata": {
  "kernelspec": {
   "display_name": "Python 3",
   "language": "python",
   "name": "python3"
  },
  "language_info": {
   "codemirror_mode": {
    "name": "ipython",
    "version": 3
   },
   "file_extension": ".py",
   "mimetype": "text/x-python",
   "name": "python",
   "nbconvert_exporter": "python",
   "pygments_lexer": "ipython3",
   "version": "3.8.3"
  }
 },
 "nbformat": 4,
 "nbformat_minor": 5
}
