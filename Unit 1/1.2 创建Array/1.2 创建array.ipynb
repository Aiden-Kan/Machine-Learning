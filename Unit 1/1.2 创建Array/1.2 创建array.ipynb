{
 "cells": [
  {
   "cell_type": "markdown",
   "id": "european-table",
   "metadata": {},
   "source": [
    "## 任务描述"
   ]
  },
  {
   "cell_type": "markdown",
   "id": "olive-democrat",
   "metadata": {},
   "source": [
    "1. 了解Numpy的对象属性；\n",
    "\n",
    "2. 掌握Numpy创建数组array的基本操作。"
   ]
  },
  {
   "cell_type": "markdown",
   "id": "selected-laugh",
   "metadata": {},
   "source": [
    "## 相关知识"
   ]
  },
  {
   "cell_type": "markdown",
   "id": "public-hampshire",
   "metadata": {},
   "source": [
    "**Numpy-简介**"
   ]
  },
  {
   "cell_type": "markdown",
   "id": "southern-whole",
   "metadata": {},
   "source": [
    "Numpy 是一个 Python 包。 它代表 “Numeric Python”。 它是一个由多维数组对象和用于处理数组的例程集合组成的库。"
   ]
  },
  {
   "cell_type": "markdown",
   "id": "unavailable-envelope",
   "metadata": {},
   "source": [
    "**Numpy - ndarray 对象**"
   ]
  },
  {
   "cell_type": "markdown",
   "id": "usual-radiation",
   "metadata": {},
   "source": [
    "Numpy的数组类被称作ndarray。通常被称作数组。注意numpy.array和标准Python库类array.array并不相同，后者只处理一维数组和提供少量功能。\n",
    "\n",
    "\n",
    "**ndarray对象属性：**\n",
    "\n",
    "ndarray.ndim    数组的维度\n",
    "\n",
    "ndarray.shape   行数与列数。 例如一个2行3列的矩阵，它的shape属性将是(2,3)。\n",
    "\n",
    "ndarray.size    数组元素的总个数，等于shape属性中元组元素的乘积。\n",
    "\n",
    "ndarray.dtype   数组的所需数据类型"
   ]
  },
  {
   "cell_type": "markdown",
   "id": "polished-vietnam",
   "metadata": {},
   "source": [
    "**实例1：**"
   ]
  },
  {
   "cell_type": "markdown",
   "id": "painted-metabolism",
   "metadata": {},
   "source": [
    "首先我们先导入模块"
   ]
  },
  {
   "cell_type": "code",
   "execution_count": 1,
   "id": "chief-religion",
   "metadata": {},
   "outputs": [],
   "source": [
    "import numpy as np  #为了方便使用numpy 采用np简写"
   ]
  },
  {
   "cell_type": "code",
   "execution_count": 2,
   "id": "sufficient-andrews",
   "metadata": {},
   "outputs": [
    {
     "name": "stdout",
     "output_type": "stream",
     "text": [
      "[[1 2 3]\n",
      " [2 3 4]]\n"
     ]
    }
   ],
   "source": [
    "#列表转化为矩阵： \n",
    "array = np.array([[1,2,3],[2,3,4]]) \n",
    "print(array) "
   ]
  },
  {
   "cell_type": "markdown",
   "id": "finnish-instruction",
   "metadata": {},
   "source": [
    "接着我们看看这几种属性的结果:"
   ]
  },
  {
   "cell_type": "code",
   "execution_count": 3,
   "id": "unable-brunswick",
   "metadata": {},
   "outputs": [
    {
     "name": "stdout",
     "output_type": "stream",
     "text": [
      "number of dim: 2\n"
     ]
    }
   ],
   "source": [
    "print('number of dim:',array.ndim)  # 维度"
   ]
  },
  {
   "cell_type": "code",
   "execution_count": 4,
   "id": "higher-investing",
   "metadata": {},
   "outputs": [
    {
     "name": "stdout",
     "output_type": "stream",
     "text": [
      "shape : (2, 3)\n"
     ]
    }
   ],
   "source": [
    "print('shape :',array.shape)    # 行数和列数"
   ]
  },
  {
   "cell_type": "code",
   "execution_count": 5,
   "id": "hired-motorcycle",
   "metadata": {},
   "outputs": [
    {
     "name": "stdout",
     "output_type": "stream",
     "text": [
      "size: 6\n"
     ]
    }
   ],
   "source": [
    "print('size:',array.size)   # 元素个数"
   ]
  },
  {
   "cell_type": "code",
   "execution_count": 6,
   "id": "varying-alcohol",
   "metadata": {},
   "outputs": [
    {
     "name": "stdout",
     "output_type": "stream",
     "text": [
      "type: int32\n"
     ]
    }
   ],
   "source": [
    "print('type:',array.dtype) "
   ]
  },
  {
   "cell_type": "markdown",
   "id": "thorough-ivory",
   "metadata": {},
   "source": [
    "**创建Array**"
   ]
  },
  {
   "cell_type": "markdown",
   "id": "jewish-effect",
   "metadata": {},
   "source": [
    "再介绍完Numpy的对象属性之后，我们就来创建array"
   ]
  },
  {
   "cell_type": "markdown",
   "id": "valuable-conditions",
   "metadata": {},
   "source": [
    "**实例2：创建指定数据dtype的数组array**"
   ]
  },
  {
   "cell_type": "code",
   "execution_count": 7,
   "id": "constant-mouse",
   "metadata": {},
   "outputs": [
    {
     "name": "stdout",
     "output_type": "stream",
     "text": [
      "int32\n"
     ]
    }
   ],
   "source": [
    "a = np.array([2,23,4],dtype=np.int32)\n",
    "print(a.dtype)"
   ]
  },
  {
   "cell_type": "markdown",
   "id": "adverse-morrison",
   "metadata": {},
   "source": [
    "**实例3：创建全零数组zeros**"
   ]
  },
  {
   "cell_type": "code",
   "execution_count": 8,
   "id": "stylish-conclusion",
   "metadata": {},
   "outputs": [
    {
     "name": "stdout",
     "output_type": "stream",
     "text": [
      "[[0. 0. 0. 0.]\n",
      " [0. 0. 0. 0.]\n",
      " [0. 0. 0. 0.]]\n"
     ]
    }
   ],
   "source": [
    "b = np.zeros((3,4))\n",
    "print(b)"
   ]
  },
  {
   "cell_type": "markdown",
   "id": "biological-screw",
   "metadata": {},
   "source": [
    "**实例4：创建全一数组ones**"
   ]
  },
  {
   "cell_type": "code",
   "execution_count": 9,
   "id": "immediate-aircraft",
   "metadata": {},
   "outputs": [
    {
     "name": "stdout",
     "output_type": "stream",
     "text": [
      "[[1 1 1 1]\n",
      " [1 1 1 1]\n",
      " [1 1 1 1]]\n"
     ]
    }
   ],
   "source": [
    "c = np.ones((3,4),dtype = int) \n",
    "print(c)"
   ]
  },
  {
   "cell_type": "markdown",
   "id": "taken-prefix",
   "metadata": {},
   "source": [
    "**实例5：创建全空数组empty**"
   ]
  },
  {
   "cell_type": "code",
   "execution_count": 10,
   "id": "level-tackle",
   "metadata": {},
   "outputs": [
    {
     "name": "stdout",
     "output_type": "stream",
     "text": [
      "[[0. 0. 0. 0.]\n",
      " [0. 0. 0. 0.]\n",
      " [0. 0. 0. 0.]]\n"
     ]
    }
   ],
   "source": [
    "d = np.empty((3,4)) # 数据为empty，3行4列，其实每个值都是接近于零的数\n",
    "print(d)"
   ]
  },
  {
   "cell_type": "markdown",
   "id": "black-catholic",
   "metadata": {},
   "source": [
    "**实例6：用arange创建连续数组**"
   ]
  },
  {
   "cell_type": "code",
   "execution_count": 11,
   "id": "verified-addiction",
   "metadata": {},
   "outputs": [
    {
     "name": "stdout",
     "output_type": "stream",
     "text": [
      "[10 12 14 16 18]\n"
     ]
    }
   ],
   "source": [
    "e = np.arange(10,20,2) # 10-19 的数据，2步长\n",
    "print(e)"
   ]
  },
  {
   "cell_type": "markdown",
   "id": "passing-float",
   "metadata": {},
   "source": [
    "**实例7：使用reshape改变数据的形状**"
   ]
  },
  {
   "cell_type": "code",
   "execution_count": 12,
   "id": "moral-kingdom",
   "metadata": {},
   "outputs": [
    {
     "name": "stdout",
     "output_type": "stream",
     "text": [
      "[[ 0  1  2  3]\n",
      " [ 4  5  6  7]\n",
      " [ 8  9 10 11]]\n"
     ]
    }
   ],
   "source": [
    "f = np.arange(12).reshape((3,4))  \n",
    "print(f)"
   ]
  },
  {
   "cell_type": "markdown",
   "id": "random-agenda",
   "metadata": {},
   "source": [
    "**实例8：用linspace创建线段型数据**"
   ]
  },
  {
   "cell_type": "code",
   "execution_count": 13,
   "id": "foster-encyclopedia",
   "metadata": {},
   "outputs": [
    {
     "name": "stdout",
     "output_type": "stream",
     "text": [
      "[ 1.          1.47368421  1.94736842  2.42105263  2.89473684  3.36842105\n",
      "  3.84210526  4.31578947  4.78947368  5.26315789  5.73684211  6.21052632\n",
      "  6.68421053  7.15789474  7.63157895  8.10526316  8.57894737  9.05263158\n",
      "  9.52631579 10.        ]\n"
     ]
    }
   ],
   "source": [
    "a = np.linspace(1,10,20)    # 开始端1，结束端10，且分割成20个数据，生成线段\n",
    "print(a)"
   ]
  },
  {
   "cell_type": "markdown",
   "id": "falling-worker",
   "metadata": {},
   "source": [
    "同样也能进行 reshape 工作:"
   ]
  },
  {
   "cell_type": "code",
   "execution_count": 14,
   "id": "relative-organ",
   "metadata": {},
   "outputs": [
    {
     "name": "stdout",
     "output_type": "stream",
     "text": [
      "[[ 1.          1.47368421  1.94736842  2.42105263]\n",
      " [ 2.89473684  3.36842105  3.84210526  4.31578947]\n",
      " [ 4.78947368  5.26315789  5.73684211  6.21052632]\n",
      " [ 6.68421053  7.15789474  7.63157895  8.10526316]\n",
      " [ 8.57894737  9.05263158  9.52631579 10.        ]]\n"
     ]
    }
   ],
   "source": [
    "a = np.linspace(1,10,20).reshape((5,4)) # 更改shape\n",
    "print(a)"
   ]
  },
  {
   "cell_type": "markdown",
   "id": "certified-scroll",
   "metadata": {},
   "source": [
    "## 编程要求"
   ]
  },
  {
   "cell_type": "markdown",
   "id": "compatible-prayer",
   "metadata": {},
   "source": [
    "复习以上知识，使用Numpy创建一个三维数组，具体要求如下：\n",
    "\n",
    "1.数组长度为45\n",
    "\n",
    "2.shape为(3,3,5)\n",
    "\n",
    "**赶紧实战吧！**"
   ]
  },
  {
   "cell_type": "markdown",
   "id": "macro-hartford",
   "metadata": {},
   "source": [
    "### 参考答案"
   ]
  },
  {
   "cell_type": "code",
   "execution_count": 16,
   "id": "peripheral-beginning",
   "metadata": {},
   "outputs": [
    {
     "name": "stdout",
     "output_type": "stream",
     "text": [
      "[[[ 0  1  2  3  4]\n",
      "  [ 5  6  7  8  9]\n",
      "  [10 11 12 13 14]]\n",
      "\n",
      " [[15 16 17 18 19]\n",
      "  [20 21 22 23 24]\n",
      "  [25 26 27 28 29]]\n",
      "\n",
      " [[30 31 32 33 34]\n",
      "  [35 36 37 38 39]\n",
      "  [40 41 42 43 44]]]\n"
     ]
    }
   ],
   "source": [
    "import numpy as np\n",
    "array=np.arange(45).reshape((3,3,5))\n",
    "print(array)"
   ]
  }
 ],
 "metadata": {
  "kernelspec": {
   "display_name": "Python 3",
   "language": "python",
   "name": "python3"
  },
  "language_info": {
   "codemirror_mode": {
    "name": "ipython",
    "version": 3
   },
   "file_extension": ".py",
   "mimetype": "text/x-python",
   "name": "python",
   "nbconvert_exporter": "python",
   "pygments_lexer": "ipython3",
   "version": "3.8.2"
  }
 },
 "nbformat": 4,
 "nbformat_minor": 5
}
